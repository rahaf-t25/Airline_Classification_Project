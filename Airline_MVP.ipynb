{
 "cells": [
  {
   "cell_type": "code",
   "execution_count": 146,
   "id": "9de10c34",
   "metadata": {},
   "outputs": [],
   "source": [
    "import numpy as np \n",
    "import pandas as pd\n",
    "import matplotlib.pyplot as plt\n",
    "import seaborn as sns\n",
    "import warnings\n",
    "from sklearn.linear_model import LogisticRegression\n",
    "from sklearn.model_selection import train_test_split\n",
    "from sklearn.metrics import classification_report, roc_auc_score, confusion_matrix, roc_curve, accuracy_score\n",
    "from sklearn.preprocessing import StandardScaler\n",
    "from sklearn.neighbors import KNeighborsClassifier\n",
    "from sklearn.ensemble import RandomForestClassifier\n",
    "from sklearn import metrics \n",
    "from sklearn.feature_selection import SelectKBest\n",
    "from sklearn.feature_selection import chi2\n",
    "from sklearn.tree import DecisionTreeClassifier\n",
    "from sklearn.ensemble import StackingClassifier\n",
    "from sklearn.linear_model import LassoCV\n",
    "from sklearn.linear_model import RidgeCV\n",
    "import xgboost as xgb\n",
    "from xgboost.sklearn import XGBClassifier\n",
    "from sklearn import svm"
   ]
  },
  {
   "cell_type": "code",
   "execution_count": 2,
   "id": "01acb298",
   "metadata": {},
   "outputs": [
    {
     "data": {
      "text/html": [
       "<div>\n",
       "<style scoped>\n",
       "    .dataframe tbody tr th:only-of-type {\n",
       "        vertical-align: middle;\n",
       "    }\n",
       "\n",
       "    .dataframe tbody tr th {\n",
       "        vertical-align: top;\n",
       "    }\n",
       "\n",
       "    .dataframe thead th {\n",
       "        text-align: right;\n",
       "    }\n",
       "</style>\n",
       "<table border=\"1\" class=\"dataframe\">\n",
       "  <thead>\n",
       "    <tr style=\"text-align: right;\">\n",
       "      <th></th>\n",
       "      <th>Gender</th>\n",
       "      <th>customer_type</th>\n",
       "      <th>age</th>\n",
       "      <th>type_of_travel</th>\n",
       "      <th>customer_class</th>\n",
       "      <th>flight_distance</th>\n",
       "      <th>inflight_wifi_service</th>\n",
       "      <th>departure_arrival_time_convenient</th>\n",
       "      <th>ease_of_online_booking</th>\n",
       "      <th>gate_location</th>\n",
       "      <th>...</th>\n",
       "      <th>inflight_entertainment</th>\n",
       "      <th>onboard_service</th>\n",
       "      <th>leg_room_service</th>\n",
       "      <th>baggage_handling</th>\n",
       "      <th>checkin_service</th>\n",
       "      <th>inflight_service</th>\n",
       "      <th>cleanliness</th>\n",
       "      <th>departure_delay_in_minutes</th>\n",
       "      <th>arrival_delay_in_minutes</th>\n",
       "      <th>satisfaction</th>\n",
       "    </tr>\n",
       "  </thead>\n",
       "  <tbody>\n",
       "    <tr>\n",
       "      <th>0</th>\n",
       "      <td>Male</td>\n",
       "      <td>Loyal Customer</td>\n",
       "      <td>13</td>\n",
       "      <td>Personal Travel</td>\n",
       "      <td>Eco Plus</td>\n",
       "      <td>460</td>\n",
       "      <td>3</td>\n",
       "      <td>4</td>\n",
       "      <td>3</td>\n",
       "      <td>1</td>\n",
       "      <td>...</td>\n",
       "      <td>5</td>\n",
       "      <td>4</td>\n",
       "      <td>3</td>\n",
       "      <td>4</td>\n",
       "      <td>4</td>\n",
       "      <td>5</td>\n",
       "      <td>5</td>\n",
       "      <td>25</td>\n",
       "      <td>18.0</td>\n",
       "      <td>neutral or dissatisfied</td>\n",
       "    </tr>\n",
       "    <tr>\n",
       "      <th>1</th>\n",
       "      <td>Male</td>\n",
       "      <td>disloyal Customer</td>\n",
       "      <td>25</td>\n",
       "      <td>Business travel</td>\n",
       "      <td>Business</td>\n",
       "      <td>235</td>\n",
       "      <td>3</td>\n",
       "      <td>2</td>\n",
       "      <td>3</td>\n",
       "      <td>3</td>\n",
       "      <td>...</td>\n",
       "      <td>1</td>\n",
       "      <td>1</td>\n",
       "      <td>5</td>\n",
       "      <td>3</td>\n",
       "      <td>1</td>\n",
       "      <td>4</td>\n",
       "      <td>1</td>\n",
       "      <td>1</td>\n",
       "      <td>6.0</td>\n",
       "      <td>neutral or dissatisfied</td>\n",
       "    </tr>\n",
       "    <tr>\n",
       "      <th>2</th>\n",
       "      <td>Female</td>\n",
       "      <td>Loyal Customer</td>\n",
       "      <td>26</td>\n",
       "      <td>Business travel</td>\n",
       "      <td>Business</td>\n",
       "      <td>1142</td>\n",
       "      <td>2</td>\n",
       "      <td>2</td>\n",
       "      <td>2</td>\n",
       "      <td>2</td>\n",
       "      <td>...</td>\n",
       "      <td>5</td>\n",
       "      <td>4</td>\n",
       "      <td>3</td>\n",
       "      <td>4</td>\n",
       "      <td>4</td>\n",
       "      <td>4</td>\n",
       "      <td>5</td>\n",
       "      <td>0</td>\n",
       "      <td>0.0</td>\n",
       "      <td>satisfied</td>\n",
       "    </tr>\n",
       "    <tr>\n",
       "      <th>3</th>\n",
       "      <td>Female</td>\n",
       "      <td>Loyal Customer</td>\n",
       "      <td>25</td>\n",
       "      <td>Business travel</td>\n",
       "      <td>Business</td>\n",
       "      <td>562</td>\n",
       "      <td>2</td>\n",
       "      <td>5</td>\n",
       "      <td>5</td>\n",
       "      <td>5</td>\n",
       "      <td>...</td>\n",
       "      <td>2</td>\n",
       "      <td>2</td>\n",
       "      <td>5</td>\n",
       "      <td>3</td>\n",
       "      <td>1</td>\n",
       "      <td>4</td>\n",
       "      <td>2</td>\n",
       "      <td>11</td>\n",
       "      <td>9.0</td>\n",
       "      <td>neutral or dissatisfied</td>\n",
       "    </tr>\n",
       "    <tr>\n",
       "      <th>4</th>\n",
       "      <td>Male</td>\n",
       "      <td>Loyal Customer</td>\n",
       "      <td>61</td>\n",
       "      <td>Business travel</td>\n",
       "      <td>Business</td>\n",
       "      <td>214</td>\n",
       "      <td>3</td>\n",
       "      <td>3</td>\n",
       "      <td>3</td>\n",
       "      <td>3</td>\n",
       "      <td>...</td>\n",
       "      <td>3</td>\n",
       "      <td>3</td>\n",
       "      <td>4</td>\n",
       "      <td>4</td>\n",
       "      <td>3</td>\n",
       "      <td>3</td>\n",
       "      <td>3</td>\n",
       "      <td>0</td>\n",
       "      <td>0.0</td>\n",
       "      <td>satisfied</td>\n",
       "    </tr>\n",
       "    <tr>\n",
       "      <th>...</th>\n",
       "      <td>...</td>\n",
       "      <td>...</td>\n",
       "      <td>...</td>\n",
       "      <td>...</td>\n",
       "      <td>...</td>\n",
       "      <td>...</td>\n",
       "      <td>...</td>\n",
       "      <td>...</td>\n",
       "      <td>...</td>\n",
       "      <td>...</td>\n",
       "      <td>...</td>\n",
       "      <td>...</td>\n",
       "      <td>...</td>\n",
       "      <td>...</td>\n",
       "      <td>...</td>\n",
       "      <td>...</td>\n",
       "      <td>...</td>\n",
       "      <td>...</td>\n",
       "      <td>...</td>\n",
       "      <td>...</td>\n",
       "      <td>...</td>\n",
       "    </tr>\n",
       "    <tr>\n",
       "      <th>129875</th>\n",
       "      <td>Male</td>\n",
       "      <td>disloyal Customer</td>\n",
       "      <td>34</td>\n",
       "      <td>Business travel</td>\n",
       "      <td>Business</td>\n",
       "      <td>526</td>\n",
       "      <td>3</td>\n",
       "      <td>3</td>\n",
       "      <td>3</td>\n",
       "      <td>1</td>\n",
       "      <td>...</td>\n",
       "      <td>4</td>\n",
       "      <td>3</td>\n",
       "      <td>2</td>\n",
       "      <td>4</td>\n",
       "      <td>4</td>\n",
       "      <td>5</td>\n",
       "      <td>4</td>\n",
       "      <td>0</td>\n",
       "      <td>0.0</td>\n",
       "      <td>neutral or dissatisfied</td>\n",
       "    </tr>\n",
       "    <tr>\n",
       "      <th>129876</th>\n",
       "      <td>Male</td>\n",
       "      <td>Loyal Customer</td>\n",
       "      <td>23</td>\n",
       "      <td>Business travel</td>\n",
       "      <td>Business</td>\n",
       "      <td>646</td>\n",
       "      <td>4</td>\n",
       "      <td>4</td>\n",
       "      <td>4</td>\n",
       "      <td>4</td>\n",
       "      <td>...</td>\n",
       "      <td>4</td>\n",
       "      <td>4</td>\n",
       "      <td>5</td>\n",
       "      <td>5</td>\n",
       "      <td>5</td>\n",
       "      <td>5</td>\n",
       "      <td>4</td>\n",
       "      <td>0</td>\n",
       "      <td>0.0</td>\n",
       "      <td>satisfied</td>\n",
       "    </tr>\n",
       "    <tr>\n",
       "      <th>129877</th>\n",
       "      <td>Female</td>\n",
       "      <td>Loyal Customer</td>\n",
       "      <td>17</td>\n",
       "      <td>Personal Travel</td>\n",
       "      <td>Eco</td>\n",
       "      <td>828</td>\n",
       "      <td>2</td>\n",
       "      <td>5</td>\n",
       "      <td>1</td>\n",
       "      <td>5</td>\n",
       "      <td>...</td>\n",
       "      <td>2</td>\n",
       "      <td>4</td>\n",
       "      <td>3</td>\n",
       "      <td>4</td>\n",
       "      <td>5</td>\n",
       "      <td>4</td>\n",
       "      <td>2</td>\n",
       "      <td>0</td>\n",
       "      <td>0.0</td>\n",
       "      <td>neutral or dissatisfied</td>\n",
       "    </tr>\n",
       "    <tr>\n",
       "      <th>129878</th>\n",
       "      <td>Male</td>\n",
       "      <td>Loyal Customer</td>\n",
       "      <td>14</td>\n",
       "      <td>Business travel</td>\n",
       "      <td>Business</td>\n",
       "      <td>1127</td>\n",
       "      <td>3</td>\n",
       "      <td>3</td>\n",
       "      <td>3</td>\n",
       "      <td>3</td>\n",
       "      <td>...</td>\n",
       "      <td>4</td>\n",
       "      <td>3</td>\n",
       "      <td>2</td>\n",
       "      <td>5</td>\n",
       "      <td>4</td>\n",
       "      <td>5</td>\n",
       "      <td>4</td>\n",
       "      <td>0</td>\n",
       "      <td>0.0</td>\n",
       "      <td>satisfied</td>\n",
       "    </tr>\n",
       "    <tr>\n",
       "      <th>129879</th>\n",
       "      <td>Female</td>\n",
       "      <td>Loyal Customer</td>\n",
       "      <td>42</td>\n",
       "      <td>Personal Travel</td>\n",
       "      <td>Eco</td>\n",
       "      <td>264</td>\n",
       "      <td>2</td>\n",
       "      <td>5</td>\n",
       "      <td>2</td>\n",
       "      <td>5</td>\n",
       "      <td>...</td>\n",
       "      <td>1</td>\n",
       "      <td>1</td>\n",
       "      <td>2</td>\n",
       "      <td>1</td>\n",
       "      <td>1</td>\n",
       "      <td>1</td>\n",
       "      <td>1</td>\n",
       "      <td>0</td>\n",
       "      <td>0.0</td>\n",
       "      <td>neutral or dissatisfied</td>\n",
       "    </tr>\n",
       "  </tbody>\n",
       "</table>\n",
       "<p>129880 rows × 23 columns</p>\n",
       "</div>"
      ],
      "text/plain": [
       "        Gender      customer_type  age   type_of_travel customer_class  \\\n",
       "0         Male     Loyal Customer   13  Personal Travel       Eco Plus   \n",
       "1         Male  disloyal Customer   25  Business travel       Business   \n",
       "2       Female     Loyal Customer   26  Business travel       Business   \n",
       "3       Female     Loyal Customer   25  Business travel       Business   \n",
       "4         Male     Loyal Customer   61  Business travel       Business   \n",
       "...        ...                ...  ...              ...            ...   \n",
       "129875    Male  disloyal Customer   34  Business travel       Business   \n",
       "129876    Male     Loyal Customer   23  Business travel       Business   \n",
       "129877  Female     Loyal Customer   17  Personal Travel            Eco   \n",
       "129878    Male     Loyal Customer   14  Business travel       Business   \n",
       "129879  Female     Loyal Customer   42  Personal Travel            Eco   \n",
       "\n",
       "        flight_distance  inflight_wifi_service  \\\n",
       "0                   460                      3   \n",
       "1                   235                      3   \n",
       "2                  1142                      2   \n",
       "3                   562                      2   \n",
       "4                   214                      3   \n",
       "...                 ...                    ...   \n",
       "129875              526                      3   \n",
       "129876              646                      4   \n",
       "129877              828                      2   \n",
       "129878             1127                      3   \n",
       "129879              264                      2   \n",
       "\n",
       "        departure_arrival_time_convenient  ease_of_online_booking  \\\n",
       "0                                       4                       3   \n",
       "1                                       2                       3   \n",
       "2                                       2                       2   \n",
       "3                                       5                       5   \n",
       "4                                       3                       3   \n",
       "...                                   ...                     ...   \n",
       "129875                                  3                       3   \n",
       "129876                                  4                       4   \n",
       "129877                                  5                       1   \n",
       "129878                                  3                       3   \n",
       "129879                                  5                       2   \n",
       "\n",
       "        gate_location  ...  inflight_entertainment  onboard_service  \\\n",
       "0                   1  ...                       5                4   \n",
       "1                   3  ...                       1                1   \n",
       "2                   2  ...                       5                4   \n",
       "3                   5  ...                       2                2   \n",
       "4                   3  ...                       3                3   \n",
       "...               ...  ...                     ...              ...   \n",
       "129875              1  ...                       4                3   \n",
       "129876              4  ...                       4                4   \n",
       "129877              5  ...                       2                4   \n",
       "129878              3  ...                       4                3   \n",
       "129879              5  ...                       1                1   \n",
       "\n",
       "        leg_room_service  baggage_handling  checkin_service  inflight_service  \\\n",
       "0                      3                 4                4                 5   \n",
       "1                      5                 3                1                 4   \n",
       "2                      3                 4                4                 4   \n",
       "3                      5                 3                1                 4   \n",
       "4                      4                 4                3                 3   \n",
       "...                  ...               ...              ...               ...   \n",
       "129875                 2                 4                4                 5   \n",
       "129876                 5                 5                5                 5   \n",
       "129877                 3                 4                5                 4   \n",
       "129878                 2                 5                4                 5   \n",
       "129879                 2                 1                1                 1   \n",
       "\n",
       "        cleanliness  departure_delay_in_minutes  arrival_delay_in_minutes  \\\n",
       "0                 5                          25                      18.0   \n",
       "1                 1                           1                       6.0   \n",
       "2                 5                           0                       0.0   \n",
       "3                 2                          11                       9.0   \n",
       "4                 3                           0                       0.0   \n",
       "...             ...                         ...                       ...   \n",
       "129875            4                           0                       0.0   \n",
       "129876            4                           0                       0.0   \n",
       "129877            2                           0                       0.0   \n",
       "129878            4                           0                       0.0   \n",
       "129879            1                           0                       0.0   \n",
       "\n",
       "                   satisfaction  \n",
       "0       neutral or dissatisfied  \n",
       "1       neutral or dissatisfied  \n",
       "2                     satisfied  \n",
       "3       neutral or dissatisfied  \n",
       "4                     satisfied  \n",
       "...                         ...  \n",
       "129875  neutral or dissatisfied  \n",
       "129876                satisfied  \n",
       "129877  neutral or dissatisfied  \n",
       "129878                satisfied  \n",
       "129879  neutral or dissatisfied  \n",
       "\n",
       "[129880 rows x 23 columns]"
      ]
     },
     "execution_count": 2,
     "metadata": {},
     "output_type": "execute_result"
    }
   ],
   "source": [
    "df = pd.read_csv('../downloads/Airline.csv',index_col=[0])\n",
    "df"
   ]
  },
  {
   "cell_type": "code",
   "execution_count": 3,
   "id": "92de73a4",
   "metadata": {},
   "outputs": [
    {
     "name": "stdout",
     "output_type": "stream",
     "text": [
      "<class 'pandas.core.frame.DataFrame'>\n",
      "Int64Index: 129880 entries, 0 to 129879\n",
      "Data columns (total 23 columns):\n",
      " #   Column                             Non-Null Count   Dtype  \n",
      "---  ------                             --------------   -----  \n",
      " 0   Gender                             129880 non-null  object \n",
      " 1   customer_type                      129880 non-null  object \n",
      " 2   age                                129880 non-null  int64  \n",
      " 3   type_of_travel                     129880 non-null  object \n",
      " 4   customer_class                     129880 non-null  object \n",
      " 5   flight_distance                    129880 non-null  int64  \n",
      " 6   inflight_wifi_service              129880 non-null  int64  \n",
      " 7   departure_arrival_time_convenient  129880 non-null  int64  \n",
      " 8   ease_of_online_booking             129880 non-null  int64  \n",
      " 9   gate_location                      129880 non-null  int64  \n",
      " 10  food_and_drink                     129880 non-null  int64  \n",
      " 11  online_boarding                    129880 non-null  int64  \n",
      " 12  seat_comfort                       129880 non-null  int64  \n",
      " 13  inflight_entertainment             129880 non-null  int64  \n",
      " 14  onboard_service                    129880 non-null  int64  \n",
      " 15  leg_room_service                   129880 non-null  int64  \n",
      " 16  baggage_handling                   129880 non-null  int64  \n",
      " 17  checkin_service                    129880 non-null  int64  \n",
      " 18  inflight_service                   129880 non-null  int64  \n",
      " 19  cleanliness                        129880 non-null  int64  \n",
      " 20  departure_delay_in_minutes         129880 non-null  int64  \n",
      " 21  arrival_delay_in_minutes           129487 non-null  float64\n",
      " 22  satisfaction                       129880 non-null  object \n",
      "dtypes: float64(1), int64(17), object(5)\n",
      "memory usage: 23.8+ MB\n"
     ]
    }
   ],
   "source": [
    "df.info()"
   ]
  },
  {
   "cell_type": "code",
   "execution_count": 4,
   "id": "d1ea5571",
   "metadata": {},
   "outputs": [],
   "source": [
    "df = df.dropna()"
   ]
  },
  {
   "cell_type": "code",
   "execution_count": 147,
   "id": "380281fb",
   "metadata": {},
   "outputs": [
    {
     "ename": "KeyError",
     "evalue": "\"['age' 'departure_arrival_time_convenient' 'gate_location'\\n 'flight_distance' 'arrival_delay_in_minutes'] not found in axis\"",
     "output_type": "error",
     "traceback": [
      "\u001b[0;31m---------------------------------------------------------------------------\u001b[0m",
      "\u001b[0;31mKeyError\u001b[0m                                  Traceback (most recent call last)",
      "\u001b[0;32m<ipython-input-147-c9cebf4d997b>\u001b[0m in \u001b[0;36m<module>\u001b[0;34m\u001b[0m\n\u001b[1;32m      1\u001b[0m \u001b[0mwarnings\u001b[0m\u001b[0;34m.\u001b[0m\u001b[0mfilterwarnings\u001b[0m\u001b[0;34m(\u001b[0m\u001b[0;34m'ignore'\u001b[0m\u001b[0;34m)\u001b[0m\u001b[0;34m\u001b[0m\u001b[0;34m\u001b[0m\u001b[0m\n\u001b[0;32m----> 2\u001b[0;31m \u001b[0mdf\u001b[0m\u001b[0;34m.\u001b[0m\u001b[0mdrop\u001b[0m\u001b[0;34m(\u001b[0m\u001b[0;34m[\u001b[0m\u001b[0;34m'age'\u001b[0m\u001b[0;34m,\u001b[0m\u001b[0;34m'departure_arrival_time_convenient'\u001b[0m\u001b[0;34m,\u001b[0m\u001b[0;34m'gate_location'\u001b[0m\u001b[0;34m,\u001b[0m\u001b[0;34m'flight_distance'\u001b[0m\u001b[0;34m,\u001b[0m\u001b[0;34m'arrival_delay_in_minutes'\u001b[0m\u001b[0;34m]\u001b[0m\u001b[0;34m,\u001b[0m\u001b[0maxis\u001b[0m\u001b[0;34m=\u001b[0m\u001b[0;36m1\u001b[0m\u001b[0;34m,\u001b[0m\u001b[0minplace\u001b[0m\u001b[0;34m=\u001b[0m\u001b[0;32mTrue\u001b[0m\u001b[0;34m)\u001b[0m\u001b[0;34m\u001b[0m\u001b[0;34m\u001b[0m\u001b[0m\n\u001b[0m",
      "\u001b[0;32m~/opt/anaconda3/lib/python3.8/site-packages/pandas/core/frame.py\u001b[0m in \u001b[0;36mdrop\u001b[0;34m(self, labels, axis, index, columns, level, inplace, errors)\u001b[0m\n\u001b[1;32m   4306\u001b[0m                 \u001b[0mweight\u001b[0m  \u001b[0;36m1.0\u001b[0m     \u001b[0;36m0.8\u001b[0m\u001b[0;34m\u001b[0m\u001b[0;34m\u001b[0m\u001b[0m\n\u001b[1;32m   4307\u001b[0m         \"\"\"\n\u001b[0;32m-> 4308\u001b[0;31m         return super().drop(\n\u001b[0m\u001b[1;32m   4309\u001b[0m             \u001b[0mlabels\u001b[0m\u001b[0;34m=\u001b[0m\u001b[0mlabels\u001b[0m\u001b[0;34m,\u001b[0m\u001b[0;34m\u001b[0m\u001b[0;34m\u001b[0m\u001b[0m\n\u001b[1;32m   4310\u001b[0m             \u001b[0maxis\u001b[0m\u001b[0;34m=\u001b[0m\u001b[0maxis\u001b[0m\u001b[0;34m,\u001b[0m\u001b[0;34m\u001b[0m\u001b[0;34m\u001b[0m\u001b[0m\n",
      "\u001b[0;32m~/opt/anaconda3/lib/python3.8/site-packages/pandas/core/generic.py\u001b[0m in \u001b[0;36mdrop\u001b[0;34m(self, labels, axis, index, columns, level, inplace, errors)\u001b[0m\n\u001b[1;32m   4151\u001b[0m         \u001b[0;32mfor\u001b[0m \u001b[0maxis\u001b[0m\u001b[0;34m,\u001b[0m \u001b[0mlabels\u001b[0m \u001b[0;32min\u001b[0m \u001b[0maxes\u001b[0m\u001b[0;34m.\u001b[0m\u001b[0mitems\u001b[0m\u001b[0;34m(\u001b[0m\u001b[0;34m)\u001b[0m\u001b[0;34m:\u001b[0m\u001b[0;34m\u001b[0m\u001b[0;34m\u001b[0m\u001b[0m\n\u001b[1;32m   4152\u001b[0m             \u001b[0;32mif\u001b[0m \u001b[0mlabels\u001b[0m \u001b[0;32mis\u001b[0m \u001b[0;32mnot\u001b[0m \u001b[0;32mNone\u001b[0m\u001b[0;34m:\u001b[0m\u001b[0;34m\u001b[0m\u001b[0;34m\u001b[0m\u001b[0m\n\u001b[0;32m-> 4153\u001b[0;31m                 \u001b[0mobj\u001b[0m \u001b[0;34m=\u001b[0m \u001b[0mobj\u001b[0m\u001b[0;34m.\u001b[0m\u001b[0m_drop_axis\u001b[0m\u001b[0;34m(\u001b[0m\u001b[0mlabels\u001b[0m\u001b[0;34m,\u001b[0m \u001b[0maxis\u001b[0m\u001b[0;34m,\u001b[0m \u001b[0mlevel\u001b[0m\u001b[0;34m=\u001b[0m\u001b[0mlevel\u001b[0m\u001b[0;34m,\u001b[0m \u001b[0merrors\u001b[0m\u001b[0;34m=\u001b[0m\u001b[0merrors\u001b[0m\u001b[0;34m)\u001b[0m\u001b[0;34m\u001b[0m\u001b[0;34m\u001b[0m\u001b[0m\n\u001b[0m\u001b[1;32m   4154\u001b[0m \u001b[0;34m\u001b[0m\u001b[0m\n\u001b[1;32m   4155\u001b[0m         \u001b[0;32mif\u001b[0m \u001b[0minplace\u001b[0m\u001b[0;34m:\u001b[0m\u001b[0;34m\u001b[0m\u001b[0;34m\u001b[0m\u001b[0m\n",
      "\u001b[0;32m~/opt/anaconda3/lib/python3.8/site-packages/pandas/core/generic.py\u001b[0m in \u001b[0;36m_drop_axis\u001b[0;34m(self, labels, axis, level, errors)\u001b[0m\n\u001b[1;32m   4186\u001b[0m                 \u001b[0mnew_axis\u001b[0m \u001b[0;34m=\u001b[0m \u001b[0maxis\u001b[0m\u001b[0;34m.\u001b[0m\u001b[0mdrop\u001b[0m\u001b[0;34m(\u001b[0m\u001b[0mlabels\u001b[0m\u001b[0;34m,\u001b[0m \u001b[0mlevel\u001b[0m\u001b[0;34m=\u001b[0m\u001b[0mlevel\u001b[0m\u001b[0;34m,\u001b[0m \u001b[0merrors\u001b[0m\u001b[0;34m=\u001b[0m\u001b[0merrors\u001b[0m\u001b[0;34m)\u001b[0m\u001b[0;34m\u001b[0m\u001b[0;34m\u001b[0m\u001b[0m\n\u001b[1;32m   4187\u001b[0m             \u001b[0;32melse\u001b[0m\u001b[0;34m:\u001b[0m\u001b[0;34m\u001b[0m\u001b[0;34m\u001b[0m\u001b[0m\n\u001b[0;32m-> 4188\u001b[0;31m                 \u001b[0mnew_axis\u001b[0m \u001b[0;34m=\u001b[0m \u001b[0maxis\u001b[0m\u001b[0;34m.\u001b[0m\u001b[0mdrop\u001b[0m\u001b[0;34m(\u001b[0m\u001b[0mlabels\u001b[0m\u001b[0;34m,\u001b[0m \u001b[0merrors\u001b[0m\u001b[0;34m=\u001b[0m\u001b[0merrors\u001b[0m\u001b[0;34m)\u001b[0m\u001b[0;34m\u001b[0m\u001b[0;34m\u001b[0m\u001b[0m\n\u001b[0m\u001b[1;32m   4189\u001b[0m             \u001b[0mresult\u001b[0m \u001b[0;34m=\u001b[0m \u001b[0mself\u001b[0m\u001b[0;34m.\u001b[0m\u001b[0mreindex\u001b[0m\u001b[0;34m(\u001b[0m\u001b[0;34m**\u001b[0m\u001b[0;34m{\u001b[0m\u001b[0maxis_name\u001b[0m\u001b[0;34m:\u001b[0m \u001b[0mnew_axis\u001b[0m\u001b[0;34m}\u001b[0m\u001b[0;34m)\u001b[0m\u001b[0;34m\u001b[0m\u001b[0;34m\u001b[0m\u001b[0m\n\u001b[1;32m   4190\u001b[0m \u001b[0;34m\u001b[0m\u001b[0m\n",
      "\u001b[0;32m~/opt/anaconda3/lib/python3.8/site-packages/pandas/core/indexes/base.py\u001b[0m in \u001b[0;36mdrop\u001b[0;34m(self, labels, errors)\u001b[0m\n\u001b[1;32m   5589\u001b[0m         \u001b[0;32mif\u001b[0m \u001b[0mmask\u001b[0m\u001b[0;34m.\u001b[0m\u001b[0many\u001b[0m\u001b[0;34m(\u001b[0m\u001b[0;34m)\u001b[0m\u001b[0;34m:\u001b[0m\u001b[0;34m\u001b[0m\u001b[0;34m\u001b[0m\u001b[0m\n\u001b[1;32m   5590\u001b[0m             \u001b[0;32mif\u001b[0m \u001b[0merrors\u001b[0m \u001b[0;34m!=\u001b[0m \u001b[0;34m\"ignore\"\u001b[0m\u001b[0;34m:\u001b[0m\u001b[0;34m\u001b[0m\u001b[0;34m\u001b[0m\u001b[0m\n\u001b[0;32m-> 5591\u001b[0;31m                 \u001b[0;32mraise\u001b[0m \u001b[0mKeyError\u001b[0m\u001b[0;34m(\u001b[0m\u001b[0;34mf\"{labels[mask]} not found in axis\"\u001b[0m\u001b[0;34m)\u001b[0m\u001b[0;34m\u001b[0m\u001b[0;34m\u001b[0m\u001b[0m\n\u001b[0m\u001b[1;32m   5592\u001b[0m             \u001b[0mindexer\u001b[0m \u001b[0;34m=\u001b[0m \u001b[0mindexer\u001b[0m\u001b[0;34m[\u001b[0m\u001b[0;34m~\u001b[0m\u001b[0mmask\u001b[0m\u001b[0;34m]\u001b[0m\u001b[0;34m\u001b[0m\u001b[0;34m\u001b[0m\u001b[0m\n\u001b[1;32m   5593\u001b[0m         \u001b[0;32mreturn\u001b[0m \u001b[0mself\u001b[0m\u001b[0;34m.\u001b[0m\u001b[0mdelete\u001b[0m\u001b[0;34m(\u001b[0m\u001b[0mindexer\u001b[0m\u001b[0;34m)\u001b[0m\u001b[0;34m\u001b[0m\u001b[0;34m\u001b[0m\u001b[0m\n",
      "\u001b[0;31mKeyError\u001b[0m: \"['age' 'departure_arrival_time_convenient' 'gate_location'\\n 'flight_distance' 'arrival_delay_in_minutes'] not found in axis\""
     ]
    }
   ],
   "source": [
    "warnings.filterwarnings('ignore')\n",
    "df.drop(['age','departure_arrival_time_convenient','gate_location','flight_distance','arrival_delay_in_minutes'],axis=1,inplace=True)"
   ]
  },
  {
   "cell_type": "code",
   "execution_count": 84,
   "id": "bbe4193f",
   "metadata": {},
   "outputs": [
    {
     "data": {
      "text/html": [
       "<div>\n",
       "<style scoped>\n",
       "    .dataframe tbody tr th:only-of-type {\n",
       "        vertical-align: middle;\n",
       "    }\n",
       "\n",
       "    .dataframe tbody tr th {\n",
       "        vertical-align: top;\n",
       "    }\n",
       "\n",
       "    .dataframe thead th {\n",
       "        text-align: right;\n",
       "    }\n",
       "</style>\n",
       "<table border=\"1\" class=\"dataframe\">\n",
       "  <thead>\n",
       "    <tr style=\"text-align: right;\">\n",
       "      <th></th>\n",
       "      <th>Gender</th>\n",
       "      <th>customer_type</th>\n",
       "      <th>type_of_travel</th>\n",
       "      <th>customer_class</th>\n",
       "      <th>inflight_wifi_service</th>\n",
       "      <th>ease_of_online_booking</th>\n",
       "      <th>food_and_drink</th>\n",
       "      <th>online_boarding</th>\n",
       "      <th>seat_comfort</th>\n",
       "      <th>inflight_entertainment</th>\n",
       "      <th>onboard_service</th>\n",
       "      <th>leg_room_service</th>\n",
       "      <th>baggage_handling</th>\n",
       "      <th>checkin_service</th>\n",
       "      <th>inflight_service</th>\n",
       "      <th>cleanliness</th>\n",
       "      <th>departure_delay_in_minutes</th>\n",
       "      <th>satisfaction</th>\n",
       "      <th>departure_delay</th>\n",
       "    </tr>\n",
       "  </thead>\n",
       "  <tbody>\n",
       "    <tr>\n",
       "      <th>0</th>\n",
       "      <td>Male</td>\n",
       "      <td>Loyal Customer</td>\n",
       "      <td>Personal Travel</td>\n",
       "      <td>Eco Plus</td>\n",
       "      <td>Neutral</td>\n",
       "      <td>Neutral</td>\n",
       "      <td>Very satisfied</td>\n",
       "      <td>Neutral</td>\n",
       "      <td>Very satisfied</td>\n",
       "      <td>Very satisfied</td>\n",
       "      <td>satisfied</td>\n",
       "      <td>Neutral</td>\n",
       "      <td>satisfied</td>\n",
       "      <td>satisfied</td>\n",
       "      <td>Very satisfied</td>\n",
       "      <td>Very satisfied</td>\n",
       "      <td>25</td>\n",
       "      <td>dissatisfied</td>\n",
       "      <td>30m</td>\n",
       "    </tr>\n",
       "    <tr>\n",
       "      <th>1</th>\n",
       "      <td>Male</td>\n",
       "      <td>disloyal Customer</td>\n",
       "      <td>Business travel</td>\n",
       "      <td>Business</td>\n",
       "      <td>Neutral</td>\n",
       "      <td>Neutral</td>\n",
       "      <td>Very unsatisfied</td>\n",
       "      <td>Neutral</td>\n",
       "      <td>Very unsatisfied</td>\n",
       "      <td>Very unsatisfied</td>\n",
       "      <td>Very unsatisfied</td>\n",
       "      <td>Very satisfied</td>\n",
       "      <td>Neutral</td>\n",
       "      <td>Very unsatisfied</td>\n",
       "      <td>satisfied</td>\n",
       "      <td>Very unsatisfied</td>\n",
       "      <td>1</td>\n",
       "      <td>dissatisfied</td>\n",
       "      <td>10m</td>\n",
       "    </tr>\n",
       "    <tr>\n",
       "      <th>2</th>\n",
       "      <td>Female</td>\n",
       "      <td>Loyal Customer</td>\n",
       "      <td>Business travel</td>\n",
       "      <td>Business</td>\n",
       "      <td>unsatisfied</td>\n",
       "      <td>unsatisfied</td>\n",
       "      <td>Very satisfied</td>\n",
       "      <td>Very satisfied</td>\n",
       "      <td>Very satisfied</td>\n",
       "      <td>Very satisfied</td>\n",
       "      <td>satisfied</td>\n",
       "      <td>Neutral</td>\n",
       "      <td>satisfied</td>\n",
       "      <td>satisfied</td>\n",
       "      <td>satisfied</td>\n",
       "      <td>Very satisfied</td>\n",
       "      <td>0</td>\n",
       "      <td>satisfied</td>\n",
       "      <td>0</td>\n",
       "    </tr>\n",
       "    <tr>\n",
       "      <th>3</th>\n",
       "      <td>Female</td>\n",
       "      <td>Loyal Customer</td>\n",
       "      <td>Business travel</td>\n",
       "      <td>Business</td>\n",
       "      <td>unsatisfied</td>\n",
       "      <td>Very satisfied</td>\n",
       "      <td>unsatisfied</td>\n",
       "      <td>unsatisfied</td>\n",
       "      <td>unsatisfied</td>\n",
       "      <td>unsatisfied</td>\n",
       "      <td>unsatisfied</td>\n",
       "      <td>Very satisfied</td>\n",
       "      <td>Neutral</td>\n",
       "      <td>Very unsatisfied</td>\n",
       "      <td>satisfied</td>\n",
       "      <td>unsatisfied</td>\n",
       "      <td>11</td>\n",
       "      <td>dissatisfied</td>\n",
       "      <td>20m</td>\n",
       "    </tr>\n",
       "    <tr>\n",
       "      <th>4</th>\n",
       "      <td>Male</td>\n",
       "      <td>Loyal Customer</td>\n",
       "      <td>Business travel</td>\n",
       "      <td>Business</td>\n",
       "      <td>Neutral</td>\n",
       "      <td>Neutral</td>\n",
       "      <td>satisfied</td>\n",
       "      <td>Very satisfied</td>\n",
       "      <td>Very satisfied</td>\n",
       "      <td>Neutral</td>\n",
       "      <td>Neutral</td>\n",
       "      <td>satisfied</td>\n",
       "      <td>satisfied</td>\n",
       "      <td>Neutral</td>\n",
       "      <td>Neutral</td>\n",
       "      <td>Neutral</td>\n",
       "      <td>0</td>\n",
       "      <td>satisfied</td>\n",
       "      <td>0</td>\n",
       "    </tr>\n",
       "    <tr>\n",
       "      <th>...</th>\n",
       "      <td>...</td>\n",
       "      <td>...</td>\n",
       "      <td>...</td>\n",
       "      <td>...</td>\n",
       "      <td>...</td>\n",
       "      <td>...</td>\n",
       "      <td>...</td>\n",
       "      <td>...</td>\n",
       "      <td>...</td>\n",
       "      <td>...</td>\n",
       "      <td>...</td>\n",
       "      <td>...</td>\n",
       "      <td>...</td>\n",
       "      <td>...</td>\n",
       "      <td>...</td>\n",
       "      <td>...</td>\n",
       "      <td>...</td>\n",
       "      <td>...</td>\n",
       "      <td>...</td>\n",
       "    </tr>\n",
       "    <tr>\n",
       "      <th>129875</th>\n",
       "      <td>Male</td>\n",
       "      <td>disloyal Customer</td>\n",
       "      <td>Business travel</td>\n",
       "      <td>Business</td>\n",
       "      <td>Neutral</td>\n",
       "      <td>Neutral</td>\n",
       "      <td>satisfied</td>\n",
       "      <td>Neutral</td>\n",
       "      <td>satisfied</td>\n",
       "      <td>satisfied</td>\n",
       "      <td>Neutral</td>\n",
       "      <td>unsatisfied</td>\n",
       "      <td>satisfied</td>\n",
       "      <td>satisfied</td>\n",
       "      <td>Very satisfied</td>\n",
       "      <td>satisfied</td>\n",
       "      <td>0</td>\n",
       "      <td>dissatisfied</td>\n",
       "      <td>0</td>\n",
       "    </tr>\n",
       "    <tr>\n",
       "      <th>129876</th>\n",
       "      <td>Male</td>\n",
       "      <td>Loyal Customer</td>\n",
       "      <td>Business travel</td>\n",
       "      <td>Business</td>\n",
       "      <td>satisfied</td>\n",
       "      <td>satisfied</td>\n",
       "      <td>satisfied</td>\n",
       "      <td>satisfied</td>\n",
       "      <td>satisfied</td>\n",
       "      <td>satisfied</td>\n",
       "      <td>satisfied</td>\n",
       "      <td>Very satisfied</td>\n",
       "      <td>Very satisfied</td>\n",
       "      <td>Very satisfied</td>\n",
       "      <td>Very satisfied</td>\n",
       "      <td>satisfied</td>\n",
       "      <td>0</td>\n",
       "      <td>satisfied</td>\n",
       "      <td>0</td>\n",
       "    </tr>\n",
       "    <tr>\n",
       "      <th>129877</th>\n",
       "      <td>Female</td>\n",
       "      <td>Loyal Customer</td>\n",
       "      <td>Personal Travel</td>\n",
       "      <td>Eco</td>\n",
       "      <td>unsatisfied</td>\n",
       "      <td>Very unsatisfied</td>\n",
       "      <td>unsatisfied</td>\n",
       "      <td>Very unsatisfied</td>\n",
       "      <td>unsatisfied</td>\n",
       "      <td>unsatisfied</td>\n",
       "      <td>satisfied</td>\n",
       "      <td>Neutral</td>\n",
       "      <td>satisfied</td>\n",
       "      <td>Very satisfied</td>\n",
       "      <td>satisfied</td>\n",
       "      <td>unsatisfied</td>\n",
       "      <td>0</td>\n",
       "      <td>dissatisfied</td>\n",
       "      <td>0</td>\n",
       "    </tr>\n",
       "    <tr>\n",
       "      <th>129878</th>\n",
       "      <td>Male</td>\n",
       "      <td>Loyal Customer</td>\n",
       "      <td>Business travel</td>\n",
       "      <td>Business</td>\n",
       "      <td>Neutral</td>\n",
       "      <td>Neutral</td>\n",
       "      <td>satisfied</td>\n",
       "      <td>satisfied</td>\n",
       "      <td>satisfied</td>\n",
       "      <td>satisfied</td>\n",
       "      <td>Neutral</td>\n",
       "      <td>unsatisfied</td>\n",
       "      <td>Very satisfied</td>\n",
       "      <td>satisfied</td>\n",
       "      <td>Very satisfied</td>\n",
       "      <td>satisfied</td>\n",
       "      <td>0</td>\n",
       "      <td>satisfied</td>\n",
       "      <td>0</td>\n",
       "    </tr>\n",
       "    <tr>\n",
       "      <th>129879</th>\n",
       "      <td>Female</td>\n",
       "      <td>Loyal Customer</td>\n",
       "      <td>Personal Travel</td>\n",
       "      <td>Eco</td>\n",
       "      <td>unsatisfied</td>\n",
       "      <td>unsatisfied</td>\n",
       "      <td>satisfied</td>\n",
       "      <td>unsatisfied</td>\n",
       "      <td>unsatisfied</td>\n",
       "      <td>Very unsatisfied</td>\n",
       "      <td>Very unsatisfied</td>\n",
       "      <td>unsatisfied</td>\n",
       "      <td>Very unsatisfied</td>\n",
       "      <td>Very unsatisfied</td>\n",
       "      <td>Very unsatisfied</td>\n",
       "      <td>Very unsatisfied</td>\n",
       "      <td>0</td>\n",
       "      <td>dissatisfied</td>\n",
       "      <td>0</td>\n",
       "    </tr>\n",
       "  </tbody>\n",
       "</table>\n",
       "<p>129487 rows × 19 columns</p>\n",
       "</div>"
      ],
      "text/plain": [
       "        Gender      customer_type   type_of_travel customer_class  \\\n",
       "0         Male     Loyal Customer  Personal Travel       Eco Plus   \n",
       "1         Male  disloyal Customer  Business travel       Business   \n",
       "2       Female     Loyal Customer  Business travel       Business   \n",
       "3       Female     Loyal Customer  Business travel       Business   \n",
       "4         Male     Loyal Customer  Business travel       Business   \n",
       "...        ...                ...              ...            ...   \n",
       "129875    Male  disloyal Customer  Business travel       Business   \n",
       "129876    Male     Loyal Customer  Business travel       Business   \n",
       "129877  Female     Loyal Customer  Personal Travel            Eco   \n",
       "129878    Male     Loyal Customer  Business travel       Business   \n",
       "129879  Female     Loyal Customer  Personal Travel            Eco   \n",
       "\n",
       "       inflight_wifi_service ease_of_online_booking    food_and_drink  \\\n",
       "0                    Neutral                Neutral    Very satisfied   \n",
       "1                    Neutral                Neutral  Very unsatisfied   \n",
       "2                unsatisfied            unsatisfied    Very satisfied   \n",
       "3                unsatisfied         Very satisfied       unsatisfied   \n",
       "4                    Neutral                Neutral         satisfied   \n",
       "...                      ...                    ...               ...   \n",
       "129875               Neutral                Neutral         satisfied   \n",
       "129876             satisfied              satisfied         satisfied   \n",
       "129877           unsatisfied       Very unsatisfied       unsatisfied   \n",
       "129878               Neutral                Neutral         satisfied   \n",
       "129879           unsatisfied            unsatisfied         satisfied   \n",
       "\n",
       "         online_boarding      seat_comfort inflight_entertainment  \\\n",
       "0                Neutral    Very satisfied         Very satisfied   \n",
       "1                Neutral  Very unsatisfied       Very unsatisfied   \n",
       "2         Very satisfied    Very satisfied         Very satisfied   \n",
       "3            unsatisfied       unsatisfied            unsatisfied   \n",
       "4         Very satisfied    Very satisfied                Neutral   \n",
       "...                  ...               ...                    ...   \n",
       "129875           Neutral         satisfied              satisfied   \n",
       "129876         satisfied         satisfied              satisfied   \n",
       "129877  Very unsatisfied       unsatisfied            unsatisfied   \n",
       "129878         satisfied         satisfied              satisfied   \n",
       "129879       unsatisfied       unsatisfied       Very unsatisfied   \n",
       "\n",
       "         onboard_service leg_room_service  baggage_handling   checkin_service  \\\n",
       "0              satisfied          Neutral         satisfied         satisfied   \n",
       "1       Very unsatisfied   Very satisfied           Neutral  Very unsatisfied   \n",
       "2              satisfied          Neutral         satisfied         satisfied   \n",
       "3            unsatisfied   Very satisfied           Neutral  Very unsatisfied   \n",
       "4                Neutral        satisfied         satisfied           Neutral   \n",
       "...                  ...              ...               ...               ...   \n",
       "129875           Neutral      unsatisfied         satisfied         satisfied   \n",
       "129876         satisfied   Very satisfied    Very satisfied    Very satisfied   \n",
       "129877         satisfied          Neutral         satisfied    Very satisfied   \n",
       "129878           Neutral      unsatisfied    Very satisfied         satisfied   \n",
       "129879  Very unsatisfied      unsatisfied  Very unsatisfied  Very unsatisfied   \n",
       "\n",
       "        inflight_service       cleanliness  departure_delay_in_minutes  \\\n",
       "0         Very satisfied    Very satisfied                          25   \n",
       "1              satisfied  Very unsatisfied                           1   \n",
       "2              satisfied    Very satisfied                           0   \n",
       "3              satisfied       unsatisfied                          11   \n",
       "4                Neutral           Neutral                           0   \n",
       "...                  ...               ...                         ...   \n",
       "129875    Very satisfied         satisfied                           0   \n",
       "129876    Very satisfied         satisfied                           0   \n",
       "129877         satisfied       unsatisfied                           0   \n",
       "129878    Very satisfied         satisfied                           0   \n",
       "129879  Very unsatisfied  Very unsatisfied                           0   \n",
       "\n",
       "        satisfaction departure_delay  \n",
       "0       dissatisfied             30m  \n",
       "1       dissatisfied             10m  \n",
       "2          satisfied               0  \n",
       "3       dissatisfied             20m  \n",
       "4          satisfied               0  \n",
       "...              ...             ...  \n",
       "129875  dissatisfied               0  \n",
       "129876     satisfied               0  \n",
       "129877  dissatisfied               0  \n",
       "129878     satisfied               0  \n",
       "129879  dissatisfied               0  \n",
       "\n",
       "[129487 rows x 19 columns]"
      ]
     },
     "execution_count": 84,
     "metadata": {},
     "output_type": "execute_result"
    }
   ],
   "source": [
    "df"
   ]
  },
  {
   "cell_type": "code",
   "execution_count": 7,
   "id": "8639bab9",
   "metadata": {},
   "outputs": [
    {
     "name": "stdout",
     "output_type": "stream",
     "text": [
      "<class 'pandas.core.frame.DataFrame'>\n",
      "Int64Index: 129487 entries, 0 to 129879\n",
      "Data columns (total 18 columns):\n",
      " #   Column                      Non-Null Count   Dtype \n",
      "---  ------                      --------------   ----- \n",
      " 0   Gender                      129487 non-null  object\n",
      " 1   customer_type               129487 non-null  object\n",
      " 2   type_of_travel              129487 non-null  object\n",
      " 3   customer_class              129487 non-null  object\n",
      " 4   inflight_wifi_service       129487 non-null  int64 \n",
      " 5   ease_of_online_booking      129487 non-null  int64 \n",
      " 6   food_and_drink              129487 non-null  int64 \n",
      " 7   online_boarding             129487 non-null  int64 \n",
      " 8   seat_comfort                129487 non-null  int64 \n",
      " 9   inflight_entertainment      129487 non-null  int64 \n",
      " 10  onboard_service             129487 non-null  int64 \n",
      " 11  leg_room_service            129487 non-null  int64 \n",
      " 12  baggage_handling            129487 non-null  int64 \n",
      " 13  checkin_service             129487 non-null  int64 \n",
      " 14  inflight_service            129487 non-null  int64 \n",
      " 15  cleanliness                 129487 non-null  int64 \n",
      " 16  departure_delay_in_minutes  129487 non-null  int64 \n",
      " 17  satisfaction                129487 non-null  object\n",
      "dtypes: int64(13), object(5)\n",
      "memory usage: 18.8+ MB\n"
     ]
    }
   ],
   "source": [
    "df.info()"
   ]
  },
  {
   "cell_type": "code",
   "execution_count": 8,
   "id": "c7c17fbb",
   "metadata": {},
   "outputs": [],
   "source": [
    "import copy\n",
    "df_model = copy.deepcopy(df)"
   ]
  },
  {
   "cell_type": "code",
   "execution_count": 9,
   "id": "dfb82b12",
   "metadata": {},
   "outputs": [],
   "source": [
    "transfer = {\n",
    "    1 : 'Very unsatisfied',\n",
    "    2 : 'unsatisfied',\n",
    "    3 : 'Neutral',\n",
    "    4 : 'satisfied',\n",
    "    5 : 'Very satisfied' \n",
    "}"
   ]
  },
  {
   "cell_type": "code",
   "execution_count": 148,
   "id": "9aa800d1",
   "metadata": {},
   "outputs": [],
   "source": [
    "warnings.filterwarnings('ignore')\n",
    "df['inflight_wifi_service'] = df['inflight_wifi_service'].map(transfer)"
   ]
  },
  {
   "cell_type": "code",
   "execution_count": 149,
   "id": "a05d6599",
   "metadata": {},
   "outputs": [],
   "source": [
    "warnings.filterwarnings('ignore')\n",
    "df['ease_of_online_booking'] = df['ease_of_online_booking'].map(transfer)"
   ]
  },
  {
   "cell_type": "code",
   "execution_count": 150,
   "id": "a09c63f0",
   "metadata": {},
   "outputs": [],
   "source": [
    "warnings.filterwarnings('ignore')\n",
    "df['onboard_service'] = df['onboard_service'].map(transfer)"
   ]
  },
  {
   "cell_type": "code",
   "execution_count": 151,
   "id": "62270fbd",
   "metadata": {},
   "outputs": [],
   "source": [
    "warnings.filterwarnings('ignore')\n",
    "df['leg_room_service'] = df['leg_room_service'].map(transfer)"
   ]
  },
  {
   "cell_type": "code",
   "execution_count": 152,
   "id": "87aa4ed6",
   "metadata": {},
   "outputs": [],
   "source": [
    "warnings.filterwarnings('ignore')\n",
    "df['baggage_handling'] = df['baggage_handling'].map(transfer)"
   ]
  },
  {
   "cell_type": "code",
   "execution_count": 153,
   "id": "cdf7822c",
   "metadata": {},
   "outputs": [],
   "source": [
    "warnings.filterwarnings('ignore')\n",
    "df['checkin_service'] = df['checkin_service'].map(transfer)"
   ]
  },
  {
   "cell_type": "code",
   "execution_count": 154,
   "id": "41744eda",
   "metadata": {},
   "outputs": [],
   "source": [
    "warnings.filterwarnings('ignore')\n",
    "df['inflight_service'] = df['inflight_service'].map(transfer)"
   ]
  },
  {
   "cell_type": "code",
   "execution_count": 155,
   "id": "0dd526da",
   "metadata": {},
   "outputs": [],
   "source": [
    "warnings.filterwarnings('ignore')\n",
    "df['cleanliness'] = df['cleanliness'].map(transfer)"
   ]
  },
  {
   "cell_type": "code",
   "execution_count": 156,
   "id": "e83158c9",
   "metadata": {},
   "outputs": [],
   "source": [
    "warnings.filterwarnings('ignore')\n",
    "df['food_and_drink'] = df['food_and_drink'].map(transfer)"
   ]
  },
  {
   "cell_type": "code",
   "execution_count": 157,
   "id": "b463beeb",
   "metadata": {},
   "outputs": [],
   "source": [
    "warnings.filterwarnings('ignore')\n",
    "df['online_boarding'] = df['online_boarding'].map(transfer)"
   ]
  },
  {
   "cell_type": "code",
   "execution_count": 158,
   "id": "cbf4118a",
   "metadata": {},
   "outputs": [],
   "source": [
    "warnings.filterwarnings('ignore')\n",
    "df['seat_comfort'] = df['seat_comfort'].map(transfer)"
   ]
  },
  {
   "cell_type": "code",
   "execution_count": 159,
   "id": "f95de290",
   "metadata": {},
   "outputs": [],
   "source": [
    "warnings.filterwarnings('ignore')\n",
    "df['inflight_entertainment'] = df['inflight_entertainment'].map(transfer)"
   ]
  },
  {
   "cell_type": "code",
   "execution_count": 160,
   "id": "2bbef788",
   "metadata": {},
   "outputs": [],
   "source": [
    "df['inflight_wifi_service'].values[df['inflight_wifi_service'] == 0] = 2"
   ]
  },
  {
   "cell_type": "code",
   "execution_count": 23,
   "id": "c774c1c9",
   "metadata": {},
   "outputs": [],
   "source": [
    "df['ease_of_online_booking'].values[df['ease_of_online_booking'] == 0] = 3"
   ]
  },
  {
   "cell_type": "code",
   "execution_count": 24,
   "id": "4173eb19",
   "metadata": {},
   "outputs": [],
   "source": [
    "df['food_and_drink'].values[df['food_and_drink'] == 0] = 4"
   ]
  },
  {
   "cell_type": "code",
   "execution_count": 25,
   "id": "9d3fca19",
   "metadata": {},
   "outputs": [],
   "source": [
    "df['online_boarding'].values[df['online_boarding'] == 0] = 4"
   ]
  },
  {
   "cell_type": "code",
   "execution_count": 26,
   "id": "888f4aa0",
   "metadata": {},
   "outputs": [],
   "source": [
    "df['seat_comfort'].values[df['seat_comfort'] == 0] = 4"
   ]
  },
  {
   "cell_type": "code",
   "execution_count": 27,
   "id": "e1e218ab",
   "metadata": {},
   "outputs": [],
   "source": [
    "df['inflight_entertainment'].values[df['inflight_entertainment'] == 0] = 4"
   ]
  },
  {
   "cell_type": "code",
   "execution_count": 28,
   "id": "fd722df1",
   "metadata": {},
   "outputs": [],
   "source": [
    "df['onboard_service'].values[df['onboard_service'] == 0] = 4"
   ]
  },
  {
   "cell_type": "code",
   "execution_count": 29,
   "id": "3652dad7",
   "metadata": {},
   "outputs": [],
   "source": [
    "df['leg_room_service'].values[df['leg_room_service'] == 0] = 4"
   ]
  },
  {
   "cell_type": "code",
   "execution_count": 30,
   "id": "b0a52534",
   "metadata": {},
   "outputs": [],
   "source": [
    "df['baggage_handling'].values[df['baggage_handling'] == 0] = 4"
   ]
  },
  {
   "cell_type": "code",
   "execution_count": 31,
   "id": "04e11686",
   "metadata": {},
   "outputs": [],
   "source": [
    "df['checkin_service'].values[df['checkin_service'] == 0] = 4"
   ]
  },
  {
   "cell_type": "code",
   "execution_count": 32,
   "id": "fe644102",
   "metadata": {},
   "outputs": [],
   "source": [
    "df['inflight_service'].values[df['inflight_service'] == 0] = 4"
   ]
  },
  {
   "cell_type": "code",
   "execution_count": 33,
   "id": "e9765fc9",
   "metadata": {},
   "outputs": [],
   "source": [
    "df['cleanliness'].values[df['cleanliness'] == 0] = 4"
   ]
  },
  {
   "cell_type": "code",
   "execution_count": 34,
   "id": "2072a09c",
   "metadata": {},
   "outputs": [
    {
     "data": {
      "text/html": [
       "<div>\n",
       "<style scoped>\n",
       "    .dataframe tbody tr th:only-of-type {\n",
       "        vertical-align: middle;\n",
       "    }\n",
       "\n",
       "    .dataframe tbody tr th {\n",
       "        vertical-align: top;\n",
       "    }\n",
       "\n",
       "    .dataframe thead th {\n",
       "        text-align: right;\n",
       "    }\n",
       "</style>\n",
       "<table border=\"1\" class=\"dataframe\">\n",
       "  <thead>\n",
       "    <tr style=\"text-align: right;\">\n",
       "      <th></th>\n",
       "      <th>Gender</th>\n",
       "      <th>customer_type</th>\n",
       "      <th>type_of_travel</th>\n",
       "      <th>customer_class</th>\n",
       "      <th>inflight_wifi_service</th>\n",
       "      <th>ease_of_online_booking</th>\n",
       "      <th>food_and_drink</th>\n",
       "      <th>online_boarding</th>\n",
       "      <th>seat_comfort</th>\n",
       "      <th>inflight_entertainment</th>\n",
       "      <th>onboard_service</th>\n",
       "      <th>leg_room_service</th>\n",
       "      <th>baggage_handling</th>\n",
       "      <th>checkin_service</th>\n",
       "      <th>inflight_service</th>\n",
       "      <th>cleanliness</th>\n",
       "      <th>departure_delay_in_minutes</th>\n",
       "      <th>satisfaction</th>\n",
       "    </tr>\n",
       "  </thead>\n",
       "  <tbody>\n",
       "    <tr>\n",
       "      <th>0</th>\n",
       "      <td>Male</td>\n",
       "      <td>Loyal Customer</td>\n",
       "      <td>Personal Travel</td>\n",
       "      <td>Eco Plus</td>\n",
       "      <td>Neutral</td>\n",
       "      <td>Neutral</td>\n",
       "      <td>Very satisfied</td>\n",
       "      <td>Neutral</td>\n",
       "      <td>Very satisfied</td>\n",
       "      <td>Very satisfied</td>\n",
       "      <td>satisfied</td>\n",
       "      <td>Neutral</td>\n",
       "      <td>satisfied</td>\n",
       "      <td>satisfied</td>\n",
       "      <td>Very satisfied</td>\n",
       "      <td>Very satisfied</td>\n",
       "      <td>25</td>\n",
       "      <td>neutral or dissatisfied</td>\n",
       "    </tr>\n",
       "    <tr>\n",
       "      <th>1</th>\n",
       "      <td>Male</td>\n",
       "      <td>disloyal Customer</td>\n",
       "      <td>Business travel</td>\n",
       "      <td>Business</td>\n",
       "      <td>Neutral</td>\n",
       "      <td>Neutral</td>\n",
       "      <td>Very unsatisfied</td>\n",
       "      <td>Neutral</td>\n",
       "      <td>Very unsatisfied</td>\n",
       "      <td>Very unsatisfied</td>\n",
       "      <td>Very unsatisfied</td>\n",
       "      <td>Very satisfied</td>\n",
       "      <td>Neutral</td>\n",
       "      <td>Very unsatisfied</td>\n",
       "      <td>satisfied</td>\n",
       "      <td>Very unsatisfied</td>\n",
       "      <td>1</td>\n",
       "      <td>neutral or dissatisfied</td>\n",
       "    </tr>\n",
       "    <tr>\n",
       "      <th>2</th>\n",
       "      <td>Female</td>\n",
       "      <td>Loyal Customer</td>\n",
       "      <td>Business travel</td>\n",
       "      <td>Business</td>\n",
       "      <td>unsatisfied</td>\n",
       "      <td>unsatisfied</td>\n",
       "      <td>Very satisfied</td>\n",
       "      <td>Very satisfied</td>\n",
       "      <td>Very satisfied</td>\n",
       "      <td>Very satisfied</td>\n",
       "      <td>satisfied</td>\n",
       "      <td>Neutral</td>\n",
       "      <td>satisfied</td>\n",
       "      <td>satisfied</td>\n",
       "      <td>satisfied</td>\n",
       "      <td>Very satisfied</td>\n",
       "      <td>0</td>\n",
       "      <td>satisfied</td>\n",
       "    </tr>\n",
       "    <tr>\n",
       "      <th>3</th>\n",
       "      <td>Female</td>\n",
       "      <td>Loyal Customer</td>\n",
       "      <td>Business travel</td>\n",
       "      <td>Business</td>\n",
       "      <td>unsatisfied</td>\n",
       "      <td>Very satisfied</td>\n",
       "      <td>unsatisfied</td>\n",
       "      <td>unsatisfied</td>\n",
       "      <td>unsatisfied</td>\n",
       "      <td>unsatisfied</td>\n",
       "      <td>unsatisfied</td>\n",
       "      <td>Very satisfied</td>\n",
       "      <td>Neutral</td>\n",
       "      <td>Very unsatisfied</td>\n",
       "      <td>satisfied</td>\n",
       "      <td>unsatisfied</td>\n",
       "      <td>11</td>\n",
       "      <td>neutral or dissatisfied</td>\n",
       "    </tr>\n",
       "    <tr>\n",
       "      <th>4</th>\n",
       "      <td>Male</td>\n",
       "      <td>Loyal Customer</td>\n",
       "      <td>Business travel</td>\n",
       "      <td>Business</td>\n",
       "      <td>Neutral</td>\n",
       "      <td>Neutral</td>\n",
       "      <td>satisfied</td>\n",
       "      <td>Very satisfied</td>\n",
       "      <td>Very satisfied</td>\n",
       "      <td>Neutral</td>\n",
       "      <td>Neutral</td>\n",
       "      <td>satisfied</td>\n",
       "      <td>satisfied</td>\n",
       "      <td>Neutral</td>\n",
       "      <td>Neutral</td>\n",
       "      <td>Neutral</td>\n",
       "      <td>0</td>\n",
       "      <td>satisfied</td>\n",
       "    </tr>\n",
       "    <tr>\n",
       "      <th>...</th>\n",
       "      <td>...</td>\n",
       "      <td>...</td>\n",
       "      <td>...</td>\n",
       "      <td>...</td>\n",
       "      <td>...</td>\n",
       "      <td>...</td>\n",
       "      <td>...</td>\n",
       "      <td>...</td>\n",
       "      <td>...</td>\n",
       "      <td>...</td>\n",
       "      <td>...</td>\n",
       "      <td>...</td>\n",
       "      <td>...</td>\n",
       "      <td>...</td>\n",
       "      <td>...</td>\n",
       "      <td>...</td>\n",
       "      <td>...</td>\n",
       "      <td>...</td>\n",
       "    </tr>\n",
       "    <tr>\n",
       "      <th>129875</th>\n",
       "      <td>Male</td>\n",
       "      <td>disloyal Customer</td>\n",
       "      <td>Business travel</td>\n",
       "      <td>Business</td>\n",
       "      <td>Neutral</td>\n",
       "      <td>Neutral</td>\n",
       "      <td>satisfied</td>\n",
       "      <td>Neutral</td>\n",
       "      <td>satisfied</td>\n",
       "      <td>satisfied</td>\n",
       "      <td>Neutral</td>\n",
       "      <td>unsatisfied</td>\n",
       "      <td>satisfied</td>\n",
       "      <td>satisfied</td>\n",
       "      <td>Very satisfied</td>\n",
       "      <td>satisfied</td>\n",
       "      <td>0</td>\n",
       "      <td>neutral or dissatisfied</td>\n",
       "    </tr>\n",
       "    <tr>\n",
       "      <th>129876</th>\n",
       "      <td>Male</td>\n",
       "      <td>Loyal Customer</td>\n",
       "      <td>Business travel</td>\n",
       "      <td>Business</td>\n",
       "      <td>satisfied</td>\n",
       "      <td>satisfied</td>\n",
       "      <td>satisfied</td>\n",
       "      <td>satisfied</td>\n",
       "      <td>satisfied</td>\n",
       "      <td>satisfied</td>\n",
       "      <td>satisfied</td>\n",
       "      <td>Very satisfied</td>\n",
       "      <td>Very satisfied</td>\n",
       "      <td>Very satisfied</td>\n",
       "      <td>Very satisfied</td>\n",
       "      <td>satisfied</td>\n",
       "      <td>0</td>\n",
       "      <td>satisfied</td>\n",
       "    </tr>\n",
       "    <tr>\n",
       "      <th>129877</th>\n",
       "      <td>Female</td>\n",
       "      <td>Loyal Customer</td>\n",
       "      <td>Personal Travel</td>\n",
       "      <td>Eco</td>\n",
       "      <td>unsatisfied</td>\n",
       "      <td>Very unsatisfied</td>\n",
       "      <td>unsatisfied</td>\n",
       "      <td>Very unsatisfied</td>\n",
       "      <td>unsatisfied</td>\n",
       "      <td>unsatisfied</td>\n",
       "      <td>satisfied</td>\n",
       "      <td>Neutral</td>\n",
       "      <td>satisfied</td>\n",
       "      <td>Very satisfied</td>\n",
       "      <td>satisfied</td>\n",
       "      <td>unsatisfied</td>\n",
       "      <td>0</td>\n",
       "      <td>neutral or dissatisfied</td>\n",
       "    </tr>\n",
       "    <tr>\n",
       "      <th>129878</th>\n",
       "      <td>Male</td>\n",
       "      <td>Loyal Customer</td>\n",
       "      <td>Business travel</td>\n",
       "      <td>Business</td>\n",
       "      <td>Neutral</td>\n",
       "      <td>Neutral</td>\n",
       "      <td>satisfied</td>\n",
       "      <td>satisfied</td>\n",
       "      <td>satisfied</td>\n",
       "      <td>satisfied</td>\n",
       "      <td>Neutral</td>\n",
       "      <td>unsatisfied</td>\n",
       "      <td>Very satisfied</td>\n",
       "      <td>satisfied</td>\n",
       "      <td>Very satisfied</td>\n",
       "      <td>satisfied</td>\n",
       "      <td>0</td>\n",
       "      <td>satisfied</td>\n",
       "    </tr>\n",
       "    <tr>\n",
       "      <th>129879</th>\n",
       "      <td>Female</td>\n",
       "      <td>Loyal Customer</td>\n",
       "      <td>Personal Travel</td>\n",
       "      <td>Eco</td>\n",
       "      <td>unsatisfied</td>\n",
       "      <td>unsatisfied</td>\n",
       "      <td>satisfied</td>\n",
       "      <td>unsatisfied</td>\n",
       "      <td>unsatisfied</td>\n",
       "      <td>Very unsatisfied</td>\n",
       "      <td>Very unsatisfied</td>\n",
       "      <td>unsatisfied</td>\n",
       "      <td>Very unsatisfied</td>\n",
       "      <td>Very unsatisfied</td>\n",
       "      <td>Very unsatisfied</td>\n",
       "      <td>Very unsatisfied</td>\n",
       "      <td>0</td>\n",
       "      <td>neutral or dissatisfied</td>\n",
       "    </tr>\n",
       "  </tbody>\n",
       "</table>\n",
       "<p>129487 rows × 18 columns</p>\n",
       "</div>"
      ],
      "text/plain": [
       "        Gender      customer_type   type_of_travel customer_class  \\\n",
       "0         Male     Loyal Customer  Personal Travel       Eco Plus   \n",
       "1         Male  disloyal Customer  Business travel       Business   \n",
       "2       Female     Loyal Customer  Business travel       Business   \n",
       "3       Female     Loyal Customer  Business travel       Business   \n",
       "4         Male     Loyal Customer  Business travel       Business   \n",
       "...        ...                ...              ...            ...   \n",
       "129875    Male  disloyal Customer  Business travel       Business   \n",
       "129876    Male     Loyal Customer  Business travel       Business   \n",
       "129877  Female     Loyal Customer  Personal Travel            Eco   \n",
       "129878    Male     Loyal Customer  Business travel       Business   \n",
       "129879  Female     Loyal Customer  Personal Travel            Eco   \n",
       "\n",
       "       inflight_wifi_service ease_of_online_booking    food_and_drink  \\\n",
       "0                    Neutral                Neutral    Very satisfied   \n",
       "1                    Neutral                Neutral  Very unsatisfied   \n",
       "2                unsatisfied            unsatisfied    Very satisfied   \n",
       "3                unsatisfied         Very satisfied       unsatisfied   \n",
       "4                    Neutral                Neutral         satisfied   \n",
       "...                      ...                    ...               ...   \n",
       "129875               Neutral                Neutral         satisfied   \n",
       "129876             satisfied              satisfied         satisfied   \n",
       "129877           unsatisfied       Very unsatisfied       unsatisfied   \n",
       "129878               Neutral                Neutral         satisfied   \n",
       "129879           unsatisfied            unsatisfied         satisfied   \n",
       "\n",
       "         online_boarding      seat_comfort inflight_entertainment  \\\n",
       "0                Neutral    Very satisfied         Very satisfied   \n",
       "1                Neutral  Very unsatisfied       Very unsatisfied   \n",
       "2         Very satisfied    Very satisfied         Very satisfied   \n",
       "3            unsatisfied       unsatisfied            unsatisfied   \n",
       "4         Very satisfied    Very satisfied                Neutral   \n",
       "...                  ...               ...                    ...   \n",
       "129875           Neutral         satisfied              satisfied   \n",
       "129876         satisfied         satisfied              satisfied   \n",
       "129877  Very unsatisfied       unsatisfied            unsatisfied   \n",
       "129878         satisfied         satisfied              satisfied   \n",
       "129879       unsatisfied       unsatisfied       Very unsatisfied   \n",
       "\n",
       "         onboard_service leg_room_service  baggage_handling   checkin_service  \\\n",
       "0              satisfied          Neutral         satisfied         satisfied   \n",
       "1       Very unsatisfied   Very satisfied           Neutral  Very unsatisfied   \n",
       "2              satisfied          Neutral         satisfied         satisfied   \n",
       "3            unsatisfied   Very satisfied           Neutral  Very unsatisfied   \n",
       "4                Neutral        satisfied         satisfied           Neutral   \n",
       "...                  ...              ...               ...               ...   \n",
       "129875           Neutral      unsatisfied         satisfied         satisfied   \n",
       "129876         satisfied   Very satisfied    Very satisfied    Very satisfied   \n",
       "129877         satisfied          Neutral         satisfied    Very satisfied   \n",
       "129878           Neutral      unsatisfied    Very satisfied         satisfied   \n",
       "129879  Very unsatisfied      unsatisfied  Very unsatisfied  Very unsatisfied   \n",
       "\n",
       "        inflight_service       cleanliness  departure_delay_in_minutes  \\\n",
       "0         Very satisfied    Very satisfied                          25   \n",
       "1              satisfied  Very unsatisfied                           1   \n",
       "2              satisfied    Very satisfied                           0   \n",
       "3              satisfied       unsatisfied                          11   \n",
       "4                Neutral           Neutral                           0   \n",
       "...                  ...               ...                         ...   \n",
       "129875    Very satisfied         satisfied                           0   \n",
       "129876    Very satisfied         satisfied                           0   \n",
       "129877         satisfied       unsatisfied                           0   \n",
       "129878    Very satisfied         satisfied                           0   \n",
       "129879  Very unsatisfied  Very unsatisfied                           0   \n",
       "\n",
       "                   satisfaction  \n",
       "0       neutral or dissatisfied  \n",
       "1       neutral or dissatisfied  \n",
       "2                     satisfied  \n",
       "3       neutral or dissatisfied  \n",
       "4                     satisfied  \n",
       "...                         ...  \n",
       "129875  neutral or dissatisfied  \n",
       "129876                satisfied  \n",
       "129877  neutral or dissatisfied  \n",
       "129878                satisfied  \n",
       "129879  neutral or dissatisfied  \n",
       "\n",
       "[129487 rows x 18 columns]"
      ]
     },
     "execution_count": 34,
     "metadata": {},
     "output_type": "execute_result"
    }
   ],
   "source": [
    "df"
   ]
  },
  {
   "cell_type": "code",
   "execution_count": 161,
   "id": "a3b83989",
   "metadata": {},
   "outputs": [],
   "source": [
    "warnings.filterwarnings('ignore')\n",
    "def to_hour(mins):\n",
    "    if (mins < 1):\n",
    "        return '0' \n",
    "    elif (mins >= 1 and mins <=10):\n",
    "        return '10' + 'm'\n",
    "    elif (mins > 10 and mins <=20):\n",
    "        return '20' + 'm'\n",
    "    elif (mins > 20 and mins <=30):\n",
    "        return '30' + 'm'\n",
    "    elif (mins > 30 and mins <=40):\n",
    "        return '40' + 'm'\n",
    "    elif (mins > 40 and mins <=50):\n",
    "        return '50' + 'm'\n",
    "    elif (mins > 50 and mins <60):\n",
    "        return '59' + 'm'\n",
    "    elif(mins > 60):\n",
    "        return str(mins // 60) + 'h'\n",
    "df['departure_delay'] = df['departure_delay_in_minutes'].apply(to_hour)"
   ]
  },
  {
   "cell_type": "code",
   "execution_count": 36,
   "id": "32bfd956",
   "metadata": {},
   "outputs": [],
   "source": [
    "df['satisfaction'].values[df['satisfaction'] == 'neutral or dissatisfied'] = 'dissatisfied'"
   ]
  },
  {
   "cell_type": "markdown",
   "id": "b0cf5029",
   "metadata": {},
   "source": [
    " **For EDA**\n",
    "---"
   ]
  },
  {
   "cell_type": "code",
   "execution_count": 37,
   "id": "9047abd4",
   "metadata": {
    "scrolled": true
   },
   "outputs": [
    {
     "data": {
      "text/html": [
       "<div>\n",
       "<style scoped>\n",
       "    .dataframe tbody tr th:only-of-type {\n",
       "        vertical-align: middle;\n",
       "    }\n",
       "\n",
       "    .dataframe tbody tr th {\n",
       "        vertical-align: top;\n",
       "    }\n",
       "\n",
       "    .dataframe thead th {\n",
       "        text-align: right;\n",
       "    }\n",
       "</style>\n",
       "<table border=\"1\" class=\"dataframe\">\n",
       "  <thead>\n",
       "    <tr style=\"text-align: right;\">\n",
       "      <th></th>\n",
       "      <th>Gender</th>\n",
       "      <th>customer_type</th>\n",
       "      <th>type_of_travel</th>\n",
       "      <th>customer_class</th>\n",
       "      <th>inflight_wifi_service</th>\n",
       "      <th>ease_of_online_booking</th>\n",
       "      <th>food_and_drink</th>\n",
       "      <th>online_boarding</th>\n",
       "      <th>seat_comfort</th>\n",
       "      <th>inflight_entertainment</th>\n",
       "      <th>onboard_service</th>\n",
       "      <th>leg_room_service</th>\n",
       "      <th>baggage_handling</th>\n",
       "      <th>checkin_service</th>\n",
       "      <th>inflight_service</th>\n",
       "      <th>cleanliness</th>\n",
       "      <th>departure_delay_in_minutes</th>\n",
       "      <th>satisfaction</th>\n",
       "      <th>departure_delay</th>\n",
       "    </tr>\n",
       "  </thead>\n",
       "  <tbody>\n",
       "    <tr>\n",
       "      <th>0</th>\n",
       "      <td>Male</td>\n",
       "      <td>Loyal Customer</td>\n",
       "      <td>Personal Travel</td>\n",
       "      <td>Eco Plus</td>\n",
       "      <td>Neutral</td>\n",
       "      <td>Neutral</td>\n",
       "      <td>Very satisfied</td>\n",
       "      <td>Neutral</td>\n",
       "      <td>Very satisfied</td>\n",
       "      <td>Very satisfied</td>\n",
       "      <td>satisfied</td>\n",
       "      <td>Neutral</td>\n",
       "      <td>satisfied</td>\n",
       "      <td>satisfied</td>\n",
       "      <td>Very satisfied</td>\n",
       "      <td>Very satisfied</td>\n",
       "      <td>25</td>\n",
       "      <td>dissatisfied</td>\n",
       "      <td>30m</td>\n",
       "    </tr>\n",
       "    <tr>\n",
       "      <th>1</th>\n",
       "      <td>Male</td>\n",
       "      <td>disloyal Customer</td>\n",
       "      <td>Business travel</td>\n",
       "      <td>Business</td>\n",
       "      <td>Neutral</td>\n",
       "      <td>Neutral</td>\n",
       "      <td>Very unsatisfied</td>\n",
       "      <td>Neutral</td>\n",
       "      <td>Very unsatisfied</td>\n",
       "      <td>Very unsatisfied</td>\n",
       "      <td>Very unsatisfied</td>\n",
       "      <td>Very satisfied</td>\n",
       "      <td>Neutral</td>\n",
       "      <td>Very unsatisfied</td>\n",
       "      <td>satisfied</td>\n",
       "      <td>Very unsatisfied</td>\n",
       "      <td>1</td>\n",
       "      <td>dissatisfied</td>\n",
       "      <td>10m</td>\n",
       "    </tr>\n",
       "    <tr>\n",
       "      <th>2</th>\n",
       "      <td>Female</td>\n",
       "      <td>Loyal Customer</td>\n",
       "      <td>Business travel</td>\n",
       "      <td>Business</td>\n",
       "      <td>unsatisfied</td>\n",
       "      <td>unsatisfied</td>\n",
       "      <td>Very satisfied</td>\n",
       "      <td>Very satisfied</td>\n",
       "      <td>Very satisfied</td>\n",
       "      <td>Very satisfied</td>\n",
       "      <td>satisfied</td>\n",
       "      <td>Neutral</td>\n",
       "      <td>satisfied</td>\n",
       "      <td>satisfied</td>\n",
       "      <td>satisfied</td>\n",
       "      <td>Very satisfied</td>\n",
       "      <td>0</td>\n",
       "      <td>satisfied</td>\n",
       "      <td>0</td>\n",
       "    </tr>\n",
       "    <tr>\n",
       "      <th>3</th>\n",
       "      <td>Female</td>\n",
       "      <td>Loyal Customer</td>\n",
       "      <td>Business travel</td>\n",
       "      <td>Business</td>\n",
       "      <td>unsatisfied</td>\n",
       "      <td>Very satisfied</td>\n",
       "      <td>unsatisfied</td>\n",
       "      <td>unsatisfied</td>\n",
       "      <td>unsatisfied</td>\n",
       "      <td>unsatisfied</td>\n",
       "      <td>unsatisfied</td>\n",
       "      <td>Very satisfied</td>\n",
       "      <td>Neutral</td>\n",
       "      <td>Very unsatisfied</td>\n",
       "      <td>satisfied</td>\n",
       "      <td>unsatisfied</td>\n",
       "      <td>11</td>\n",
       "      <td>dissatisfied</td>\n",
       "      <td>20m</td>\n",
       "    </tr>\n",
       "    <tr>\n",
       "      <th>4</th>\n",
       "      <td>Male</td>\n",
       "      <td>Loyal Customer</td>\n",
       "      <td>Business travel</td>\n",
       "      <td>Business</td>\n",
       "      <td>Neutral</td>\n",
       "      <td>Neutral</td>\n",
       "      <td>satisfied</td>\n",
       "      <td>Very satisfied</td>\n",
       "      <td>Very satisfied</td>\n",
       "      <td>Neutral</td>\n",
       "      <td>Neutral</td>\n",
       "      <td>satisfied</td>\n",
       "      <td>satisfied</td>\n",
       "      <td>Neutral</td>\n",
       "      <td>Neutral</td>\n",
       "      <td>Neutral</td>\n",
       "      <td>0</td>\n",
       "      <td>satisfied</td>\n",
       "      <td>0</td>\n",
       "    </tr>\n",
       "    <tr>\n",
       "      <th>...</th>\n",
       "      <td>...</td>\n",
       "      <td>...</td>\n",
       "      <td>...</td>\n",
       "      <td>...</td>\n",
       "      <td>...</td>\n",
       "      <td>...</td>\n",
       "      <td>...</td>\n",
       "      <td>...</td>\n",
       "      <td>...</td>\n",
       "      <td>...</td>\n",
       "      <td>...</td>\n",
       "      <td>...</td>\n",
       "      <td>...</td>\n",
       "      <td>...</td>\n",
       "      <td>...</td>\n",
       "      <td>...</td>\n",
       "      <td>...</td>\n",
       "      <td>...</td>\n",
       "      <td>...</td>\n",
       "    </tr>\n",
       "    <tr>\n",
       "      <th>129875</th>\n",
       "      <td>Male</td>\n",
       "      <td>disloyal Customer</td>\n",
       "      <td>Business travel</td>\n",
       "      <td>Business</td>\n",
       "      <td>Neutral</td>\n",
       "      <td>Neutral</td>\n",
       "      <td>satisfied</td>\n",
       "      <td>Neutral</td>\n",
       "      <td>satisfied</td>\n",
       "      <td>satisfied</td>\n",
       "      <td>Neutral</td>\n",
       "      <td>unsatisfied</td>\n",
       "      <td>satisfied</td>\n",
       "      <td>satisfied</td>\n",
       "      <td>Very satisfied</td>\n",
       "      <td>satisfied</td>\n",
       "      <td>0</td>\n",
       "      <td>dissatisfied</td>\n",
       "      <td>0</td>\n",
       "    </tr>\n",
       "    <tr>\n",
       "      <th>129876</th>\n",
       "      <td>Male</td>\n",
       "      <td>Loyal Customer</td>\n",
       "      <td>Business travel</td>\n",
       "      <td>Business</td>\n",
       "      <td>satisfied</td>\n",
       "      <td>satisfied</td>\n",
       "      <td>satisfied</td>\n",
       "      <td>satisfied</td>\n",
       "      <td>satisfied</td>\n",
       "      <td>satisfied</td>\n",
       "      <td>satisfied</td>\n",
       "      <td>Very satisfied</td>\n",
       "      <td>Very satisfied</td>\n",
       "      <td>Very satisfied</td>\n",
       "      <td>Very satisfied</td>\n",
       "      <td>satisfied</td>\n",
       "      <td>0</td>\n",
       "      <td>satisfied</td>\n",
       "      <td>0</td>\n",
       "    </tr>\n",
       "    <tr>\n",
       "      <th>129877</th>\n",
       "      <td>Female</td>\n",
       "      <td>Loyal Customer</td>\n",
       "      <td>Personal Travel</td>\n",
       "      <td>Eco</td>\n",
       "      <td>unsatisfied</td>\n",
       "      <td>Very unsatisfied</td>\n",
       "      <td>unsatisfied</td>\n",
       "      <td>Very unsatisfied</td>\n",
       "      <td>unsatisfied</td>\n",
       "      <td>unsatisfied</td>\n",
       "      <td>satisfied</td>\n",
       "      <td>Neutral</td>\n",
       "      <td>satisfied</td>\n",
       "      <td>Very satisfied</td>\n",
       "      <td>satisfied</td>\n",
       "      <td>unsatisfied</td>\n",
       "      <td>0</td>\n",
       "      <td>dissatisfied</td>\n",
       "      <td>0</td>\n",
       "    </tr>\n",
       "    <tr>\n",
       "      <th>129878</th>\n",
       "      <td>Male</td>\n",
       "      <td>Loyal Customer</td>\n",
       "      <td>Business travel</td>\n",
       "      <td>Business</td>\n",
       "      <td>Neutral</td>\n",
       "      <td>Neutral</td>\n",
       "      <td>satisfied</td>\n",
       "      <td>satisfied</td>\n",
       "      <td>satisfied</td>\n",
       "      <td>satisfied</td>\n",
       "      <td>Neutral</td>\n",
       "      <td>unsatisfied</td>\n",
       "      <td>Very satisfied</td>\n",
       "      <td>satisfied</td>\n",
       "      <td>Very satisfied</td>\n",
       "      <td>satisfied</td>\n",
       "      <td>0</td>\n",
       "      <td>satisfied</td>\n",
       "      <td>0</td>\n",
       "    </tr>\n",
       "    <tr>\n",
       "      <th>129879</th>\n",
       "      <td>Female</td>\n",
       "      <td>Loyal Customer</td>\n",
       "      <td>Personal Travel</td>\n",
       "      <td>Eco</td>\n",
       "      <td>unsatisfied</td>\n",
       "      <td>unsatisfied</td>\n",
       "      <td>satisfied</td>\n",
       "      <td>unsatisfied</td>\n",
       "      <td>unsatisfied</td>\n",
       "      <td>Very unsatisfied</td>\n",
       "      <td>Very unsatisfied</td>\n",
       "      <td>unsatisfied</td>\n",
       "      <td>Very unsatisfied</td>\n",
       "      <td>Very unsatisfied</td>\n",
       "      <td>Very unsatisfied</td>\n",
       "      <td>Very unsatisfied</td>\n",
       "      <td>0</td>\n",
       "      <td>dissatisfied</td>\n",
       "      <td>0</td>\n",
       "    </tr>\n",
       "  </tbody>\n",
       "</table>\n",
       "<p>129487 rows × 19 columns</p>\n",
       "</div>"
      ],
      "text/plain": [
       "        Gender      customer_type   type_of_travel customer_class  \\\n",
       "0         Male     Loyal Customer  Personal Travel       Eco Plus   \n",
       "1         Male  disloyal Customer  Business travel       Business   \n",
       "2       Female     Loyal Customer  Business travel       Business   \n",
       "3       Female     Loyal Customer  Business travel       Business   \n",
       "4         Male     Loyal Customer  Business travel       Business   \n",
       "...        ...                ...              ...            ...   \n",
       "129875    Male  disloyal Customer  Business travel       Business   \n",
       "129876    Male     Loyal Customer  Business travel       Business   \n",
       "129877  Female     Loyal Customer  Personal Travel            Eco   \n",
       "129878    Male     Loyal Customer  Business travel       Business   \n",
       "129879  Female     Loyal Customer  Personal Travel            Eco   \n",
       "\n",
       "       inflight_wifi_service ease_of_online_booking    food_and_drink  \\\n",
       "0                    Neutral                Neutral    Very satisfied   \n",
       "1                    Neutral                Neutral  Very unsatisfied   \n",
       "2                unsatisfied            unsatisfied    Very satisfied   \n",
       "3                unsatisfied         Very satisfied       unsatisfied   \n",
       "4                    Neutral                Neutral         satisfied   \n",
       "...                      ...                    ...               ...   \n",
       "129875               Neutral                Neutral         satisfied   \n",
       "129876             satisfied              satisfied         satisfied   \n",
       "129877           unsatisfied       Very unsatisfied       unsatisfied   \n",
       "129878               Neutral                Neutral         satisfied   \n",
       "129879           unsatisfied            unsatisfied         satisfied   \n",
       "\n",
       "         online_boarding      seat_comfort inflight_entertainment  \\\n",
       "0                Neutral    Very satisfied         Very satisfied   \n",
       "1                Neutral  Very unsatisfied       Very unsatisfied   \n",
       "2         Very satisfied    Very satisfied         Very satisfied   \n",
       "3            unsatisfied       unsatisfied            unsatisfied   \n",
       "4         Very satisfied    Very satisfied                Neutral   \n",
       "...                  ...               ...                    ...   \n",
       "129875           Neutral         satisfied              satisfied   \n",
       "129876         satisfied         satisfied              satisfied   \n",
       "129877  Very unsatisfied       unsatisfied            unsatisfied   \n",
       "129878         satisfied         satisfied              satisfied   \n",
       "129879       unsatisfied       unsatisfied       Very unsatisfied   \n",
       "\n",
       "         onboard_service leg_room_service  baggage_handling   checkin_service  \\\n",
       "0              satisfied          Neutral         satisfied         satisfied   \n",
       "1       Very unsatisfied   Very satisfied           Neutral  Very unsatisfied   \n",
       "2              satisfied          Neutral         satisfied         satisfied   \n",
       "3            unsatisfied   Very satisfied           Neutral  Very unsatisfied   \n",
       "4                Neutral        satisfied         satisfied           Neutral   \n",
       "...                  ...              ...               ...               ...   \n",
       "129875           Neutral      unsatisfied         satisfied         satisfied   \n",
       "129876         satisfied   Very satisfied    Very satisfied    Very satisfied   \n",
       "129877         satisfied          Neutral         satisfied    Very satisfied   \n",
       "129878           Neutral      unsatisfied    Very satisfied         satisfied   \n",
       "129879  Very unsatisfied      unsatisfied  Very unsatisfied  Very unsatisfied   \n",
       "\n",
       "        inflight_service       cleanliness  departure_delay_in_minutes  \\\n",
       "0         Very satisfied    Very satisfied                          25   \n",
       "1              satisfied  Very unsatisfied                           1   \n",
       "2              satisfied    Very satisfied                           0   \n",
       "3              satisfied       unsatisfied                          11   \n",
       "4                Neutral           Neutral                           0   \n",
       "...                  ...               ...                         ...   \n",
       "129875    Very satisfied         satisfied                           0   \n",
       "129876    Very satisfied         satisfied                           0   \n",
       "129877         satisfied       unsatisfied                           0   \n",
       "129878    Very satisfied         satisfied                           0   \n",
       "129879  Very unsatisfied  Very unsatisfied                           0   \n",
       "\n",
       "        satisfaction departure_delay  \n",
       "0       dissatisfied             30m  \n",
       "1       dissatisfied             10m  \n",
       "2          satisfied               0  \n",
       "3       dissatisfied             20m  \n",
       "4          satisfied               0  \n",
       "...              ...             ...  \n",
       "129875  dissatisfied               0  \n",
       "129876     satisfied               0  \n",
       "129877  dissatisfied               0  \n",
       "129878     satisfied               0  \n",
       "129879  dissatisfied               0  \n",
       "\n",
       "[129487 rows x 19 columns]"
      ]
     },
     "execution_count": 37,
     "metadata": {},
     "output_type": "execute_result"
    }
   ],
   "source": [
    "df"
   ]
  },
  {
   "cell_type": "code",
   "execution_count": 38,
   "id": "59dd2145",
   "metadata": {
    "scrolled": true
   },
   "outputs": [],
   "source": [
    "online = df['online_boarding'].value_counts()\n"
   ]
  },
  {
   "cell_type": "code",
   "execution_count": 39,
   "id": "51360c2f",
   "metadata": {},
   "outputs": [
    {
     "data": {
      "image/png": "[encoded data removed]",
      "text/plain": [
       "<Figure size 1008x432 with 1 Axes>"
      ]
     },
     "metadata": {
      "needs_background": "light"
     },
     "output_type": "display_data"
    }
   ],
   "source": [
    "plt.figure(figsize=[14, 6])\n",
    "sns.barplot( x=online.index, y=df['online_boarding'].value_counts(),palette=\"Blues\");"
   ]
  },
  {
   "cell_type": "code",
   "execution_count": 40,
   "id": "324ea276",
   "metadata": {
    "scrolled": true
   },
   "outputs": [],
   "source": [
    "delay = df.departure_delay.value_counts().head(9)"
   ]
  },
  {
   "cell_type": "code",
   "execution_count": 41,
   "id": "3b01cadf",
   "metadata": {},
   "outputs": [
    {
     "data": {
      "image/png": "[encoded data removed]",
      "text/plain": [
       "<Figure size 1008x432 with 1 Axes>"
      ]
     },
     "metadata": {
      "needs_background": "light"
     },
     "output_type": "display_data"
    }
   ],
   "source": [
    "plt.figure(figsize=[14, 6])\n",
    "sns.barplot( x=delay.index, y=df['departure_delay'].value_counts().head(9),palette=\"Blues\");\n",
    "plt.xticks(rotation = 30);"
   ]
  },
  {
   "cell_type": "code",
   "execution_count": 42,
   "id": "8176e3f2",
   "metadata": {
    "scrolled": true
   },
   "outputs": [
    {
     "data": {
      "text/html": [
       "<div>\n",
       "<style scoped>\n",
       "    .dataframe tbody tr th:only-of-type {\n",
       "        vertical-align: middle;\n",
       "    }\n",
       "\n",
       "    .dataframe tbody tr th {\n",
       "        vertical-align: top;\n",
       "    }\n",
       "\n",
       "    .dataframe thead th {\n",
       "        text-align: right;\n",
       "    }\n",
       "</style>\n",
       "<table border=\"1\" class=\"dataframe\">\n",
       "  <thead>\n",
       "    <tr style=\"text-align: right;\">\n",
       "      <th></th>\n",
       "      <th>Gender</th>\n",
       "      <th>customer_type</th>\n",
       "      <th>type_of_travel</th>\n",
       "      <th>customer_class</th>\n",
       "      <th>inflight_wifi_service</th>\n",
       "      <th>ease_of_online_booking</th>\n",
       "      <th>food_and_drink</th>\n",
       "      <th>online_boarding</th>\n",
       "      <th>seat_comfort</th>\n",
       "      <th>inflight_entertainment</th>\n",
       "      <th>onboard_service</th>\n",
       "      <th>leg_room_service</th>\n",
       "      <th>baggage_handling</th>\n",
       "      <th>checkin_service</th>\n",
       "      <th>inflight_service</th>\n",
       "      <th>cleanliness</th>\n",
       "      <th>departure_delay_in_minutes</th>\n",
       "      <th>satisfaction</th>\n",
       "      <th>departure_delay</th>\n",
       "    </tr>\n",
       "  </thead>\n",
       "  <tbody>\n",
       "    <tr>\n",
       "      <th>0</th>\n",
       "      <td>Male</td>\n",
       "      <td>Loyal Customer</td>\n",
       "      <td>Personal Travel</td>\n",
       "      <td>Eco Plus</td>\n",
       "      <td>Neutral</td>\n",
       "      <td>Neutral</td>\n",
       "      <td>Very satisfied</td>\n",
       "      <td>Neutral</td>\n",
       "      <td>Very satisfied</td>\n",
       "      <td>Very satisfied</td>\n",
       "      <td>satisfied</td>\n",
       "      <td>Neutral</td>\n",
       "      <td>satisfied</td>\n",
       "      <td>satisfied</td>\n",
       "      <td>Very satisfied</td>\n",
       "      <td>Very satisfied</td>\n",
       "      <td>25</td>\n",
       "      <td>dissatisfied</td>\n",
       "      <td>30m</td>\n",
       "    </tr>\n",
       "    <tr>\n",
       "      <th>1</th>\n",
       "      <td>Male</td>\n",
       "      <td>disloyal Customer</td>\n",
       "      <td>Business travel</td>\n",
       "      <td>Business</td>\n",
       "      <td>Neutral</td>\n",
       "      <td>Neutral</td>\n",
       "      <td>Very unsatisfied</td>\n",
       "      <td>Neutral</td>\n",
       "      <td>Very unsatisfied</td>\n",
       "      <td>Very unsatisfied</td>\n",
       "      <td>Very unsatisfied</td>\n",
       "      <td>Very satisfied</td>\n",
       "      <td>Neutral</td>\n",
       "      <td>Very unsatisfied</td>\n",
       "      <td>satisfied</td>\n",
       "      <td>Very unsatisfied</td>\n",
       "      <td>1</td>\n",
       "      <td>dissatisfied</td>\n",
       "      <td>10m</td>\n",
       "    </tr>\n",
       "    <tr>\n",
       "      <th>2</th>\n",
       "      <td>Female</td>\n",
       "      <td>Loyal Customer</td>\n",
       "      <td>Business travel</td>\n",
       "      <td>Business</td>\n",
       "      <td>unsatisfied</td>\n",
       "      <td>unsatisfied</td>\n",
       "      <td>Very satisfied</td>\n",
       "      <td>Very satisfied</td>\n",
       "      <td>Very satisfied</td>\n",
       "      <td>Very satisfied</td>\n",
       "      <td>satisfied</td>\n",
       "      <td>Neutral</td>\n",
       "      <td>satisfied</td>\n",
       "      <td>satisfied</td>\n",
       "      <td>satisfied</td>\n",
       "      <td>Very satisfied</td>\n",
       "      <td>0</td>\n",
       "      <td>satisfied</td>\n",
       "      <td>0</td>\n",
       "    </tr>\n",
       "    <tr>\n",
       "      <th>3</th>\n",
       "      <td>Female</td>\n",
       "      <td>Loyal Customer</td>\n",
       "      <td>Business travel</td>\n",
       "      <td>Business</td>\n",
       "      <td>unsatisfied</td>\n",
       "      <td>Very satisfied</td>\n",
       "      <td>unsatisfied</td>\n",
       "      <td>unsatisfied</td>\n",
       "      <td>unsatisfied</td>\n",
       "      <td>unsatisfied</td>\n",
       "      <td>unsatisfied</td>\n",
       "      <td>Very satisfied</td>\n",
       "      <td>Neutral</td>\n",
       "      <td>Very unsatisfied</td>\n",
       "      <td>satisfied</td>\n",
       "      <td>unsatisfied</td>\n",
       "      <td>11</td>\n",
       "      <td>dissatisfied</td>\n",
       "      <td>20m</td>\n",
       "    </tr>\n",
       "    <tr>\n",
       "      <th>4</th>\n",
       "      <td>Male</td>\n",
       "      <td>Loyal Customer</td>\n",
       "      <td>Business travel</td>\n",
       "      <td>Business</td>\n",
       "      <td>Neutral</td>\n",
       "      <td>Neutral</td>\n",
       "      <td>satisfied</td>\n",
       "      <td>Very satisfied</td>\n",
       "      <td>Very satisfied</td>\n",
       "      <td>Neutral</td>\n",
       "      <td>Neutral</td>\n",
       "      <td>satisfied</td>\n",
       "      <td>satisfied</td>\n",
       "      <td>Neutral</td>\n",
       "      <td>Neutral</td>\n",
       "      <td>Neutral</td>\n",
       "      <td>0</td>\n",
       "      <td>satisfied</td>\n",
       "      <td>0</td>\n",
       "    </tr>\n",
       "    <tr>\n",
       "      <th>...</th>\n",
       "      <td>...</td>\n",
       "      <td>...</td>\n",
       "      <td>...</td>\n",
       "      <td>...</td>\n",
       "      <td>...</td>\n",
       "      <td>...</td>\n",
       "      <td>...</td>\n",
       "      <td>...</td>\n",
       "      <td>...</td>\n",
       "      <td>...</td>\n",
       "      <td>...</td>\n",
       "      <td>...</td>\n",
       "      <td>...</td>\n",
       "      <td>...</td>\n",
       "      <td>...</td>\n",
       "      <td>...</td>\n",
       "      <td>...</td>\n",
       "      <td>...</td>\n",
       "      <td>...</td>\n",
       "    </tr>\n",
       "    <tr>\n",
       "      <th>129875</th>\n",
       "      <td>Male</td>\n",
       "      <td>disloyal Customer</td>\n",
       "      <td>Business travel</td>\n",
       "      <td>Business</td>\n",
       "      <td>Neutral</td>\n",
       "      <td>Neutral</td>\n",
       "      <td>satisfied</td>\n",
       "      <td>Neutral</td>\n",
       "      <td>satisfied</td>\n",
       "      <td>satisfied</td>\n",
       "      <td>Neutral</td>\n",
       "      <td>unsatisfied</td>\n",
       "      <td>satisfied</td>\n",
       "      <td>satisfied</td>\n",
       "      <td>Very satisfied</td>\n",
       "      <td>satisfied</td>\n",
       "      <td>0</td>\n",
       "      <td>dissatisfied</td>\n",
       "      <td>0</td>\n",
       "    </tr>\n",
       "    <tr>\n",
       "      <th>129876</th>\n",
       "      <td>Male</td>\n",
       "      <td>Loyal Customer</td>\n",
       "      <td>Business travel</td>\n",
       "      <td>Business</td>\n",
       "      <td>satisfied</td>\n",
       "      <td>satisfied</td>\n",
       "      <td>satisfied</td>\n",
       "      <td>satisfied</td>\n",
       "      <td>satisfied</td>\n",
       "      <td>satisfied</td>\n",
       "      <td>satisfied</td>\n",
       "      <td>Very satisfied</td>\n",
       "      <td>Very satisfied</td>\n",
       "      <td>Very satisfied</td>\n",
       "      <td>Very satisfied</td>\n",
       "      <td>satisfied</td>\n",
       "      <td>0</td>\n",
       "      <td>satisfied</td>\n",
       "      <td>0</td>\n",
       "    </tr>\n",
       "    <tr>\n",
       "      <th>129877</th>\n",
       "      <td>Female</td>\n",
       "      <td>Loyal Customer</td>\n",
       "      <td>Personal Travel</td>\n",
       "      <td>Eco</td>\n",
       "      <td>unsatisfied</td>\n",
       "      <td>Very unsatisfied</td>\n",
       "      <td>unsatisfied</td>\n",
       "      <td>Very unsatisfied</td>\n",
       "      <td>unsatisfied</td>\n",
       "      <td>unsatisfied</td>\n",
       "      <td>satisfied</td>\n",
       "      <td>Neutral</td>\n",
       "      <td>satisfied</td>\n",
       "      <td>Very satisfied</td>\n",
       "      <td>satisfied</td>\n",
       "      <td>unsatisfied</td>\n",
       "      <td>0</td>\n",
       "      <td>dissatisfied</td>\n",
       "      <td>0</td>\n",
       "    </tr>\n",
       "    <tr>\n",
       "      <th>129878</th>\n",
       "      <td>Male</td>\n",
       "      <td>Loyal Customer</td>\n",
       "      <td>Business travel</td>\n",
       "      <td>Business</td>\n",
       "      <td>Neutral</td>\n",
       "      <td>Neutral</td>\n",
       "      <td>satisfied</td>\n",
       "      <td>satisfied</td>\n",
       "      <td>satisfied</td>\n",
       "      <td>satisfied</td>\n",
       "      <td>Neutral</td>\n",
       "      <td>unsatisfied</td>\n",
       "      <td>Very satisfied</td>\n",
       "      <td>satisfied</td>\n",
       "      <td>Very satisfied</td>\n",
       "      <td>satisfied</td>\n",
       "      <td>0</td>\n",
       "      <td>satisfied</td>\n",
       "      <td>0</td>\n",
       "    </tr>\n",
       "    <tr>\n",
       "      <th>129879</th>\n",
       "      <td>Female</td>\n",
       "      <td>Loyal Customer</td>\n",
       "      <td>Personal Travel</td>\n",
       "      <td>Eco</td>\n",
       "      <td>unsatisfied</td>\n",
       "      <td>unsatisfied</td>\n",
       "      <td>satisfied</td>\n",
       "      <td>unsatisfied</td>\n",
       "      <td>unsatisfied</td>\n",
       "      <td>Very unsatisfied</td>\n",
       "      <td>Very unsatisfied</td>\n",
       "      <td>unsatisfied</td>\n",
       "      <td>Very unsatisfied</td>\n",
       "      <td>Very unsatisfied</td>\n",
       "      <td>Very unsatisfied</td>\n",
       "      <td>Very unsatisfied</td>\n",
       "      <td>0</td>\n",
       "      <td>dissatisfied</td>\n",
       "      <td>0</td>\n",
       "    </tr>\n",
       "  </tbody>\n",
       "</table>\n",
       "<p>129487 rows × 19 columns</p>\n",
       "</div>"
      ],
      "text/plain": [
       "        Gender      customer_type   type_of_travel customer_class  \\\n",
       "0         Male     Loyal Customer  Personal Travel       Eco Plus   \n",
       "1         Male  disloyal Customer  Business travel       Business   \n",
       "2       Female     Loyal Customer  Business travel       Business   \n",
       "3       Female     Loyal Customer  Business travel       Business   \n",
       "4         Male     Loyal Customer  Business travel       Business   \n",
       "...        ...                ...              ...            ...   \n",
       "129875    Male  disloyal Customer  Business travel       Business   \n",
       "129876    Male     Loyal Customer  Business travel       Business   \n",
       "129877  Female     Loyal Customer  Personal Travel            Eco   \n",
       "129878    Male     Loyal Customer  Business travel       Business   \n",
       "129879  Female     Loyal Customer  Personal Travel            Eco   \n",
       "\n",
       "       inflight_wifi_service ease_of_online_booking    food_and_drink  \\\n",
       "0                    Neutral                Neutral    Very satisfied   \n",
       "1                    Neutral                Neutral  Very unsatisfied   \n",
       "2                unsatisfied            unsatisfied    Very satisfied   \n",
       "3                unsatisfied         Very satisfied       unsatisfied   \n",
       "4                    Neutral                Neutral         satisfied   \n",
       "...                      ...                    ...               ...   \n",
       "129875               Neutral                Neutral         satisfied   \n",
       "129876             satisfied              satisfied         satisfied   \n",
       "129877           unsatisfied       Very unsatisfied       unsatisfied   \n",
       "129878               Neutral                Neutral         satisfied   \n",
       "129879           unsatisfied            unsatisfied         satisfied   \n",
       "\n",
       "         online_boarding      seat_comfort inflight_entertainment  \\\n",
       "0                Neutral    Very satisfied         Very satisfied   \n",
       "1                Neutral  Very unsatisfied       Very unsatisfied   \n",
       "2         Very satisfied    Very satisfied         Very satisfied   \n",
       "3            unsatisfied       unsatisfied            unsatisfied   \n",
       "4         Very satisfied    Very satisfied                Neutral   \n",
       "...                  ...               ...                    ...   \n",
       "129875           Neutral         satisfied              satisfied   \n",
       "129876         satisfied         satisfied              satisfied   \n",
       "129877  Very unsatisfied       unsatisfied            unsatisfied   \n",
       "129878         satisfied         satisfied              satisfied   \n",
       "129879       unsatisfied       unsatisfied       Very unsatisfied   \n",
       "\n",
       "         onboard_service leg_room_service  baggage_handling   checkin_service  \\\n",
       "0              satisfied          Neutral         satisfied         satisfied   \n",
       "1       Very unsatisfied   Very satisfied           Neutral  Very unsatisfied   \n",
       "2              satisfied          Neutral         satisfied         satisfied   \n",
       "3            unsatisfied   Very satisfied           Neutral  Very unsatisfied   \n",
       "4                Neutral        satisfied         satisfied           Neutral   \n",
       "...                  ...              ...               ...               ...   \n",
       "129875           Neutral      unsatisfied         satisfied         satisfied   \n",
       "129876         satisfied   Very satisfied    Very satisfied    Very satisfied   \n",
       "129877         satisfied          Neutral         satisfied    Very satisfied   \n",
       "129878           Neutral      unsatisfied    Very satisfied         satisfied   \n",
       "129879  Very unsatisfied      unsatisfied  Very unsatisfied  Very unsatisfied   \n",
       "\n",
       "        inflight_service       cleanliness  departure_delay_in_minutes  \\\n",
       "0         Very satisfied    Very satisfied                          25   \n",
       "1              satisfied  Very unsatisfied                           1   \n",
       "2              satisfied    Very satisfied                           0   \n",
       "3              satisfied       unsatisfied                          11   \n",
       "4                Neutral           Neutral                           0   \n",
       "...                  ...               ...                         ...   \n",
       "129875    Very satisfied         satisfied                           0   \n",
       "129876    Very satisfied         satisfied                           0   \n",
       "129877         satisfied       unsatisfied                           0   \n",
       "129878    Very satisfied         satisfied                           0   \n",
       "129879  Very unsatisfied  Very unsatisfied                           0   \n",
       "\n",
       "        satisfaction departure_delay  \n",
       "0       dissatisfied             30m  \n",
       "1       dissatisfied             10m  \n",
       "2          satisfied               0  \n",
       "3       dissatisfied             20m  \n",
       "4          satisfied               0  \n",
       "...              ...             ...  \n",
       "129875  dissatisfied               0  \n",
       "129876     satisfied               0  \n",
       "129877  dissatisfied               0  \n",
       "129878     satisfied               0  \n",
       "129879  dissatisfied               0  \n",
       "\n",
       "[129487 rows x 19 columns]"
      ]
     },
     "execution_count": 42,
     "metadata": {},
     "output_type": "execute_result"
    }
   ],
   "source": [
    "df"
   ]
  },
  {
   "cell_type": "markdown",
   "id": "eb717cbc",
   "metadata": {},
   "source": [
    " **For model**\n",
    "---"
   ]
  },
  {
   "cell_type": "code",
   "execution_count": 43,
   "id": "83107369",
   "metadata": {},
   "outputs": [],
   "source": [
    "df_model['Gender'] = df['Gender'].apply(lambda x: 1 if x == 'Male' else 0)\n",
    "df_model['customer_type'] = df['customer_type'].apply(lambda x: 1 if x == 'Loyal Customer' else 0)\n",
    "df_model['type_of_travel'] = df['type_of_travel'].apply(lambda x: 1 if x == 'Business travel' else 0)"
   ]
  },
  {
   "cell_type": "code",
   "execution_count": 44,
   "id": "5a35c307",
   "metadata": {},
   "outputs": [],
   "source": [
    "customer_class_transfer = {\n",
    "    'Business' : 1 , \n",
    "    'Eco Plus' : 2 , \n",
    "    'Eco' : 3 \n",
    "}"
   ]
  },
  {
   "cell_type": "code",
   "execution_count": 45,
   "id": "057e1b42",
   "metadata": {},
   "outputs": [],
   "source": [
    "df_model['customer_class'] = df_model['customer_class'].map(customer_class_transfer)"
   ]
  },
  {
   "cell_type": "code",
   "execution_count": 46,
   "id": "1df2ae6b",
   "metadata": {},
   "outputs": [],
   "source": [
    "df_model['satisfaction'].values[df_model['satisfaction'] == 'neutral or dissatisfied'] = 'dissatisfied'"
   ]
  },
  {
   "cell_type": "code",
   "execution_count": 47,
   "id": "9fd3233d",
   "metadata": {},
   "outputs": [],
   "source": [
    "df_model['satisfaction'] = df_model['satisfaction'].apply(lambda x: 1 if x == 'satisfied' else 0)"
   ]
  },
  {
   "cell_type": "code",
   "execution_count": 48,
   "id": "4ce376fe",
   "metadata": {
    "scrolled": true
   },
   "outputs": [
    {
     "data": {
      "text/html": [
       "<div>\n",
       "<style scoped>\n",
       "    .dataframe tbody tr th:only-of-type {\n",
       "        vertical-align: middle;\n",
       "    }\n",
       "\n",
       "    .dataframe tbody tr th {\n",
       "        vertical-align: top;\n",
       "    }\n",
       "\n",
       "    .dataframe thead th {\n",
       "        text-align: right;\n",
       "    }\n",
       "</style>\n",
       "<table border=\"1\" class=\"dataframe\">\n",
       "  <thead>\n",
       "    <tr style=\"text-align: right;\">\n",
       "      <th></th>\n",
       "      <th>Gender</th>\n",
       "      <th>customer_type</th>\n",
       "      <th>type_of_travel</th>\n",
       "      <th>customer_class</th>\n",
       "      <th>inflight_wifi_service</th>\n",
       "      <th>ease_of_online_booking</th>\n",
       "      <th>food_and_drink</th>\n",
       "      <th>online_boarding</th>\n",
       "      <th>seat_comfort</th>\n",
       "      <th>inflight_entertainment</th>\n",
       "      <th>onboard_service</th>\n",
       "      <th>leg_room_service</th>\n",
       "      <th>baggage_handling</th>\n",
       "      <th>checkin_service</th>\n",
       "      <th>inflight_service</th>\n",
       "      <th>cleanliness</th>\n",
       "      <th>departure_delay_in_minutes</th>\n",
       "      <th>satisfaction</th>\n",
       "    </tr>\n",
       "  </thead>\n",
       "  <tbody>\n",
       "    <tr>\n",
       "      <th>0</th>\n",
       "      <td>1</td>\n",
       "      <td>1</td>\n",
       "      <td>0</td>\n",
       "      <td>2</td>\n",
       "      <td>3</td>\n",
       "      <td>3</td>\n",
       "      <td>5</td>\n",
       "      <td>3</td>\n",
       "      <td>5</td>\n",
       "      <td>5</td>\n",
       "      <td>4</td>\n",
       "      <td>3</td>\n",
       "      <td>4</td>\n",
       "      <td>4</td>\n",
       "      <td>5</td>\n",
       "      <td>5</td>\n",
       "      <td>25</td>\n",
       "      <td>0</td>\n",
       "    </tr>\n",
       "    <tr>\n",
       "      <th>1</th>\n",
       "      <td>1</td>\n",
       "      <td>0</td>\n",
       "      <td>1</td>\n",
       "      <td>1</td>\n",
       "      <td>3</td>\n",
       "      <td>3</td>\n",
       "      <td>1</td>\n",
       "      <td>3</td>\n",
       "      <td>1</td>\n",
       "      <td>1</td>\n",
       "      <td>1</td>\n",
       "      <td>5</td>\n",
       "      <td>3</td>\n",
       "      <td>1</td>\n",
       "      <td>4</td>\n",
       "      <td>1</td>\n",
       "      <td>1</td>\n",
       "      <td>0</td>\n",
       "    </tr>\n",
       "    <tr>\n",
       "      <th>2</th>\n",
       "      <td>0</td>\n",
       "      <td>1</td>\n",
       "      <td>1</td>\n",
       "      <td>1</td>\n",
       "      <td>2</td>\n",
       "      <td>2</td>\n",
       "      <td>5</td>\n",
       "      <td>5</td>\n",
       "      <td>5</td>\n",
       "      <td>5</td>\n",
       "      <td>4</td>\n",
       "      <td>3</td>\n",
       "      <td>4</td>\n",
       "      <td>4</td>\n",
       "      <td>4</td>\n",
       "      <td>5</td>\n",
       "      <td>0</td>\n",
       "      <td>1</td>\n",
       "    </tr>\n",
       "    <tr>\n",
       "      <th>3</th>\n",
       "      <td>0</td>\n",
       "      <td>1</td>\n",
       "      <td>1</td>\n",
       "      <td>1</td>\n",
       "      <td>2</td>\n",
       "      <td>5</td>\n",
       "      <td>2</td>\n",
       "      <td>2</td>\n",
       "      <td>2</td>\n",
       "      <td>2</td>\n",
       "      <td>2</td>\n",
       "      <td>5</td>\n",
       "      <td>3</td>\n",
       "      <td>1</td>\n",
       "      <td>4</td>\n",
       "      <td>2</td>\n",
       "      <td>11</td>\n",
       "      <td>0</td>\n",
       "    </tr>\n",
       "    <tr>\n",
       "      <th>4</th>\n",
       "      <td>1</td>\n",
       "      <td>1</td>\n",
       "      <td>1</td>\n",
       "      <td>1</td>\n",
       "      <td>3</td>\n",
       "      <td>3</td>\n",
       "      <td>4</td>\n",
       "      <td>5</td>\n",
       "      <td>5</td>\n",
       "      <td>3</td>\n",
       "      <td>3</td>\n",
       "      <td>4</td>\n",
       "      <td>4</td>\n",
       "      <td>3</td>\n",
       "      <td>3</td>\n",
       "      <td>3</td>\n",
       "      <td>0</td>\n",
       "      <td>1</td>\n",
       "    </tr>\n",
       "    <tr>\n",
       "      <th>...</th>\n",
       "      <td>...</td>\n",
       "      <td>...</td>\n",
       "      <td>...</td>\n",
       "      <td>...</td>\n",
       "      <td>...</td>\n",
       "      <td>...</td>\n",
       "      <td>...</td>\n",
       "      <td>...</td>\n",
       "      <td>...</td>\n",
       "      <td>...</td>\n",
       "      <td>...</td>\n",
       "      <td>...</td>\n",
       "      <td>...</td>\n",
       "      <td>...</td>\n",
       "      <td>...</td>\n",
       "      <td>...</td>\n",
       "      <td>...</td>\n",
       "      <td>...</td>\n",
       "    </tr>\n",
       "    <tr>\n",
       "      <th>129875</th>\n",
       "      <td>1</td>\n",
       "      <td>0</td>\n",
       "      <td>1</td>\n",
       "      <td>1</td>\n",
       "      <td>3</td>\n",
       "      <td>3</td>\n",
       "      <td>4</td>\n",
       "      <td>3</td>\n",
       "      <td>4</td>\n",
       "      <td>4</td>\n",
       "      <td>3</td>\n",
       "      <td>2</td>\n",
       "      <td>4</td>\n",
       "      <td>4</td>\n",
       "      <td>5</td>\n",
       "      <td>4</td>\n",
       "      <td>0</td>\n",
       "      <td>0</td>\n",
       "    </tr>\n",
       "    <tr>\n",
       "      <th>129876</th>\n",
       "      <td>1</td>\n",
       "      <td>1</td>\n",
       "      <td>1</td>\n",
       "      <td>1</td>\n",
       "      <td>4</td>\n",
       "      <td>4</td>\n",
       "      <td>4</td>\n",
       "      <td>4</td>\n",
       "      <td>4</td>\n",
       "      <td>4</td>\n",
       "      <td>4</td>\n",
       "      <td>5</td>\n",
       "      <td>5</td>\n",
       "      <td>5</td>\n",
       "      <td>5</td>\n",
       "      <td>4</td>\n",
       "      <td>0</td>\n",
       "      <td>1</td>\n",
       "    </tr>\n",
       "    <tr>\n",
       "      <th>129877</th>\n",
       "      <td>0</td>\n",
       "      <td>1</td>\n",
       "      <td>0</td>\n",
       "      <td>3</td>\n",
       "      <td>2</td>\n",
       "      <td>1</td>\n",
       "      <td>2</td>\n",
       "      <td>1</td>\n",
       "      <td>2</td>\n",
       "      <td>2</td>\n",
       "      <td>4</td>\n",
       "      <td>3</td>\n",
       "      <td>4</td>\n",
       "      <td>5</td>\n",
       "      <td>4</td>\n",
       "      <td>2</td>\n",
       "      <td>0</td>\n",
       "      <td>0</td>\n",
       "    </tr>\n",
       "    <tr>\n",
       "      <th>129878</th>\n",
       "      <td>1</td>\n",
       "      <td>1</td>\n",
       "      <td>1</td>\n",
       "      <td>1</td>\n",
       "      <td>3</td>\n",
       "      <td>3</td>\n",
       "      <td>4</td>\n",
       "      <td>4</td>\n",
       "      <td>4</td>\n",
       "      <td>4</td>\n",
       "      <td>3</td>\n",
       "      <td>2</td>\n",
       "      <td>5</td>\n",
       "      <td>4</td>\n",
       "      <td>5</td>\n",
       "      <td>4</td>\n",
       "      <td>0</td>\n",
       "      <td>1</td>\n",
       "    </tr>\n",
       "    <tr>\n",
       "      <th>129879</th>\n",
       "      <td>0</td>\n",
       "      <td>1</td>\n",
       "      <td>0</td>\n",
       "      <td>3</td>\n",
       "      <td>2</td>\n",
       "      <td>2</td>\n",
       "      <td>4</td>\n",
       "      <td>2</td>\n",
       "      <td>2</td>\n",
       "      <td>1</td>\n",
       "      <td>1</td>\n",
       "      <td>2</td>\n",
       "      <td>1</td>\n",
       "      <td>1</td>\n",
       "      <td>1</td>\n",
       "      <td>1</td>\n",
       "      <td>0</td>\n",
       "      <td>0</td>\n",
       "    </tr>\n",
       "  </tbody>\n",
       "</table>\n",
       "<p>129487 rows × 18 columns</p>\n",
       "</div>"
      ],
      "text/plain": [
       "        Gender  customer_type  type_of_travel  customer_class  \\\n",
       "0            1              1               0               2   \n",
       "1            1              0               1               1   \n",
       "2            0              1               1               1   \n",
       "3            0              1               1               1   \n",
       "4            1              1               1               1   \n",
       "...        ...            ...             ...             ...   \n",
       "129875       1              0               1               1   \n",
       "129876       1              1               1               1   \n",
       "129877       0              1               0               3   \n",
       "129878       1              1               1               1   \n",
       "129879       0              1               0               3   \n",
       "\n",
       "        inflight_wifi_service  ease_of_online_booking  food_and_drink  \\\n",
       "0                           3                       3               5   \n",
       "1                           3                       3               1   \n",
       "2                           2                       2               5   \n",
       "3                           2                       5               2   \n",
       "4                           3                       3               4   \n",
       "...                       ...                     ...             ...   \n",
       "129875                      3                       3               4   \n",
       "129876                      4                       4               4   \n",
       "129877                      2                       1               2   \n",
       "129878                      3                       3               4   \n",
       "129879                      2                       2               4   \n",
       "\n",
       "        online_boarding  seat_comfort  inflight_entertainment  \\\n",
       "0                     3             5                       5   \n",
       "1                     3             1                       1   \n",
       "2                     5             5                       5   \n",
       "3                     2             2                       2   \n",
       "4                     5             5                       3   \n",
       "...                 ...           ...                     ...   \n",
       "129875                3             4                       4   \n",
       "129876                4             4                       4   \n",
       "129877                1             2                       2   \n",
       "129878                4             4                       4   \n",
       "129879                2             2                       1   \n",
       "\n",
       "        onboard_service  leg_room_service  baggage_handling  checkin_service  \\\n",
       "0                     4                 3                 4                4   \n",
       "1                     1                 5                 3                1   \n",
       "2                     4                 3                 4                4   \n",
       "3                     2                 5                 3                1   \n",
       "4                     3                 4                 4                3   \n",
       "...                 ...               ...               ...              ...   \n",
       "129875                3                 2                 4                4   \n",
       "129876                4                 5                 5                5   \n",
       "129877                4                 3                 4                5   \n",
       "129878                3                 2                 5                4   \n",
       "129879                1                 2                 1                1   \n",
       "\n",
       "        inflight_service  cleanliness  departure_delay_in_minutes  \\\n",
       "0                      5            5                          25   \n",
       "1                      4            1                           1   \n",
       "2                      4            5                           0   \n",
       "3                      4            2                          11   \n",
       "4                      3            3                           0   \n",
       "...                  ...          ...                         ...   \n",
       "129875                 5            4                           0   \n",
       "129876                 5            4                           0   \n",
       "129877                 4            2                           0   \n",
       "129878                 5            4                           0   \n",
       "129879                 1            1                           0   \n",
       "\n",
       "        satisfaction  \n",
       "0                  0  \n",
       "1                  0  \n",
       "2                  1  \n",
       "3                  0  \n",
       "4                  1  \n",
       "...              ...  \n",
       "129875             0  \n",
       "129876             1  \n",
       "129877             0  \n",
       "129878             1  \n",
       "129879             0  \n",
       "\n",
       "[129487 rows x 18 columns]"
      ]
     },
     "execution_count": 48,
     "metadata": {},
     "output_type": "execute_result"
    }
   ],
   "source": [
    "df_model"
   ]
  },
  {
   "cell_type": "code",
   "execution_count": 49,
   "id": "8efb3773",
   "metadata": {
    "scrolled": false
   },
   "outputs": [
    {
     "name": "stdout",
     "output_type": "stream",
     "text": [
      "<class 'pandas.core.frame.DataFrame'>\n",
      "Int64Index: 129487 entries, 0 to 129879\n",
      "Data columns (total 18 columns):\n",
      " #   Column                      Non-Null Count   Dtype\n",
      "---  ------                      --------------   -----\n",
      " 0   Gender                      129487 non-null  int64\n",
      " 1   customer_type               129487 non-null  int64\n",
      " 2   type_of_travel              129487 non-null  int64\n",
      " 3   customer_class              129487 non-null  int64\n",
      " 4   inflight_wifi_service       129487 non-null  int64\n",
      " 5   ease_of_online_booking      129487 non-null  int64\n",
      " 6   food_and_drink              129487 non-null  int64\n",
      " 7   online_boarding             129487 non-null  int64\n",
      " 8   seat_comfort                129487 non-null  int64\n",
      " 9   inflight_entertainment      129487 non-null  int64\n",
      " 10  onboard_service             129487 non-null  int64\n",
      " 11  leg_room_service            129487 non-null  int64\n",
      " 12  baggage_handling            129487 non-null  int64\n",
      " 13  checkin_service             129487 non-null  int64\n",
      " 14  inflight_service            129487 non-null  int64\n",
      " 15  cleanliness                 129487 non-null  int64\n",
      " 16  departure_delay_in_minutes  129487 non-null  int64\n",
      " 17  satisfaction                129487 non-null  int64\n",
      "dtypes: int64(18)\n",
      "memory usage: 18.8 MB\n"
     ]
    }
   ],
   "source": [
    "df_model.info()"
   ]
  },
  {
   "cell_type": "code",
   "execution_count": 162,
   "id": "a5d6c6b4",
   "metadata": {},
   "outputs": [
    {
     "data": {
      "image/png": "[encoded data removed]",
      "text/plain": [
       "<Figure size 504x432 with 1 Axes>"
      ]
     },
     "metadata": {
      "needs_background": "light"
     },
     "output_type": "display_data"
    }
   ],
   "source": [
    "warnings.filterwarnings('ignore')\n",
    "plt.figure(figsize=(7, 6));\n",
    "sns.countplot(df_model['satisfaction'],palette=\"Blues\");"
   ]
  },
  {
   "cell_type": "code",
   "execution_count": 51,
   "id": "db80de5c",
   "metadata": {},
   "outputs": [],
   "source": [
    "X = df_model.drop(['satisfaction'],axis=1)\n",
    "y = df_model['satisfaction']"
   ]
  },
  {
   "cell_type": "code",
   "execution_count": 52,
   "id": "b8b197dd",
   "metadata": {},
   "outputs": [
    {
     "data": {
      "text/html": [
       "<div>\n",
       "<style scoped>\n",
       "    .dataframe tbody tr th:only-of-type {\n",
       "        vertical-align: middle;\n",
       "    }\n",
       "\n",
       "    .dataframe tbody tr th {\n",
       "        vertical-align: top;\n",
       "    }\n",
       "\n",
       "    .dataframe thead th {\n",
       "        text-align: right;\n",
       "    }\n",
       "</style>\n",
       "<table border=\"1\" class=\"dataframe\">\n",
       "  <thead>\n",
       "    <tr style=\"text-align: right;\">\n",
       "      <th></th>\n",
       "      <th>Gender</th>\n",
       "      <th>customer_type</th>\n",
       "      <th>type_of_travel</th>\n",
       "      <th>customer_class</th>\n",
       "      <th>inflight_wifi_service</th>\n",
       "      <th>ease_of_online_booking</th>\n",
       "      <th>food_and_drink</th>\n",
       "      <th>online_boarding</th>\n",
       "      <th>seat_comfort</th>\n",
       "      <th>inflight_entertainment</th>\n",
       "      <th>onboard_service</th>\n",
       "      <th>leg_room_service</th>\n",
       "      <th>baggage_handling</th>\n",
       "      <th>checkin_service</th>\n",
       "      <th>inflight_service</th>\n",
       "      <th>cleanliness</th>\n",
       "      <th>departure_delay_in_minutes</th>\n",
       "    </tr>\n",
       "  </thead>\n",
       "  <tbody>\n",
       "    <tr>\n",
       "      <th>0</th>\n",
       "      <td>1</td>\n",
       "      <td>1</td>\n",
       "      <td>0</td>\n",
       "      <td>2</td>\n",
       "      <td>3</td>\n",
       "      <td>3</td>\n",
       "      <td>5</td>\n",
       "      <td>3</td>\n",
       "      <td>5</td>\n",
       "      <td>5</td>\n",
       "      <td>4</td>\n",
       "      <td>3</td>\n",
       "      <td>4</td>\n",
       "      <td>4</td>\n",
       "      <td>5</td>\n",
       "      <td>5</td>\n",
       "      <td>25</td>\n",
       "    </tr>\n",
       "    <tr>\n",
       "      <th>1</th>\n",
       "      <td>1</td>\n",
       "      <td>0</td>\n",
       "      <td>1</td>\n",
       "      <td>1</td>\n",
       "      <td>3</td>\n",
       "      <td>3</td>\n",
       "      <td>1</td>\n",
       "      <td>3</td>\n",
       "      <td>1</td>\n",
       "      <td>1</td>\n",
       "      <td>1</td>\n",
       "      <td>5</td>\n",
       "      <td>3</td>\n",
       "      <td>1</td>\n",
       "      <td>4</td>\n",
       "      <td>1</td>\n",
       "      <td>1</td>\n",
       "    </tr>\n",
       "    <tr>\n",
       "      <th>2</th>\n",
       "      <td>0</td>\n",
       "      <td>1</td>\n",
       "      <td>1</td>\n",
       "      <td>1</td>\n",
       "      <td>2</td>\n",
       "      <td>2</td>\n",
       "      <td>5</td>\n",
       "      <td>5</td>\n",
       "      <td>5</td>\n",
       "      <td>5</td>\n",
       "      <td>4</td>\n",
       "      <td>3</td>\n",
       "      <td>4</td>\n",
       "      <td>4</td>\n",
       "      <td>4</td>\n",
       "      <td>5</td>\n",
       "      <td>0</td>\n",
       "    </tr>\n",
       "    <tr>\n",
       "      <th>3</th>\n",
       "      <td>0</td>\n",
       "      <td>1</td>\n",
       "      <td>1</td>\n",
       "      <td>1</td>\n",
       "      <td>2</td>\n",
       "      <td>5</td>\n",
       "      <td>2</td>\n",
       "      <td>2</td>\n",
       "      <td>2</td>\n",
       "      <td>2</td>\n",
       "      <td>2</td>\n",
       "      <td>5</td>\n",
       "      <td>3</td>\n",
       "      <td>1</td>\n",
       "      <td>4</td>\n",
       "      <td>2</td>\n",
       "      <td>11</td>\n",
       "    </tr>\n",
       "    <tr>\n",
       "      <th>4</th>\n",
       "      <td>1</td>\n",
       "      <td>1</td>\n",
       "      <td>1</td>\n",
       "      <td>1</td>\n",
       "      <td>3</td>\n",
       "      <td>3</td>\n",
       "      <td>4</td>\n",
       "      <td>5</td>\n",
       "      <td>5</td>\n",
       "      <td>3</td>\n",
       "      <td>3</td>\n",
       "      <td>4</td>\n",
       "      <td>4</td>\n",
       "      <td>3</td>\n",
       "      <td>3</td>\n",
       "      <td>3</td>\n",
       "      <td>0</td>\n",
       "    </tr>\n",
       "    <tr>\n",
       "      <th>...</th>\n",
       "      <td>...</td>\n",
       "      <td>...</td>\n",
       "      <td>...</td>\n",
       "      <td>...</td>\n",
       "      <td>...</td>\n",
       "      <td>...</td>\n",
       "      <td>...</td>\n",
       "      <td>...</td>\n",
       "      <td>...</td>\n",
       "      <td>...</td>\n",
       "      <td>...</td>\n",
       "      <td>...</td>\n",
       "      <td>...</td>\n",
       "      <td>...</td>\n",
       "      <td>...</td>\n",
       "      <td>...</td>\n",
       "      <td>...</td>\n",
       "    </tr>\n",
       "    <tr>\n",
       "      <th>129875</th>\n",
       "      <td>1</td>\n",
       "      <td>0</td>\n",
       "      <td>1</td>\n",
       "      <td>1</td>\n",
       "      <td>3</td>\n",
       "      <td>3</td>\n",
       "      <td>4</td>\n",
       "      <td>3</td>\n",
       "      <td>4</td>\n",
       "      <td>4</td>\n",
       "      <td>3</td>\n",
       "      <td>2</td>\n",
       "      <td>4</td>\n",
       "      <td>4</td>\n",
       "      <td>5</td>\n",
       "      <td>4</td>\n",
       "      <td>0</td>\n",
       "    </tr>\n",
       "    <tr>\n",
       "      <th>129876</th>\n",
       "      <td>1</td>\n",
       "      <td>1</td>\n",
       "      <td>1</td>\n",
       "      <td>1</td>\n",
       "      <td>4</td>\n",
       "      <td>4</td>\n",
       "      <td>4</td>\n",
       "      <td>4</td>\n",
       "      <td>4</td>\n",
       "      <td>4</td>\n",
       "      <td>4</td>\n",
       "      <td>5</td>\n",
       "      <td>5</td>\n",
       "      <td>5</td>\n",
       "      <td>5</td>\n",
       "      <td>4</td>\n",
       "      <td>0</td>\n",
       "    </tr>\n",
       "    <tr>\n",
       "      <th>129877</th>\n",
       "      <td>0</td>\n",
       "      <td>1</td>\n",
       "      <td>0</td>\n",
       "      <td>3</td>\n",
       "      <td>2</td>\n",
       "      <td>1</td>\n",
       "      <td>2</td>\n",
       "      <td>1</td>\n",
       "      <td>2</td>\n",
       "      <td>2</td>\n",
       "      <td>4</td>\n",
       "      <td>3</td>\n",
       "      <td>4</td>\n",
       "      <td>5</td>\n",
       "      <td>4</td>\n",
       "      <td>2</td>\n",
       "      <td>0</td>\n",
       "    </tr>\n",
       "    <tr>\n",
       "      <th>129878</th>\n",
       "      <td>1</td>\n",
       "      <td>1</td>\n",
       "      <td>1</td>\n",
       "      <td>1</td>\n",
       "      <td>3</td>\n",
       "      <td>3</td>\n",
       "      <td>4</td>\n",
       "      <td>4</td>\n",
       "      <td>4</td>\n",
       "      <td>4</td>\n",
       "      <td>3</td>\n",
       "      <td>2</td>\n",
       "      <td>5</td>\n",
       "      <td>4</td>\n",
       "      <td>5</td>\n",
       "      <td>4</td>\n",
       "      <td>0</td>\n",
       "    </tr>\n",
       "    <tr>\n",
       "      <th>129879</th>\n",
       "      <td>0</td>\n",
       "      <td>1</td>\n",
       "      <td>0</td>\n",
       "      <td>3</td>\n",
       "      <td>2</td>\n",
       "      <td>2</td>\n",
       "      <td>4</td>\n",
       "      <td>2</td>\n",
       "      <td>2</td>\n",
       "      <td>1</td>\n",
       "      <td>1</td>\n",
       "      <td>2</td>\n",
       "      <td>1</td>\n",
       "      <td>1</td>\n",
       "      <td>1</td>\n",
       "      <td>1</td>\n",
       "      <td>0</td>\n",
       "    </tr>\n",
       "  </tbody>\n",
       "</table>\n",
       "<p>129487 rows × 17 columns</p>\n",
       "</div>"
      ],
      "text/plain": [
       "        Gender  customer_type  type_of_travel  customer_class  \\\n",
       "0            1              1               0               2   \n",
       "1            1              0               1               1   \n",
       "2            0              1               1               1   \n",
       "3            0              1               1               1   \n",
       "4            1              1               1               1   \n",
       "...        ...            ...             ...             ...   \n",
       "129875       1              0               1               1   \n",
       "129876       1              1               1               1   \n",
       "129877       0              1               0               3   \n",
       "129878       1              1               1               1   \n",
       "129879       0              1               0               3   \n",
       "\n",
       "        inflight_wifi_service  ease_of_online_booking  food_and_drink  \\\n",
       "0                           3                       3               5   \n",
       "1                           3                       3               1   \n",
       "2                           2                       2               5   \n",
       "3                           2                       5               2   \n",
       "4                           3                       3               4   \n",
       "...                       ...                     ...             ...   \n",
       "129875                      3                       3               4   \n",
       "129876                      4                       4               4   \n",
       "129877                      2                       1               2   \n",
       "129878                      3                       3               4   \n",
       "129879                      2                       2               4   \n",
       "\n",
       "        online_boarding  seat_comfort  inflight_entertainment  \\\n",
       "0                     3             5                       5   \n",
       "1                     3             1                       1   \n",
       "2                     5             5                       5   \n",
       "3                     2             2                       2   \n",
       "4                     5             5                       3   \n",
       "...                 ...           ...                     ...   \n",
       "129875                3             4                       4   \n",
       "129876                4             4                       4   \n",
       "129877                1             2                       2   \n",
       "129878                4             4                       4   \n",
       "129879                2             2                       1   \n",
       "\n",
       "        onboard_service  leg_room_service  baggage_handling  checkin_service  \\\n",
       "0                     4                 3                 4                4   \n",
       "1                     1                 5                 3                1   \n",
       "2                     4                 3                 4                4   \n",
       "3                     2                 5                 3                1   \n",
       "4                     3                 4                 4                3   \n",
       "...                 ...               ...               ...              ...   \n",
       "129875                3                 2                 4                4   \n",
       "129876                4                 5                 5                5   \n",
       "129877                4                 3                 4                5   \n",
       "129878                3                 2                 5                4   \n",
       "129879                1                 2                 1                1   \n",
       "\n",
       "        inflight_service  cleanliness  departure_delay_in_minutes  \n",
       "0                      5            5                          25  \n",
       "1                      4            1                           1  \n",
       "2                      4            5                           0  \n",
       "3                      4            2                          11  \n",
       "4                      3            3                           0  \n",
       "...                  ...          ...                         ...  \n",
       "129875                 5            4                           0  \n",
       "129876                 5            4                           0  \n",
       "129877                 4            2                           0  \n",
       "129878                 5            4                           0  \n",
       "129879                 1            1                           0  \n",
       "\n",
       "[129487 rows x 17 columns]"
      ]
     },
     "execution_count": 52,
     "metadata": {},
     "output_type": "execute_result"
    }
   ],
   "source": [
    "X"
   ]
  },
  {
   "cell_type": "code",
   "execution_count": 53,
   "id": "e9138ee0",
   "metadata": {},
   "outputs": [],
   "source": [
    "X_train, X_test, y_train, y_test = train_test_split(X, y, test_size = 0.2,random_state=42)"
   ]
  },
  {
   "cell_type": "code",
   "execution_count": 54,
   "id": "f12b51fd",
   "metadata": {
    "scrolled": false
   },
   "outputs": [
    {
     "name": "stdout",
     "output_type": "stream",
     "text": [
      "X_train: (103589, 17)\n",
      "X_test: (25898, 17)\n",
      "y_train: (103589,)\n",
      "y_test: (25898,)\n"
     ]
    }
   ],
   "source": [
    "print('X_train:',X_train.shape)\n",
    "print('X_test:',X_test.shape)\n",
    "print('y_train:',y_train.shape)\n",
    "print('y_test:',y_test.shape)"
   ]
  },
  {
   "cell_type": "markdown",
   "id": "af4ff0a0",
   "metadata": {},
   "source": [
    "## Classificatons"
   ]
  },
  {
   "cell_type": "markdown",
   "id": "46b7f0f7",
   "metadata": {},
   "source": [
    "## 1. K – Nearest Neighbor (KNN) Classification"
   ]
  },
  {
   "cell_type": "code",
   "execution_count": 55,
   "id": "bcedb560",
   "metadata": {},
   "outputs": [],
   "source": [
    "sc = StandardScaler()\n",
    "X_train = sc.fit_transform(X_train)\n",
    "X_test = sc.transform (X_test)"
   ]
  },
  {
   "cell_type": "code",
   "execution_count": 56,
   "id": "dc33f756",
   "metadata": {},
   "outputs": [
    {
     "data": {
      "text/plain": [
       "KNeighborsClassifier(algorithm='brute', n_neighbors=11)"
      ]
     },
     "execution_count": 56,
     "metadata": {},
     "output_type": "execute_result"
    }
   ],
   "source": [
    "knn = KNeighborsClassifier(algorithm='brute', n_neighbors=11)\n",
    "knn.fit(X_train,y_train)"
   ]
  },
  {
   "cell_type": "code",
   "execution_count": 57,
   "id": "b43396b3",
   "metadata": {},
   "outputs": [
    {
     "name": "stdout",
     "output_type": "stream",
     "text": [
      "Prediction for test set: [1 0 0 ... 1 1 0]\n"
     ]
    }
   ],
   "source": [
    "#Prediction of test set\n",
    "y_pred = knn.predict(X_test)\n",
    "#print the predicted values\n",
    "print(\"Prediction for test set: {}\".format(y_pred))"
   ]
  },
  {
   "cell_type": "code",
   "execution_count": 58,
   "id": "d1a62137",
   "metadata": {},
   "outputs": [
    {
     "name": "stdout",
     "output_type": "stream",
     "text": [
      "[[14238   430]\n",
      " [ 1348  9882]]\n"
     ]
    }
   ],
   "source": [
    "model = confusion_matrix(y_test, y_pred)\n",
    "print(model)"
   ]
  },
  {
   "cell_type": "code",
   "execution_count": 59,
   "id": "2dd4e967",
   "metadata": {},
   "outputs": [
    {
     "name": "stdout",
     "output_type": "stream",
     "text": [
      "Report :                precision    recall  f1-score   support\n",
      "\n",
      "           0       0.91      0.97      0.94     14668\n",
      "           1       0.96      0.88      0.92     11230\n",
      "\n",
      "    accuracy                           0.93     25898\n",
      "   macro avg       0.94      0.93      0.93     25898\n",
      "weighted avg       0.93      0.93      0.93     25898\n",
      "\n"
     ]
    }
   ],
   "source": [
    "print(\"Report : \",classification_report(y_test, y_pred ))"
   ]
  },
  {
   "cell_type": "code",
   "execution_count": 60,
   "id": "2d029bfa",
   "metadata": {
    "scrolled": true
   },
   "outputs": [
    {
     "data": {
      "image/png": "[encoded data removed]",
      "text/plain": [
       "<Figure size 360x288 with 2 Axes>"
      ]
     },
     "metadata": {
      "needs_background": "light"
     },
     "output_type": "display_data"
    }
   ],
   "source": [
    "knn_cm = confusion_matrix(y_test, y_pred)\n",
    "class_names=[0, 1] # name  of classes\n",
    "fig, ax = plt.subplots(figsize=(5, 4))\n",
    "sns.heatmap(pd.DataFrame(knn_cm), annot=True, cmap=\"Blues\", fmt='g')\n",
    "ax.xaxis.set_label_position(\"top\")\n",
    "plt.tight_layout()\n",
    "plt.title('KNN Confusion matrix')\n",
    "plt.ylabel('Actual')\n",
    "plt.xlabel('Predicted')\n",
    "tick_marks = [0.5, 1.5]\n",
    "plt.xticks(tick_marks, class_names)\n",
    "plt.yticks(tick_marks, class_names);"
   ]
  },
  {
   "cell_type": "markdown",
   "id": "2ccef0f9",
   "metadata": {},
   "source": [
    "## 2. Logistic Classification"
   ]
  },
  {
   "cell_type": "code",
   "execution_count": 61,
   "id": "b4755ad3",
   "metadata": {},
   "outputs": [
    {
     "name": "stdout",
     "output_type": "stream",
     "text": [
      "Report :                precision    recall  f1-score   support\n",
      "\n",
      "           0       0.88      0.90      0.89     14668\n",
      "           1       0.87      0.84      0.85     11230\n",
      "\n",
      "    accuracy                           0.87     25898\n",
      "   macro avg       0.87      0.87      0.87     25898\n",
      "weighted avg       0.87      0.87      0.87     25898\n",
      "\n"
     ]
    }
   ],
   "source": [
    "lor_clf = LogisticRegression(solver='liblinear')\n",
    "\n",
    "## fit the model with \"train_x\" and \"train_y\"\n",
    "lor_clf.fit(X_train,y_train)\n",
    "\n",
    "## Once the model is trained we want to find out how well the model is performing, so we test the model. \n",
    "## we use \"test_x\" portion of the data(this data was not used to fit the model) to predict model outcome. \n",
    "y_predict_logistic = lor_clf.predict(X_test)\n",
    "\n",
    "#Classification_report:\n",
    "print(\"Report : \",classification_report(y_test, y_predict_logistic))"
   ]
  },
  {
   "cell_type": "code",
   "execution_count": 62,
   "id": "2e90158b",
   "metadata": {},
   "outputs": [
    {
     "data": {
      "image/png": "[encoded data removed]",
      "text/plain": [
       "<Figure size 360x288 with 2 Axes>"
      ]
     },
     "metadata": {
      "needs_background": "light"
     },
     "output_type": "display_data"
    }
   ],
   "source": [
    "cm = confusion_matrix(y_test, y_predict_logistic)\n",
    "class_names=[0, 1] # name  of classes\n",
    "fig, ax = plt.subplots(figsize=(5, 4))\n",
    "sns.heatmap(pd.DataFrame(cm), annot=True, cmap=\"Blues\", fmt='g')\n",
    "ax.xaxis.set_label_position(\"top\")\n",
    "plt.tight_layout()\n",
    "plt.title('Logistic Regression Confusion matrix')\n",
    "plt.ylabel('Actual')\n",
    "plt.xlabel('Predicted')\n",
    "tick_marks = [0.5, 1.5]\n",
    "plt.xticks(tick_marks, class_names)\n",
    "plt.yticks(tick_marks, class_names);"
   ]
  },
  {
   "cell_type": "markdown",
   "id": "04f77506",
   "metadata": {},
   "source": [
    "## 3. Decision Tree"
   ]
  },
  {
   "cell_type": "code",
   "execution_count": 63,
   "id": "5ab41d6a",
   "metadata": {},
   "outputs": [],
   "source": [
    "#Create Decision Tree classifer object\n",
    "dt_clf = DecisionTreeClassifier(criterion=\"entropy\", max_depth=12)\n",
    "\n",
    "#Train Decision Tree Classifer\n",
    "dt_clf.fit(X_train,y_train)\n",
    "\n",
    "#Predict the response for test dataset\n",
    "y_predict_decision = dt_clf.predict(X_test)"
   ]
  },
  {
   "cell_type": "code",
   "execution_count": 64,
   "id": "65280d85",
   "metadata": {},
   "outputs": [
    {
     "name": "stdout",
     "output_type": "stream",
     "text": [
      "Report:               precision    recall  f1-score   support\n",
      "\n",
      "           0       0.94      0.97      0.96     14668\n",
      "           1       0.96      0.92      0.94     11230\n",
      "\n",
      "    accuracy                           0.95     25898\n",
      "   macro avg       0.95      0.95      0.95     25898\n",
      "weighted avg       0.95      0.95      0.95     25898\n",
      "\n"
     ]
    }
   ],
   "source": [
    "#Classification_report:\n",
    "print(\"Report:\",classification_report(y_test, y_predict_decision))"
   ]
  },
  {
   "cell_type": "code",
   "execution_count": 65,
   "id": "c6b3f099",
   "metadata": {},
   "outputs": [
    {
     "data": {
      "image/png": "[encoded data removed]",
      "text/plain": [
       "<Figure size 360x288 with 2 Axes>"
      ]
     },
     "metadata": {
      "needs_background": "light"
     },
     "output_type": "display_data"
    }
   ],
   "source": [
    "dec_cm = confusion_matrix(y_test, y_predict_decision)\n",
    "class_names=[0,1] # name  of classes\n",
    "fig, ax = plt.subplots(figsize=(5, 4))\n",
    "sns.heatmap(pd.DataFrame(dec_cm), annot=True, cmap=\"Blues\", fmt='g')\n",
    "ax.xaxis.set_label_position(\"top\")\n",
    "plt.tight_layout()\n",
    "plt.title('Decision Tree Confusion matrix')\n",
    "plt.ylabel('Actual label')\n",
    "plt.xlabel('Predicted label')\n",
    "tick_marks = [0.5, 1.5]\n",
    "plt.xticks(tick_marks, class_names)\n",
    "plt.yticks(tick_marks, class_names);"
   ]
  },
  {
   "cell_type": "markdown",
   "id": "1fa228e3",
   "metadata": {},
   "source": [
    "## 4. Random Forest"
   ]
  },
  {
   "cell_type": "code",
   "execution_count": 121,
   "id": "45d96cf1",
   "metadata": {},
   "outputs": [],
   "source": [
    "## for test selcshen\n",
    "\n",
    "clf = RandomForestClassifier(criterion='entropy')\n",
    "# Training the model on the training dataset\n",
    "# fit function is used to train the model using the training sets as parameters\n",
    "clf.fit(X_train,y_train)\n",
    "# performing predictions on the test dataset\n",
    "y_predict_randem = clf.predict(X_test)"
   ]
  },
  {
   "cell_type": "code",
   "execution_count": 122,
   "id": "577a2dd5",
   "metadata": {
    "scrolled": false
   },
   "outputs": [
    {
     "name": "stdout",
     "output_type": "stream",
     "text": [
      "Report :                precision    recall  f1-score   support\n",
      "\n",
      "           0       0.95      0.97      0.96     14668\n",
      "           1       0.97      0.94      0.95     11230\n",
      "\n",
      "    accuracy                           0.96     25898\n",
      "   macro avg       0.96      0.96      0.96     25898\n",
      "weighted avg       0.96      0.96      0.96     25898\n",
      "\n"
     ]
    }
   ],
   "source": [
    "#Classification report: \n",
    "print(\"Report : \",classification_report(y_test, y_predict_randem))"
   ]
  },
  {
   "cell_type": "code",
   "execution_count": 123,
   "id": "1bcb3d7a",
   "metadata": {
    "scrolled": false
   },
   "outputs": [
    {
     "data": {
      "image/png": "[encoded data removed]",
      "text/plain": [
       "<Figure size 360x288 with 2 Axes>"
      ]
     },
     "metadata": {
      "needs_background": "light"
     },
     "output_type": "display_data"
    }
   ],
   "source": [
    "rf_cm = confusion_matrix(y_test, y_predict_randem)\n",
    "class_names=[0, 1] # name  of classes\n",
    "fig, ax = plt.subplots(figsize=(5, 4))\n",
    "sns.heatmap(pd.DataFrame(rf_cm), annot=True, cmap=\"Blues\", fmt='g')\n",
    "#YlGnBu\n",
    "ax.xaxis.set_label_position(\"top\")\n",
    "plt.tight_layout()\n",
    "plt.title('Random Forest Confusion matrix')\n",
    "plt.ylabel('Actual')\n",
    "plt.xlabel('Predicted')\n",
    "tick_marks = [0.5, 1.5]\n",
    "plt.xticks(tick_marks, class_names)\n",
    "plt.yticks(tick_marks, class_names);"
   ]
  },
  {
   "cell_type": "markdown",
   "id": "6419523b",
   "metadata": {},
   "source": [
    "## 5. Xgboost Classification"
   ]
  },
  {
   "cell_type": "code",
   "execution_count": 164,
   "id": "9314263e",
   "metadata": {},
   "outputs": [
    {
     "name": "stdout",
     "output_type": "stream",
     "text": [
      "[22:33:12] WARNING: /opt/concourse/worker/volumes/live/7a2b9f41-3287-451b-6691-43e9a6c0910f/volume/xgboost-split_1619728204606/work/src/objective/regression_obj.cu:170: reg:linear is now deprecated in favor of reg:squarederror.\n"
     ]
    }
   ],
   "source": [
    "warnings.filterwarnings('ignore')\n",
    "scaler = StandardScaler()\n",
    "X_train = scaler.fit_transform(X_train)\n",
    "X_test = scaler.transform(X_test)\n",
    "\n",
    "xgb_clf = xgb.XGBClassifier(objective ='reg:linear', colsample_bytree = 0.3, learning_rate = 0.1,\n",
    "                max_depth = 5, alpha = 10, n_estimators = 10)\n",
    "\n",
    "xgb_clf.fit(X_train,y_train)\n",
    "y_predict_xgboost = xgb_clf.predict(X_test)"
   ]
  },
  {
   "cell_type": "code",
   "execution_count": 73,
   "id": "4d6eda80",
   "metadata": {},
   "outputs": [
    {
     "name": "stdout",
     "output_type": "stream",
     "text": [
      "Report :                precision    recall  f1-score   support\n",
      "\n",
      "           0       0.91      0.95      0.93     14668\n",
      "           1       0.92      0.87      0.90     11230\n",
      "\n",
      "    accuracy                           0.91     25898\n",
      "   macro avg       0.92      0.91      0.91     25898\n",
      "weighted avg       0.92      0.91      0.91     25898\n",
      "\n"
     ]
    }
   ],
   "source": [
    "print(\"Report : \",classification_report(y_test, y_predict_xgboost))"
   ]
  },
  {
   "cell_type": "code",
   "execution_count": 166,
   "id": "761974ac",
   "metadata": {},
   "outputs": [
    {
     "data": {
      "image/png": "[encoded data removed]",
      "text/plain": [
       "<Figure size 360x288 with 2 Axes>"
      ]
     },
     "metadata": {
      "needs_background": "light"
     },
     "output_type": "display_data"
    }
   ],
   "source": [
    "cm = confusion_matrix(y_test, y_predict_xgboost)\n",
    "class_names=[0,1] # name  of classes\n",
    "fig, ax = plt.subplots(figsize=(5, 4))\n",
    "sns.heatmap(pd.DataFrame(cm), annot=True, cmap=\"Blues\", fmt='g')\n",
    "ax.xaxis.set_label_position(\"top\")\n",
    "plt.tight_layout()\n",
    "plt.title('XGboost Confusion matrix')\n",
    "plt.ylabel('Actual ')\n",
    "plt.xlabel('Predicted')\n",
    "tick_marks = [0.5, 1.5]\n",
    "plt.xticks(tick_marks, class_names)\n",
    "plt.yticks(tick_marks, class_names);"
   ]
  },
  {
   "cell_type": "markdown",
   "id": "ce29c417",
   "metadata": {},
   "source": [
    "## 6. Support Vector Machine"
   ]
  },
  {
   "cell_type": "code",
   "execution_count": 75,
   "id": "213a8bce",
   "metadata": {},
   "outputs": [],
   "source": [
    "#Create a svm Classifier\n",
    "svm_clf = svm.SVC(C=10,kernel='rbf',gamma=0.01) \n",
    "\n",
    "#Train the model using the training sets\n",
    "svm_clf.fit(X_train, y_train)\n",
    "\n",
    "#Predict the response for test dataset\n",
    "y_predict_support = svm_clf.predict(X_test)"
   ]
  },
  {
   "cell_type": "code",
   "execution_count": 76,
   "id": "9af7aa7e",
   "metadata": {},
   "outputs": [
    {
     "name": "stdout",
     "output_type": "stream",
     "text": [
      "Report :                precision    recall  f1-score   support\n",
      "\n",
      "           0       0.94      0.96      0.95     14668\n",
      "           1       0.95      0.93      0.94     11230\n",
      "\n",
      "    accuracy                           0.95     25898\n",
      "   macro avg       0.95      0.94      0.94     25898\n",
      "weighted avg       0.95      0.95      0.95     25898\n",
      "\n"
     ]
    }
   ],
   "source": [
    "#Classification report: \n",
    "print(\"Report : \",classification_report(y_test, y_predict_support))"
   ]
  },
  {
   "cell_type": "code",
   "execution_count": 77,
   "id": "c8e071d3",
   "metadata": {},
   "outputs": [
    {
     "data": {
      "image/png": "[encoded data removed]",
      "text/plain": [
       "<Figure size 360x288 with 2 Axes>"
      ]
     },
     "metadata": {
      "needs_background": "light"
     },
     "output_type": "display_data"
    }
   ],
   "source": [
    "True_False = confusion_matrix(y_test, y_predict_support)\n",
    "cm =[0, 1] # name  of classes\n",
    "fig, ax = plt.subplots(figsize=(5, 4))\n",
    "sns.heatmap(pd.DataFrame(True_False), annot=True, cmap=\"Blues\", fmt='g')\n",
    "ax.xaxis.set_label_position(\"top\")\n",
    "plt.tight_layout()\n",
    "plt.title('SVM Confusion matrix')\n",
    "plt.ylabel('Actual')\n",
    "plt.xlabel('Predicted ')\n",
    "tick_marks = [0.5, 1.5]\n",
    "plt.xticks(tick_marks, cm)\n",
    "plt.yticks(tick_marks, cm);"
   ]
  },
  {
   "cell_type": "markdown",
   "id": "932cad3e",
   "metadata": {},
   "source": [
    "## 7. Stacking Classifier"
   ]
  },
  {
   "cell_type": "code",
   "execution_count": 165,
   "id": "8359ccd4",
   "metadata": {},
   "outputs": [
    {
     "name": "stdout",
     "output_type": "stream",
     "text": [
      "[22:34:06] WARNING: /opt/concourse/worker/volumes/live/7a2b9f41-3287-451b-6691-43e9a6c0910f/volume/xgboost-split_1619728204606/work/src/objective/regression_obj.cu:170: reg:linear is now deprecated in favor of reg:squarederror.\n",
      "[22:40:02] WARNING: /opt/concourse/worker/volumes/live/7a2b9f41-3287-451b-6691-43e9a6c0910f/volume/xgboost-split_1619728204606/work/src/objective/regression_obj.cu:170: reg:linear is now deprecated in favor of reg:squarederror.\n",
      "[22:40:03] WARNING: /opt/concourse/worker/volumes/live/7a2b9f41-3287-451b-6691-43e9a6c0910f/volume/xgboost-split_1619728204606/work/src/objective/regression_obj.cu:170: reg:linear is now deprecated in favor of reg:squarederror.\n",
      "[22:40:03] WARNING: /opt/concourse/worker/volumes/live/7a2b9f41-3287-451b-6691-43e9a6c0910f/volume/xgboost-split_1619728204606/work/src/objective/regression_obj.cu:170: reg:linear is now deprecated in favor of reg:squarederror.\n",
      "[22:40:03] WARNING: /opt/concourse/worker/volumes/live/7a2b9f41-3287-451b-6691-43e9a6c0910f/volume/xgboost-split_1619728204606/work/src/objective/regression_obj.cu:170: reg:linear is now deprecated in favor of reg:squarederror.\n",
      "[22:40:03] WARNING: /opt/concourse/worker/volumes/live/7a2b9f41-3287-451b-6691-43e9a6c0910f/volume/xgboost-split_1619728204606/work/src/objective/regression_obj.cu:170: reg:linear is now deprecated in favor of reg:squarederror.\n"
     ]
    }
   ],
   "source": [
    "warnings.filterwarnings('ignore')\n",
    "\n",
    "knn = KNeighborsClassifier(algorithm='brute', n_neighbors=11)\n",
    "lor_clf = LogisticRegression(solver='liblinear')\n",
    "dt_clf = DecisionTreeClassifier(criterion=\"entropy\", max_depth=12)\n",
    "rf_clf = RandomForestClassifier(criterion='entropy')\n",
    "xg_reg = xgb.XGBClassifier(objective ='reg:linear', colsample_bytree = 0.3, learning_rate = 0.1,\n",
    "                max_depth = 5, alpha = 10, n_estimators = 10)\n",
    "svm_clf = svm.SVC(C=10,kernel='rbf',gamma=0.01) \n",
    "\n",
    "# Get these models in a list\n",
    "estimators = [('KNN', knn),\n",
    "              ('LogisticRegression', lor_clf),\n",
    "              ('DecisionTreeClassifier', dt_clf),\n",
    "              ('RandomForestClassifier', rf_clf),\n",
    "              ('xgboost', xg_reg),\n",
    "              ('Support Vector Machine', svm_clf),\n",
    "             ]\n",
    "#Stack these models with StackingRegressor\n",
    "stacking_clf = StackingClassifier(estimators=estimators) #,final_estimator=lr\n",
    "stacking_clf.fit(X_train,y_train)\n",
    "y_predict_stacking = stacking_clf.predict(X_test)"
   ]
  },
  {
   "cell_type": "code",
   "execution_count": 168,
   "id": "1b181bae",
   "metadata": {},
   "outputs": [
    {
     "name": "stdout",
     "output_type": "stream",
     "text": [
      "              precision    recall  f1-score   support\n",
      "\n",
      "           0       0.96      0.97      0.96     14668\n",
      "           1       0.96      0.94      0.95     11230\n",
      "\n",
      "    accuracy                           0.96     25898\n",
      "   macro avg       0.96      0.96      0.96     25898\n",
      "weighted avg       0.96      0.96      0.96     25898\n",
      "\n"
     ]
    }
   ],
   "source": [
    "print(classification_report(y_test, y_predict_stacking))"
   ]
  },
  {
   "cell_type": "code",
   "execution_count": 167,
   "id": "e2adb6ac",
   "metadata": {},
   "outputs": [
    {
     "data": {
      "image/png": "[encoded data removed]",
      "text/plain": [
       "<Figure size 432x288 with 2 Axes>"
      ]
     },
     "metadata": {
      "needs_background": "light"
     },
     "output_type": "display_data"
    }
   ],
   "source": [
    "matrix = confusion_matrix(y_test, y_predict_stacking)\n",
    "sns.heatmap(matrix, annot=True, fmt=\"d\",cmap='Blues');\n",
    "plt.title('Stacking Confusion Matrix');\n",
    "plt.xlabel('Predicted');\n",
    "plt.ylabel('Actual');"
   ]
  },
  {
   "cell_type": "code",
   "execution_count": 85,
   "id": "b903a6d5",
   "metadata": {},
   "outputs": [
    {
     "data": {
      "image/png": "[encoded data removed]",
      "text/plain": [
       "<Figure size 1440x1080 with 1 Axes>"
      ]
     },
     "metadata": {
      "needs_background": "light"
     },
     "output_type": "display_data"
    }
   ],
   "source": [
    "# K – Nearest Neighbor (KNN) Classification\n",
    "kr_auc = roc_auc_score(y_test, y_pred)\n",
    "kr_fpr, kr_tpr, _ = roc_curve(y_test, y_pred)\n",
    "\n",
    "# logistic classification**\n",
    "lt_auc = roc_auc_score(y_test, y_predict_logistic)\n",
    "lt_fpr, lt_tpr, _ = roc_curve(y_test, y_predict_logistic)\n",
    "\n",
    "# Decision tree\n",
    "dr_auc = roc_auc_score(y_test, y_predict_decision)\n",
    "dt_fpr, dt_tpr, _ = roc_curve(y_test, y_predict_decision)\n",
    "\n",
    "# Random Forest\n",
    "rr_auc = roc_auc_score(y_test, y_predict_randem)\n",
    "rt_fpr, rt_tpr, _ = roc_curve(y_test, y_predict_randem)\n",
    "\n",
    "# Xgboost classification\n",
    "xgr_auc = roc_auc_score(y_test, y_predict_xgboost)\n",
    "xgt_fpr, xgt_tpr, _  = roc_curve(y_test, y_predict_xgboost)\n",
    "\n",
    "# Support Vector machine\n",
    "svm_auc = roc_auc_score(y_test, y_predict_support)\n",
    "svm_fpr, svm_tpr, _  = roc_curve(y_test, y_predict_support)   \n",
    "    \n",
    "# Stacking Classifier\n",
    "st_auc = roc_auc_score(y_test, y_predict_stacking)\n",
    "st_fpr, st_tpr, _  = roc_curve(y_test, y_predict_stacking)\n",
    "plt.figure(figsize=(20, 15))\n",
    "\n",
    "\n",
    "plt.plot(kr_fpr, kr_tpr,  label='K – Nearest Neighbor (KNN) Classification',linewidth = 3)\n",
    "plt.plot(lt_fpr, lt_tpr, label='logistic Classification',linewidth = 3)\n",
    "plt.plot(dt_fpr, dt_tpr,  label='Decision Tree',linewidth = 3)\n",
    "plt.plot(rt_fpr, rt_tpr, label='Random Forest',linewidth = 3)\n",
    "plt.plot(xgt_fpr, xgt_tpr, label='Xgboost Classification',linewidth = 3)\n",
    "plt.plot(svm_fpr, svm_tpr, label='Support Vector machine',linewidth = 3)\n",
    "plt.plot(st_fpr, st_tpr, label='Stacking Classifier',linewidth = 3)\n",
    "\n",
    "#y_predict_logistic\n",
    "plt.xlabel('False Positive Rate')\n",
    "plt.ylabel('True Positive Rate')\n",
    "\n",
    "plt.legend()\n",
    "\n",
    "plt.show()"
   ]
  },
  {
   "cell_type": "markdown",
   "id": "96f14751",
   "metadata": {},
   "source": [
    "## Select Best Features"
   ]
  },
  {
   "cell_type": "code",
   "execution_count": 86,
   "id": "da3980e7",
   "metadata": {},
   "outputs": [
    {
     "data": {
      "image/png": "[encoded data removed]",
      "text/plain": [
       "<Figure size 1080x720 with 2 Axes>"
      ]
     },
     "metadata": {
      "needs_background": "light"
     },
     "output_type": "display_data"
    }
   ],
   "source": [
    "df_matrix = pd.concat([X,y],axis= 1)\n",
    "corr_matrix =df_matrix.corr()\n",
    "top_corr_features = corr_matrix.index\n",
    "plt.figure(figsize=(15,10))\n",
    "#plot heat map\n",
    "g=sns.heatmap(df_matrix[top_corr_features].corr(),annot=True,cmap=\"Blues\")"
   ]
  },
  {
   "cell_type": "code",
   "execution_count": 98,
   "id": "7ded05c6",
   "metadata": {},
   "outputs": [
    {
     "name": "stdout",
     "output_type": "stream",
     "text": [
      "                      Features         Score\n",
      "16  departure_delay_in_minutes  33135.220124\n",
      "7              online_boarding  18273.122258\n",
      "3               customer_class  14807.210713\n",
      "9       inflight_entertainment  10890.229395\n",
      "2               type_of_travel   8101.078880\n",
      "8                 seat_comfort   7955.338267\n",
      "4        inflight_wifi_service   6729.166336\n",
      "10             onboard_service   6586.773161\n",
      "11            leg_room_service   6538.762624\n",
      "15                 cleanliness   6403.763379\n",
      "13             checkin_service   3530.917011\n",
      "6               food_and_drink   3186.533215\n",
      "12            baggage_handling   3069.708745\n",
      "14            inflight_service   2954.850199\n",
      "5       ease_of_online_booking   2626.391764\n",
      "1                customer_type    819.748874\n",
      "0                       Gender      8.683365\n"
     ]
    }
   ],
   "source": [
    "#apply SelectKBest class to extract top 10 best features\n",
    "bestfeatures = SelectKBest(score_func=chi2, k=17)\n",
    "fit = bestfeatures.fit(X,y)\n",
    "dfscores = pd.DataFrame(fit.scores_)\n",
    "dfcolumns = pd.DataFrame(X.columns)\n",
    "#concat two dataframes for better visualization \n",
    "featureScores = pd.concat([dfcolumns,dfscores],axis=1)\n",
    "featureScores.columns = ['Features','Score']  #naming the dataframe columns\n",
    "print(featureScores.nlargest(17,'Score'))  #print 17 best features"
   ]
  },
  {
   "cell_type": "code",
   "execution_count": 99,
   "id": "cc68da0d",
   "metadata": {},
   "outputs": [
    {
     "data": {
      "image/png": "[encoded data removed]",
      "text/plain": [
       "<Figure size 1080x720 with 1 Axes>"
      ]
     },
     "metadata": {
      "needs_background": "light"
     },
     "output_type": "display_data"
    }
   ],
   "source": [
    "plt.figure(figsize=[15, 10])\n",
    "featureScores = featureScores.sort_values(ascending=False, by= 'Score')\n",
    "sns.barplot(x=featureScores.Features.head(9) , y=featureScores.Score.head(9), palette=\"Blues\");\n",
    "plt.xticks(rotation=20);"
   ]
  },
  {
   "cell_type": "code",
   "execution_count": 89,
   "id": "98a1bce4",
   "metadata": {},
   "outputs": [],
   "source": [
    "X_feature = X.copy()\n",
    "y_feature = y.copy()"
   ]
  },
  {
   "cell_type": "code",
   "execution_count": 100,
   "id": "0f8290da",
   "metadata": {},
   "outputs": [
    {
     "ename": "KeyError",
     "evalue": "\"['checkin_service' 'food_and_drink' 'baggage_handling' 'inflight_service'\\n 'ease_of_online_booking' 'customer_type' 'Gender'] not found in axis\"",
     "output_type": "error",
     "traceback": [
      "\u001b[0;31m---------------------------------------------------------------------------\u001b[0m",
      "\u001b[0;31mKeyError\u001b[0m                                  Traceback (most recent call last)",
      "\u001b[0;32m<ipython-input-100-90142dd252fa>\u001b[0m in \u001b[0;36m<module>\u001b[0;34m\u001b[0m\n\u001b[0;32m----> 1\u001b[0;31m \u001b[0mX_feature\u001b[0m\u001b[0;34m.\u001b[0m\u001b[0mdrop\u001b[0m\u001b[0;34m(\u001b[0m\u001b[0;34m[\u001b[0m\u001b[0;34m'checkin_service'\u001b[0m\u001b[0;34m,\u001b[0m\u001b[0;34m'food_and_drink'\u001b[0m\u001b[0;34m,\u001b[0m\u001b[0;34m'baggage_handling'\u001b[0m\u001b[0;34m,\u001b[0m\u001b[0;34m'inflight_service'\u001b[0m\u001b[0;34m,\u001b[0m\u001b[0;34m'ease_of_online_booking'\u001b[0m\u001b[0;34m,\u001b[0m\u001b[0;34m'customer_type'\u001b[0m\u001b[0;34m,\u001b[0m\u001b[0;34m'Gender'\u001b[0m\u001b[0;34m]\u001b[0m\u001b[0;34m,\u001b[0m\u001b[0maxis\u001b[0m\u001b[0;34m=\u001b[0m\u001b[0;36m1\u001b[0m\u001b[0;34m,\u001b[0m\u001b[0minplace\u001b[0m\u001b[0;34m=\u001b[0m\u001b[0;32mTrue\u001b[0m\u001b[0;34m)\u001b[0m\u001b[0;34m\u001b[0m\u001b[0;34m\u001b[0m\u001b[0m\n\u001b[0m",
      "\u001b[0;32m~/opt/anaconda3/lib/python3.8/site-packages/pandas/core/frame.py\u001b[0m in \u001b[0;36mdrop\u001b[0;34m(self, labels, axis, index, columns, level, inplace, errors)\u001b[0m\n\u001b[1;32m   4306\u001b[0m                 \u001b[0mweight\u001b[0m  \u001b[0;36m1.0\u001b[0m     \u001b[0;36m0.8\u001b[0m\u001b[0;34m\u001b[0m\u001b[0;34m\u001b[0m\u001b[0m\n\u001b[1;32m   4307\u001b[0m         \"\"\"\n\u001b[0;32m-> 4308\u001b[0;31m         return super().drop(\n\u001b[0m\u001b[1;32m   4309\u001b[0m             \u001b[0mlabels\u001b[0m\u001b[0;34m=\u001b[0m\u001b[0mlabels\u001b[0m\u001b[0;34m,\u001b[0m\u001b[0;34m\u001b[0m\u001b[0;34m\u001b[0m\u001b[0m\n\u001b[1;32m   4310\u001b[0m             \u001b[0maxis\u001b[0m\u001b[0;34m=\u001b[0m\u001b[0maxis\u001b[0m\u001b[0;34m,\u001b[0m\u001b[0;34m\u001b[0m\u001b[0;34m\u001b[0m\u001b[0m\n",
      "\u001b[0;32m~/opt/anaconda3/lib/python3.8/site-packages/pandas/core/generic.py\u001b[0m in \u001b[0;36mdrop\u001b[0;34m(self, labels, axis, index, columns, level, inplace, errors)\u001b[0m\n\u001b[1;32m   4151\u001b[0m         \u001b[0;32mfor\u001b[0m \u001b[0maxis\u001b[0m\u001b[0;34m,\u001b[0m \u001b[0mlabels\u001b[0m \u001b[0;32min\u001b[0m \u001b[0maxes\u001b[0m\u001b[0;34m.\u001b[0m\u001b[0mitems\u001b[0m\u001b[0;34m(\u001b[0m\u001b[0;34m)\u001b[0m\u001b[0;34m:\u001b[0m\u001b[0;34m\u001b[0m\u001b[0;34m\u001b[0m\u001b[0m\n\u001b[1;32m   4152\u001b[0m             \u001b[0;32mif\u001b[0m \u001b[0mlabels\u001b[0m \u001b[0;32mis\u001b[0m \u001b[0;32mnot\u001b[0m \u001b[0;32mNone\u001b[0m\u001b[0;34m:\u001b[0m\u001b[0;34m\u001b[0m\u001b[0;34m\u001b[0m\u001b[0m\n\u001b[0;32m-> 4153\u001b[0;31m                 \u001b[0mobj\u001b[0m \u001b[0;34m=\u001b[0m \u001b[0mobj\u001b[0m\u001b[0;34m.\u001b[0m\u001b[0m_drop_axis\u001b[0m\u001b[0;34m(\u001b[0m\u001b[0mlabels\u001b[0m\u001b[0;34m,\u001b[0m \u001b[0maxis\u001b[0m\u001b[0;34m,\u001b[0m \u001b[0mlevel\u001b[0m\u001b[0;34m=\u001b[0m\u001b[0mlevel\u001b[0m\u001b[0;34m,\u001b[0m \u001b[0merrors\u001b[0m\u001b[0;34m=\u001b[0m\u001b[0merrors\u001b[0m\u001b[0;34m)\u001b[0m\u001b[0;34m\u001b[0m\u001b[0;34m\u001b[0m\u001b[0m\n\u001b[0m\u001b[1;32m   4154\u001b[0m \u001b[0;34m\u001b[0m\u001b[0m\n\u001b[1;32m   4155\u001b[0m         \u001b[0;32mif\u001b[0m \u001b[0minplace\u001b[0m\u001b[0;34m:\u001b[0m\u001b[0;34m\u001b[0m\u001b[0;34m\u001b[0m\u001b[0m\n",
      "\u001b[0;32m~/opt/anaconda3/lib/python3.8/site-packages/pandas/core/generic.py\u001b[0m in \u001b[0;36m_drop_axis\u001b[0;34m(self, labels, axis, level, errors)\u001b[0m\n\u001b[1;32m   4186\u001b[0m                 \u001b[0mnew_axis\u001b[0m \u001b[0;34m=\u001b[0m \u001b[0maxis\u001b[0m\u001b[0;34m.\u001b[0m\u001b[0mdrop\u001b[0m\u001b[0;34m(\u001b[0m\u001b[0mlabels\u001b[0m\u001b[0;34m,\u001b[0m \u001b[0mlevel\u001b[0m\u001b[0;34m=\u001b[0m\u001b[0mlevel\u001b[0m\u001b[0;34m,\u001b[0m \u001b[0merrors\u001b[0m\u001b[0;34m=\u001b[0m\u001b[0merrors\u001b[0m\u001b[0;34m)\u001b[0m\u001b[0;34m\u001b[0m\u001b[0;34m\u001b[0m\u001b[0m\n\u001b[1;32m   4187\u001b[0m             \u001b[0;32melse\u001b[0m\u001b[0;34m:\u001b[0m\u001b[0;34m\u001b[0m\u001b[0;34m\u001b[0m\u001b[0m\n\u001b[0;32m-> 4188\u001b[0;31m                 \u001b[0mnew_axis\u001b[0m \u001b[0;34m=\u001b[0m \u001b[0maxis\u001b[0m\u001b[0;34m.\u001b[0m\u001b[0mdrop\u001b[0m\u001b[0;34m(\u001b[0m\u001b[0mlabels\u001b[0m\u001b[0;34m,\u001b[0m \u001b[0merrors\u001b[0m\u001b[0;34m=\u001b[0m\u001b[0merrors\u001b[0m\u001b[0;34m)\u001b[0m\u001b[0;34m\u001b[0m\u001b[0;34m\u001b[0m\u001b[0m\n\u001b[0m\u001b[1;32m   4189\u001b[0m             \u001b[0mresult\u001b[0m \u001b[0;34m=\u001b[0m \u001b[0mself\u001b[0m\u001b[0;34m.\u001b[0m\u001b[0mreindex\u001b[0m\u001b[0;34m(\u001b[0m\u001b[0;34m**\u001b[0m\u001b[0;34m{\u001b[0m\u001b[0maxis_name\u001b[0m\u001b[0;34m:\u001b[0m \u001b[0mnew_axis\u001b[0m\u001b[0;34m}\u001b[0m\u001b[0;34m)\u001b[0m\u001b[0;34m\u001b[0m\u001b[0;34m\u001b[0m\u001b[0m\n\u001b[1;32m   4190\u001b[0m \u001b[0;34m\u001b[0m\u001b[0m\n",
      "\u001b[0;32m~/opt/anaconda3/lib/python3.8/site-packages/pandas/core/indexes/base.py\u001b[0m in \u001b[0;36mdrop\u001b[0;34m(self, labels, errors)\u001b[0m\n\u001b[1;32m   5589\u001b[0m         \u001b[0;32mif\u001b[0m \u001b[0mmask\u001b[0m\u001b[0;34m.\u001b[0m\u001b[0many\u001b[0m\u001b[0;34m(\u001b[0m\u001b[0;34m)\u001b[0m\u001b[0;34m:\u001b[0m\u001b[0;34m\u001b[0m\u001b[0;34m\u001b[0m\u001b[0m\n\u001b[1;32m   5590\u001b[0m             \u001b[0;32mif\u001b[0m \u001b[0merrors\u001b[0m \u001b[0;34m!=\u001b[0m \u001b[0;34m\"ignore\"\u001b[0m\u001b[0;34m:\u001b[0m\u001b[0;34m\u001b[0m\u001b[0;34m\u001b[0m\u001b[0m\n\u001b[0;32m-> 5591\u001b[0;31m                 \u001b[0;32mraise\u001b[0m \u001b[0mKeyError\u001b[0m\u001b[0;34m(\u001b[0m\u001b[0;34mf\"{labels[mask]} not found in axis\"\u001b[0m\u001b[0;34m)\u001b[0m\u001b[0;34m\u001b[0m\u001b[0;34m\u001b[0m\u001b[0m\n\u001b[0m\u001b[1;32m   5592\u001b[0m             \u001b[0mindexer\u001b[0m \u001b[0;34m=\u001b[0m \u001b[0mindexer\u001b[0m\u001b[0;34m[\u001b[0m\u001b[0;34m~\u001b[0m\u001b[0mmask\u001b[0m\u001b[0;34m]\u001b[0m\u001b[0;34m\u001b[0m\u001b[0;34m\u001b[0m\u001b[0m\n\u001b[1;32m   5593\u001b[0m         \u001b[0;32mreturn\u001b[0m \u001b[0mself\u001b[0m\u001b[0;34m.\u001b[0m\u001b[0mdelete\u001b[0m\u001b[0;34m(\u001b[0m\u001b[0mindexer\u001b[0m\u001b[0;34m)\u001b[0m\u001b[0;34m\u001b[0m\u001b[0;34m\u001b[0m\u001b[0m\n",
      "\u001b[0;31mKeyError\u001b[0m: \"['checkin_service' 'food_and_drink' 'baggage_handling' 'inflight_service'\\n 'ease_of_online_booking' 'customer_type' 'Gender'] not found in axis\""
     ]
    }
   ],
   "source": [
    "X_feature.drop(['checkin_service','food_and_drink','baggage_handling','inflight_service','ease_of_online_booking','customer_type','Gender'],axis=1,inplace=True)"
   ]
  },
  {
   "cell_type": "code",
   "execution_count": 101,
   "id": "6944c1d8",
   "metadata": {},
   "outputs": [],
   "source": [
    "Xf_train, Xf_test, yf_train, yf_test = train_test_split(X_feature, y_feature, test_size = 0.2,random_state=42)"
   ]
  },
  {
   "cell_type": "code",
   "execution_count": 102,
   "id": "82000ebb",
   "metadata": {},
   "outputs": [],
   "source": [
    "sc = StandardScaler()\n",
    "Xf_train = sc.fit_transform(Xf_train)\n",
    "Xf_test = sc.transform (Xf_test)"
   ]
  },
  {
   "cell_type": "markdown",
   "id": "5f2eb404",
   "metadata": {},
   "source": [
    "## Selecting best features"
   ]
  },
  {
   "cell_type": "markdown",
   "id": "227803c4",
   "metadata": {},
   "source": [
    "## 1. KNN"
   ]
  },
  {
   "cell_type": "code",
   "execution_count": 137,
   "id": "d4b91182",
   "metadata": {},
   "outputs": [
    {
     "data": {
      "text/plain": [
       "KNeighborsClassifier(algorithm='brute', n_neighbors=11)"
      ]
     },
     "execution_count": 137,
     "metadata": {},
     "output_type": "execute_result"
    }
   ],
   "source": [
    "from sklearn.neighbors import KNeighborsClassifier\n",
    "knn_clf = KNeighborsClassifier(algorithm='brute', n_neighbors=11)\n",
    "knn_clf.fit(Xf_train,yf_train)"
   ]
  },
  {
   "cell_type": "code",
   "execution_count": 138,
   "id": "c60276b1",
   "metadata": {},
   "outputs": [
    {
     "name": "stdout",
     "output_type": "stream",
     "text": [
      "Prediction for test set: [1 0 0 ... 1 1 0]\n"
     ]
    }
   ],
   "source": [
    "#Prediction of test set\n",
    "yf_pred = knn_clf.predict(Xf_test)\n",
    "#print the predicted values\n",
    "print(\"Prediction for test set: {}\".format(yf_pred))"
   ]
  },
  {
   "cell_type": "code",
   "execution_count": 139,
   "id": "353575de",
   "metadata": {},
   "outputs": [
    {
     "name": "stdout",
     "output_type": "stream",
     "text": [
      "Report :                precision    recall  f1-score   support\n",
      "\n",
      "           0       0.92      0.95      0.94     14668\n",
      "           1       0.94      0.89      0.91     11230\n",
      "\n",
      "    accuracy                           0.93     25898\n",
      "   macro avg       0.93      0.92      0.93     25898\n",
      "weighted avg       0.93      0.93      0.93     25898\n",
      "\n"
     ]
    }
   ],
   "source": [
    "print(\"Report : \",classification_report(yf_test, yf_pred ))"
   ]
  },
  {
   "cell_type": "code",
   "execution_count": 140,
   "id": "6e9bcc83",
   "metadata": {},
   "outputs": [
    {
     "data": {
      "image/png": "[encoded data removed]",
      "text/plain": [
       "<Figure size 360x288 with 2 Axes>"
      ]
     },
     "metadata": {
      "needs_background": "light"
     },
     "output_type": "display_data"
    }
   ],
   "source": [
    "knn_cm = confusion_matrix(yf_test, yf_pred)\n",
    "class_names=[0, 1] # name  of classes\n",
    "fig, ax = plt.subplots(figsize=(5, 4))\n",
    "sns.heatmap(pd.DataFrame(knn_cm), annot=True, cmap=\"Blues\", fmt='g')\n",
    "ax.xaxis.set_label_position(\"top\")\n",
    "plt.tight_layout()\n",
    "plt.title('KNN using select feature confusion matrix')\n",
    "plt.ylabel('Actual')\n",
    "plt.xlabel('Predicted')\n",
    "tick_marks = [0.5, 1.5]\n",
    "plt.xticks(tick_marks, class_names)\n",
    "plt.yticks(tick_marks, class_names);"
   ]
  },
  {
   "cell_type": "markdown",
   "id": "536dfc13",
   "metadata": {},
   "source": [
    "## 2.Logistic Regression"
   ]
  },
  {
   "cell_type": "code",
   "execution_count": 109,
   "id": "868b1179",
   "metadata": {},
   "outputs": [
    {
     "name": "stdout",
     "output_type": "stream",
     "text": [
      "Report :                precision    recall  f1-score   support\n",
      "\n",
      "           0       0.86      0.88      0.87     14668\n",
      "           1       0.84      0.82      0.83     11230\n",
      "\n",
      "    accuracy                           0.85     25898\n",
      "   macro avg       0.85      0.85      0.85     25898\n",
      "weighted avg       0.85      0.85      0.85     25898\n",
      "\n"
     ]
    }
   ],
   "source": [
    "lor_clf = LogisticRegression(solver='liblinear')\n",
    "\n",
    "## fit the model with \"train_x\" and \"train_y\"\n",
    "lor_clf.fit(Xf_train,yf_train)\n",
    "\n",
    "## Once the model is trained we want to find out how well the model is performing, so we test the model. \n",
    "## we use \"test_x\" portion of the data(this data was not used to fit the model) to predict model outcome. \n",
    "yf_predict_logistic = lor_clf.predict(Xf_test)\n",
    "\n",
    "#Classification_report:\n",
    "print(\"Report : \",classification_report(yf_test, yf_predict_logistic))"
   ]
  },
  {
   "cell_type": "code",
   "execution_count": 111,
   "id": "2347f133",
   "metadata": {},
   "outputs": [
    {
     "data": {
      "image/png": "[encoded data removed]",
      "text/plain": [
       "<Figure size 360x288 with 2 Axes>"
      ]
     },
     "metadata": {
      "needs_background": "light"
     },
     "output_type": "display_data"
    }
   ],
   "source": [
    "cm = confusion_matrix(yf_test, yf_predict_logistic)\n",
    "class_names=[0, 1] # name  of classes\n",
    "fig, ax = plt.subplots(figsize=(5, 4))\n",
    "sns.heatmap(pd.DataFrame(cm), annot=True, cmap=\"Blues\", fmt='g')\n",
    "ax.xaxis.set_label_position(\"top\")\n",
    "plt.tight_layout()\n",
    "plt.title('Log Reg after feature selection confusion matrix')\n",
    "plt.ylabel('Actual')\n",
    "plt.xlabel('Predicted')\n",
    "tick_marks = [0.5, 1.5]\n",
    "plt.xticks(tick_marks, class_names)\n",
    "plt.yticks(tick_marks, class_names);"
   ]
  },
  {
   "cell_type": "markdown",
   "id": "5056bd8d",
   "metadata": {},
   "source": [
    "## 3. Decision Tree"
   ]
  },
  {
   "cell_type": "code",
   "execution_count": 112,
   "id": "2a38189b",
   "metadata": {},
   "outputs": [],
   "source": [
    "dt_clf = DecisionTreeClassifier(criterion=\"entropy\", max_depth=12)\n",
    "\n",
    "#Train Decision Tree Classifer\n",
    "dt_clf.fit(Xf_train,yf_train)\n",
    "\n",
    "#Predict the response for test dataset\n",
    "yf_predict_decision = dt_clf.predict(Xf_test)"
   ]
  },
  {
   "cell_type": "code",
   "execution_count": 113,
   "id": "e31b51bf",
   "metadata": {},
   "outputs": [
    {
     "name": "stdout",
     "output_type": "stream",
     "text": [
      "Report:               precision    recall  f1-score   support\n",
      "\n",
      "           0       0.93      0.96      0.94     14668\n",
      "           1       0.94      0.91      0.93     11230\n",
      "\n",
      "    accuracy                           0.94     25898\n",
      "   macro avg       0.94      0.93      0.93     25898\n",
      "weighted avg       0.94      0.94      0.94     25898\n",
      "\n"
     ]
    }
   ],
   "source": [
    "print(\"Report:\",classification_report(yf_test, yf_predict_decision))"
   ]
  },
  {
   "cell_type": "code",
   "execution_count": 114,
   "id": "10be6332",
   "metadata": {},
   "outputs": [
    {
     "data": {
      "image/png": "[encoded data removed]",
      "text/plain": [
       "<Figure size 360x288 with 2 Axes>"
      ]
     },
     "metadata": {
      "needs_background": "light"
     },
     "output_type": "display_data"
    }
   ],
   "source": [
    "dec_cm = confusion_matrix(yf_test, yf_predict_decision)\n",
    "class_names=[0,1] # name  of classes\n",
    "fig, ax = plt.subplots(figsize=(5, 4))\n",
    "sns.heatmap(pd.DataFrame(dec_cm), annot=True, cmap=\"Blues\", fmt='g')\n",
    "ax.xaxis.set_label_position(\"top\")\n",
    "plt.tight_layout()\n",
    "plt.title('DecisionTree after feature selection confusion matrix')\n",
    "plt.ylabel('Actual label')\n",
    "plt.xlabel('Predicted label')\n",
    "tick_marks = [0.5, 1.5]\n",
    "plt.xticks(tick_marks, class_names)\n",
    "plt.yticks(tick_marks, class_names);"
   ]
  },
  {
   "cell_type": "markdown",
   "id": "16b3b655",
   "metadata": {},
   "source": [
    "## 4. Random Forest"
   ]
  },
  {
   "cell_type": "code",
   "execution_count": 124,
   "id": "d95dcb02",
   "metadata": {},
   "outputs": [],
   "source": [
    "clf = RandomForestClassifier(criterion='entropy')\n",
    "# Training the model on the training dataset\n",
    "# fit function is used to train the model using the training sets as parameters\n",
    "clf.fit(Xf_train,yf_train)\n",
    "# performing predictions on the test dataset\n",
    "yf_predict_randem = clf.predict(Xf_test)"
   ]
  },
  {
   "cell_type": "code",
   "execution_count": 125,
   "id": "a3948752",
   "metadata": {},
   "outputs": [
    {
     "name": "stdout",
     "output_type": "stream",
     "text": [
      "Report :                precision    recall  f1-score   support\n",
      "\n",
      "           0       0.94      0.95      0.94     14668\n",
      "           1       0.93      0.92      0.93     11230\n",
      "\n",
      "    accuracy                           0.94     25898\n",
      "   macro avg       0.94      0.93      0.93     25898\n",
      "weighted avg       0.94      0.94      0.94     25898\n",
      "\n"
     ]
    }
   ],
   "source": [
    "accuracy_score(yf_test,yf_predict_randem)\n",
    "# using metrics module for accuracy calculation\n",
    "print(\"Report : \",classification_report(yf_test, yf_predict_randem))"
   ]
  },
  {
   "cell_type": "code",
   "execution_count": 127,
   "id": "221832d4",
   "metadata": {},
   "outputs": [
    {
     "data": {
      "image/png": "[encoded data removed]",
      "text/plain": [
       "<Figure size 360x288 with 2 Axes>"
      ]
     },
     "metadata": {
      "needs_background": "light"
     },
     "output_type": "display_data"
    }
   ],
   "source": [
    "rf_cm = confusion_matrix(yf_test, yf_predict_randem)\n",
    "class_names=[0, 1] # name  of classes\n",
    "fig, ax = plt.subplots(figsize=(5, 4))\n",
    "sns.heatmap(pd.DataFrame(rf_cm), annot=True, cmap=\"Blues\", fmt='g')\n",
    "#YlGnBu\n",
    "ax.xaxis.set_label_position(\"top\")\n",
    "plt.tight_layout()\n",
    "plt.title('RF after feature selection confusion matrix')\n",
    "plt.ylabel('Actual')\n",
    "plt.xlabel('Predicted')\n",
    "tick_marks = [0.5, 1.5]\n",
    "plt.xticks(tick_marks, class_names)\n",
    "plt.yticks(tick_marks, class_names);"
   ]
  },
  {
   "cell_type": "markdown",
   "id": "48cfa0cf",
   "metadata": {},
   "source": [
    "## 5. XGboost"
   ]
  },
  {
   "cell_type": "code",
   "execution_count": 129,
   "id": "29dfc880",
   "metadata": {},
   "outputs": [
    {
     "name": "stderr",
     "output_type": "stream",
     "text": [
      "/Users/aljoharahabdullaziz/opt/anaconda3/lib/python3.8/site-packages/xgboost/sklearn.py:888: UserWarning: The use of label encoder in XGBClassifier is deprecated and will be removed in a future release. To remove this warning, do the following: 1) Pass option use_label_encoder=False when constructing XGBClassifier object; and 2) Encode your labels (y) as integers starting with 0, i.e. 0, 1, 2, ..., [num_class - 1].\n",
      "  warnings.warn(label_encoder_deprecation_msg, UserWarning)\n"
     ]
    },
    {
     "name": "stdout",
     "output_type": "stream",
     "text": [
      "[21:52:14] WARNING: /opt/concourse/worker/volumes/live/7a2b9f41-3287-451b-6691-43e9a6c0910f/volume/xgboost-split_1619728204606/work/src/objective/regression_obj.cu:170: reg:linear is now deprecated in favor of reg:squarederror.\n"
     ]
    }
   ],
   "source": [
    "warnings.filterwarnings('ignore')\n",
    "scaler = StandardScaler()\n",
    "Xf_train = scaler.fit_transform(Xf_train)\n",
    "Xf_test = scaler.transform(Xf_test)\n",
    "\n",
    "xgb_clf = xgb.XGBClassifier(objective ='reg:linear', colsample_bytree = 0.3, learning_rate = 0.1,\n",
    "                max_depth = 5, alpha = 10, n_estimators = 10)\n",
    "\n",
    "xgb_clf.fit(Xf_train,yf_train)\n",
    "yf_predict_xgboost = xgb_clf.predict(Xf_test)"
   ]
  },
  {
   "cell_type": "code",
   "execution_count": 130,
   "id": "4165772a",
   "metadata": {},
   "outputs": [
    {
     "name": "stdout",
     "output_type": "stream",
     "text": [
      "Report :                precision    recall  f1-score   support\n",
      "\n",
      "           0       0.86      0.92      0.89     14668\n",
      "           1       0.89      0.81      0.85     11230\n",
      "\n",
      "    accuracy                           0.87     25898\n",
      "   macro avg       0.88      0.87      0.87     25898\n",
      "weighted avg       0.88      0.87      0.87     25898\n",
      "\n"
     ]
    }
   ],
   "source": [
    "print(\"Report : \",classification_report(yf_test, yf_predict_xgboost))"
   ]
  },
  {
   "cell_type": "code",
   "execution_count": 132,
   "id": "c4cfb933",
   "metadata": {},
   "outputs": [
    {
     "data": {
      "image/png": "[encoded data removed]",
      "text/plain": [
       "<Figure size 360x288 with 2 Axes>"
      ]
     },
     "metadata": {
      "needs_background": "light"
     },
     "output_type": "display_data"
    }
   ],
   "source": [
    "xgb_cm = confusion_matrix(yf_test, yf_predict_xgboost)\n",
    "class_names=[False, True] # name  of classes\n",
    "fig, ax = plt.subplots(figsize=(5, 4))\n",
    "sns.heatmap(pd.DataFrame(xgb_cm), annot=True, cmap=\"Blues\", fmt='g')\n",
    "ax.xaxis.set_label_position(\"top\")\n",
    "plt.tight_layout()\n",
    "plt.title('XGboost after feature selection confusion matrix')\n",
    "plt.ylabel('Actual ')\n",
    "plt.xlabel('Predicted')\n",
    "tick_marks = [0.5, 1.5]\n",
    "plt.xticks(tick_marks, class_names)\n",
    "plt.yticks(tick_marks, class_names);"
   ]
  },
  {
   "cell_type": "markdown",
   "id": "5bd3d2d8",
   "metadata": {},
   "source": [
    "## 6. Support Vector Machine"
   ]
  },
  {
   "cell_type": "code",
   "execution_count": 134,
   "id": "ab7fad35",
   "metadata": {},
   "outputs": [],
   "source": [
    "#Create a svm Classifier\n",
    "svm_clf = svm.SVC(C=10,kernel='rbf',gamma=0.01) \n",
    "\n",
    "#Train the model using the training sets\n",
    "svm_clf.fit(Xf_train, yf_train)\n",
    "\n",
    "#Predict the response for test dataset\n",
    "yf_predict_support = svm_clf.predict(Xf_test)"
   ]
  },
  {
   "cell_type": "code",
   "execution_count": 135,
   "id": "078e5714",
   "metadata": {},
   "outputs": [
    {
     "name": "stdout",
     "output_type": "stream",
     "text": [
      "Report :                precision    recall  f1-score   support\n",
      "\n",
      "           0       0.93      0.93      0.93     14668\n",
      "           1       0.91      0.91      0.91     11230\n",
      "\n",
      "    accuracy                           0.92     25898\n",
      "   macro avg       0.92      0.92      0.92     25898\n",
      "weighted avg       0.92      0.92      0.92     25898\n",
      "\n"
     ]
    }
   ],
   "source": [
    "#Classification report: \n",
    "print(\"Report : \",classification_report(yf_test, yf_predict_support))"
   ]
  },
  {
   "cell_type": "code",
   "execution_count": 136,
   "id": "f3b82a40",
   "metadata": {},
   "outputs": [
    {
     "data": {
      "image/png": "[encoded data removed]",
      "text/plain": [
       "<Figure size 360x288 with 2 Axes>"
      ]
     },
     "metadata": {
      "needs_background": "light"
     },
     "output_type": "display_data"
    }
   ],
   "source": [
    "svm_cm = confusion_matrix(yf_test, yf_predict_support)\n",
    "cm =[0, 1] # name  of classes\n",
    "fig, ax = plt.subplots(figsize=(5, 4))\n",
    "sns.heatmap(pd.DataFrame(svm_cm), annot=True, cmap=\"Blues\", fmt='g')\n",
    "ax.xaxis.set_label_position(\"top\")\n",
    "plt.tight_layout()\n",
    "plt.title('SVM after features selection confusion matrix')\n",
    "plt.ylabel('Actual')\n",
    "plt.xlabel('Predicted ')\n",
    "tick_marks = [0.5, 1.5]\n",
    "plt.xticks(tick_marks, cm)\n",
    "plt.yticks(tick_marks, cm);"
   ]
  },
  {
   "cell_type": "markdown",
   "id": "144bcd88",
   "metadata": {},
   "source": [
    "## Stacking best feature selection"
   ]
  },
  {
   "cell_type": "code",
   "execution_count": 142,
   "id": "e8953663",
   "metadata": {},
   "outputs": [
    {
     "name": "stderr",
     "output_type": "stream",
     "text": [
      "/Users/aljoharahabdullaziz/opt/anaconda3/lib/python3.8/site-packages/xgboost/sklearn.py:888: UserWarning: The use of label encoder in XGBClassifier is deprecated and will be removed in a future release. To remove this warning, do the following: 1) Pass option use_label_encoder=False when constructing XGBClassifier object; and 2) Encode your labels (y) as integers starting with 0, i.e. 0, 1, 2, ..., [num_class - 1].\n",
      "  warnings.warn(label_encoder_deprecation_msg, UserWarning)\n"
     ]
    },
    {
     "name": "stdout",
     "output_type": "stream",
     "text": [
      "[22:06:09] WARNING: /opt/concourse/worker/volumes/live/7a2b9f41-3287-451b-6691-43e9a6c0910f/volume/xgboost-split_1619728204606/work/src/objective/regression_obj.cu:170: reg:linear is now deprecated in favor of reg:squarederror.\n"
     ]
    },
    {
     "name": "stderr",
     "output_type": "stream",
     "text": [
      "/Users/aljoharahabdullaziz/opt/anaconda3/lib/python3.8/site-packages/xgboost/sklearn.py:888: UserWarning: The use of label encoder in XGBClassifier is deprecated and will be removed in a future release. To remove this warning, do the following: 1) Pass option use_label_encoder=False when constructing XGBClassifier object; and 2) Encode your labels (y) as integers starting with 0, i.e. 0, 1, 2, ..., [num_class - 1].\n",
      "  warnings.warn(label_encoder_deprecation_msg, UserWarning)\n",
      "/Users/aljoharahabdullaziz/opt/anaconda3/lib/python3.8/site-packages/xgboost/sklearn.py:888: UserWarning: The use of label encoder in XGBClassifier is deprecated and will be removed in a future release. To remove this warning, do the following: 1) Pass option use_label_encoder=False when constructing XGBClassifier object; and 2) Encode your labels (y) as integers starting with 0, i.e. 0, 1, 2, ..., [num_class - 1].\n",
      "  warnings.warn(label_encoder_deprecation_msg, UserWarning)\n"
     ]
    },
    {
     "name": "stdout",
     "output_type": "stream",
     "text": [
      "[22:11:48] WARNING: /opt/concourse/worker/volumes/live/7a2b9f41-3287-451b-6691-43e9a6c0910f/volume/xgboost-split_1619728204606/work/src/objective/regression_obj.cu:170: reg:linear is now deprecated in favor of reg:squarederror.\n",
      "[22:11:49] WARNING: /opt/concourse/worker/volumes/live/7a2b9f41-3287-451b-6691-43e9a6c0910f/volume/xgboost-split_1619728204606/work/src/objective/regression_obj.cu:170: reg:linear is now deprecated in favor of reg:squarederror.\n"
     ]
    },
    {
     "name": "stderr",
     "output_type": "stream",
     "text": [
      "/Users/aljoharahabdullaziz/opt/anaconda3/lib/python3.8/site-packages/xgboost/sklearn.py:888: UserWarning: The use of label encoder in XGBClassifier is deprecated and will be removed in a future release. To remove this warning, do the following: 1) Pass option use_label_encoder=False when constructing XGBClassifier object; and 2) Encode your labels (y) as integers starting with 0, i.e. 0, 1, 2, ..., [num_class - 1].\n",
      "  warnings.warn(label_encoder_deprecation_msg, UserWarning)\n",
      "/Users/aljoharahabdullaziz/opt/anaconda3/lib/python3.8/site-packages/xgboost/sklearn.py:888: UserWarning: The use of label encoder in XGBClassifier is deprecated and will be removed in a future release. To remove this warning, do the following: 1) Pass option use_label_encoder=False when constructing XGBClassifier object; and 2) Encode your labels (y) as integers starting with 0, i.e. 0, 1, 2, ..., [num_class - 1].\n",
      "  warnings.warn(label_encoder_deprecation_msg, UserWarning)\n"
     ]
    },
    {
     "name": "stdout",
     "output_type": "stream",
     "text": [
      "[22:11:49] WARNING: /opt/concourse/worker/volumes/live/7a2b9f41-3287-451b-6691-43e9a6c0910f/volume/xgboost-split_1619728204606/work/src/objective/regression_obj.cu:170: reg:linear is now deprecated in favor of reg:squarederror.\n",
      "[22:11:49] WARNING: /opt/concourse/worker/volumes/live/7a2b9f41-3287-451b-6691-43e9a6c0910f/volume/xgboost-split_1619728204606/work/src/objective/regression_obj.cu:170: reg:linear is now deprecated in favor of reg:squarederror.\n"
     ]
    },
    {
     "name": "stderr",
     "output_type": "stream",
     "text": [
      "/Users/aljoharahabdullaziz/opt/anaconda3/lib/python3.8/site-packages/xgboost/sklearn.py:888: UserWarning: The use of label encoder in XGBClassifier is deprecated and will be removed in a future release. To remove this warning, do the following: 1) Pass option use_label_encoder=False when constructing XGBClassifier object; and 2) Encode your labels (y) as integers starting with 0, i.e. 0, 1, 2, ..., [num_class - 1].\n",
      "  warnings.warn(label_encoder_deprecation_msg, UserWarning)\n"
     ]
    },
    {
     "name": "stdout",
     "output_type": "stream",
     "text": [
      "[22:11:49] WARNING: /opt/concourse/worker/volumes/live/7a2b9f41-3287-451b-6691-43e9a6c0910f/volume/xgboost-split_1619728204606/work/src/objective/regression_obj.cu:170: reg:linear is now deprecated in favor of reg:squarederror.\n"
     ]
    }
   ],
   "source": [
    "warnings.filterwarnings('ignore')\n",
    "knn_clf = KNeighborsClassifier(algorithm='brute', n_neighbors=11)\n",
    "lor_clf = LogisticRegression(solver='liblinear')\n",
    "dt_clf = DecisionTreeClassifier(criterion=\"entropy\", max_depth=12)\n",
    "rf_clf = RandomForestClassifier(criterion='entropy')\n",
    "xg_reg = xgb.XGBClassifier(objective ='reg:linear', colsample_bytree = 0.3, learning_rate = 0.1,\n",
    "                max_depth = 5, alpha = 10, n_estimators = 10)\n",
    "svm_clf = svm.SVC(C=10,kernel='rbf',gamma=0.01) \n",
    "\n",
    "# Get these models in a list\n",
    "estimators = [('KNN', knn_clf),\n",
    "              ('LogisticRegression', lor_clf),\n",
    "              ('DecisionTreeClassifier', dt_clf),\n",
    "              ('RandomForestClassifier', rf_clf),\n",
    "              ('xgboost', xg_reg),\n",
    "              ('Support Vector Machine', svm_clf),\n",
    "             ]\n",
    "#Stack these models with StackingRegressor\n",
    "stacking_clf = StackingClassifier(estimators=estimators) #,final_estimator=lr\n",
    "stacking_clf.fit(Xf_train,yf_train)\n",
    "yf_predict_stacking = stacking_clf.predict(Xf_test)"
   ]
  },
  {
   "cell_type": "code",
   "execution_count": 144,
   "id": "e0b4aed0",
   "metadata": {},
   "outputs": [
    {
     "name": "stdout",
     "output_type": "stream",
     "text": [
      "              precision    recall  f1-score   support\n",
      "\n",
      "           0       0.94      0.95      0.95     14668\n",
      "           1       0.94      0.92      0.93     11230\n",
      "\n",
      "    accuracy                           0.94     25898\n",
      "   macro avg       0.94      0.94      0.94     25898\n",
      "weighted avg       0.94      0.94      0.94     25898\n",
      "\n"
     ]
    }
   ],
   "source": [
    "print(classification_report(yf_test, yf_predict_stacking))"
   ]
  },
  {
   "cell_type": "code",
   "execution_count": 145,
   "id": "cde533ba",
   "metadata": {},
   "outputs": [
    {
     "data": {
      "image/png": "[encoded data removed]",
      "text/plain": [
       "<Figure size 432x288 with 2 Axes>"
      ]
     },
     "metadata": {
      "needs_background": "light"
     },
     "output_type": "display_data"
    }
   ],
   "source": [
    "matrix = confusion_matrix(yf_test, yf_predict_stacking)\n",
    "sns.heatmap(matrix, annot=True, fmt=\"d\",cmap='Blues');\n",
    "plt.title('Stacking selecting best features confusion matrix');\n",
    "plt.xlabel('Predicted');\n",
    "plt.ylabel('Actual');"
   ]
  }
 ],
 "metadata": {
  "kernelspec": {
   "display_name": "Python 3",
   "language": "python",
   "name": "python3"
  },
  "language_info": {
   "codemirror_mode": {
    "name": "ipython",
    "version": 3
   },
   "file_extension": ".py",
   "mimetype": "text/x-python",
   "name": "python",
   "nbconvert_exporter": "python",
   "pygments_lexer": "ipython3",
   "version": "3.8.8"
  }
 },
 "nbformat": 4,
 "nbformat_minor": 5
}
